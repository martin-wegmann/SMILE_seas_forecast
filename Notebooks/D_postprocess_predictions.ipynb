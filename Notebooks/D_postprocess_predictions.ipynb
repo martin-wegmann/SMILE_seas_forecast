{
 "cells": [
  {
   "cell_type": "markdown",
   "id": "close-romania",
   "metadata": {},
   "source": [
    "## Authors\n",
    "* Martin Wegmann (martin.wegmann@unibe.ch)"
   ]
  },
  {
   "cell_type": "markdown",
   "id": "sized-frequency",
   "metadata": {},
   "source": [
    "The goal of this notebook is to postprocess 20CRv3, ERA20C, the forecasts created by ML and the ASF20C data for further analysis and comparison. "
   ]
  },
  {
   "cell_type": "markdown",
   "id": "7cc50c81-0245-4ec5-b9b5-12275de3cd1c",
   "metadata": {},
   "source": [
    "### importing libraries"
   ]
  },
  {
   "cell_type": "code",
   "execution_count": null,
   "id": "841fc3ae-4f19-42d0-bdf3-79301006356e",
   "metadata": {},
   "outputs": [],
   "source": [
    "import numpy as np\n",
    "import pandas as pd\n",
    "import xarray as xr\n",
    "import cdo\n",
    "CDO = cdo.Cdo()\n",
    "import netCDF4\n",
    "import os\n",
    "import datetime\n",
    "import matplotlib.pyplot as plt \n",
    "from matplotlib import cm\n",
    "import cartopy.crs as ccrs\n",
    "from scipy import stats\n",
    "from plotly.subplots import make_subplots\n",
    "import plotly.graph_objects as go\n",
    "import plotly_express as px\n",
    "import shutil\n",
    "import xskillscore as xs\n",
    "import shutil\n",
    "import os.path\n",
    "from os import path\n",
    "import xarray_regrid"
   ]
  },
  {
   "cell_type": "markdown",
   "id": "b18ccfbe-517f-40cc-b954-1a8979827639",
   "metadata": {},
   "source": [
    "### setting folders"
   ]
  },
  {
   "cell_type": "code",
   "execution_count": null,
   "id": "orange-dominican",
   "metadata": {},
   "outputs": [],
   "source": [
    "folder_ML_fields=\"/Volumes/SPARK/CNN_seaspredc_analysis/ml_predicted_fields/\""
   ]
  },
  {
   "cell_type": "code",
   "execution_count": null,
   "id": "legendary-formula",
   "metadata": {},
   "outputs": [],
   "source": [
    "folder_asf_fields=\"/Volumes/SPARK/CNN_seaspredc_analysis/asf20c_fields_postprocessed/\""
   ]
  },
  {
   "cell_type": "code",
   "execution_count": null,
   "id": "03943925-09ae-44cd-85e1-f48d94bd9a7b",
   "metadata": {},
   "outputs": [],
   "source": [
    "asf20c_input_folder=\"/Volumes/SPARK/afs20c/\""
   ]
  },
  {
   "cell_type": "code",
   "execution_count": null,
   "id": "affected-optimization",
   "metadata": {},
   "outputs": [],
   "source": [
    "folder_ML_fields_postprocessed=\"/Volumes/SPARK/CNN_seaspredc_analysis/ml_predicted_fields_postprocessed/\""
   ]
  },
  {
   "cell_type": "code",
   "execution_count": null,
   "id": "incorrect-cargo",
   "metadata": {},
   "outputs": [],
   "source": [
    "folder_20crv3_fields_postprocessed=\"/Volumes/SPARK/CNN_seaspredc_analysis/20crv3_fields/\""
   ]
  },
  {
   "cell_type": "code",
   "execution_count": null,
   "id": "refined-stationery",
   "metadata": {},
   "outputs": [],
   "source": [
    "folder_20crv3_fields=\"/Volumes/SPARK/20crv3/\""
   ]
  },
  {
   "cell_type": "code",
   "execution_count": null,
   "id": "7438e77b-31ea-4e0d-b7a7-ab6939afa99f",
   "metadata": {},
   "outputs": [],
   "source": [
    "folder_era20c_fields=\"/Volumes/SPARK/era20c/\""
   ]
  },
  {
   "cell_type": "code",
   "execution_count": null,
   "id": "1fa22526-8630-45c6-9b85-56a37b00cd2a",
   "metadata": {},
   "outputs": [],
   "source": [
    "folder_era20c_fields_postprocessed=\"/Volumes/SPARK/CNN_seaspredc_analysis/era20c_fields/\""
   ]
  },
  {
   "cell_type": "code",
   "execution_count": null,
   "id": "ebb2f832-52fa-4a15-8aa2-b7124bbc75d6",
   "metadata": {},
   "outputs": [],
   "source": [
    "mpige_dir_slp_hist=\"/Volumes/SPARK/mpi_ge/hist/slp/\""
   ]
  },
  {
   "cell_type": "markdown",
   "id": "local-blues",
   "metadata": {},
   "source": [
    "## prepare 20crv3 grids"
   ]
  },
  {
   "cell_type": "code",
   "execution_count": null,
   "id": "d99108ef-4d25-4c43-8d2b-52e0d1a3b63a",
   "metadata": {},
   "outputs": [],
   "source": [
    "\n",
    "CDO.timselmean(\"3\", input=\"-seltimestep,3/539 -selmon,1,2,12 -selname,prmsl \" + folder_20crv3_fields+ \"prmsl.mon.mean.nc\", output=folder_20crv3_fields+\"prmsl.mon.mean_DJF.nc\")\n",
    "CDO.remapbil(mpige_dir_slp_hist+\"psl_Amon_MPI-ESM_historical_all_i1850p3_185001-200512_traintest_DJF.nc\",input=folder_20crv3_fields+\"prmsl.mon.mean_DJF.nc\",output=folder_20crv3_fields+\"prmsl.mon.mean_DJF_lowlow.nc\")\n",
    "CDO.selyear(\"1901/2015\",input=folder_20crv3_fields+\"prmsl.mon.mean_DJF_lowlow.nc\",output=folder_20crv3_fields+\"prmsl.mon.mean_DJF_19012015_lowlow.nc\")\n",
    "CDO.timstd(input=folder_20crv3_fields+\"prmsl.mon.mean_DJF_19012015_lowlow.nc\",output=folder_20crv3_fields_postprocessed+\"prmsl.mon.mean_DJF_19012015_lowlow_std.nc\")\n",
    "CDO.timmean(input=folder_20crv3_fields+\"prmsl.mon.mean_DJF_19012015_lowlow.nc\",output=folder_20crv3_fields_postprocessed+\"prmsl.mon.mean_DJF_19012015_lowlow_mean.nc\")\n",
    "CDO.sub(input=input=folder_20crv3_fields+\"prmsl.mon.mean_DJF_19012015_lowlow.nc\"+\" \" + folder_20crv3_fields_postprocessed+\"prmsl.mon.mean_DJF_19012015_lowlow_mean.nc\", output=folder_20crv3_fields_postprocessed+\"prmsl.mon.mean_DJF_19012015_lowlow_anoms.nc\")\n"
   ]
  },
  {
   "cell_type": "code",
   "execution_count": null,
   "id": "4fb57342-60a6-4dcf-b2e7-2f95d5751b60",
   "metadata": {},
   "outputs": [],
   "source": [
    "\n",
    "CDO.timselmean(\"3\", input=\"-seltimestep,3/539 -selmon,1,2,12 -selname,air \" + folder_20crv3_fields+ \"air.2m.mon.mean.nc\", output=folder_20crv3_fields+\"air.2m.mon.mean_DJF.nc\")\n",
    "CDO.remapbil(mpige_dir_slp_hist+\"psl_Amon_MPI-ESM_historical_all_i1850p3_185001-200512_traintest_DJF.nc\",input=folder_20crv3_fields+\"air.2m.mon.mean_DJF.nc\",output=folder_20crv3_fields+\"air.2m.mon.mean_DJF_lowlow.nc\")\n",
    "CDO.selyear(\"1901/2015\",input=folder_20crv3_fields+\"air.2m.mon.mean_DJF_lowlow.nc\",output=folder_20crv3_fields+\"air.2m.mon.mean_DJF_19012015_lowlow.nc\")\n",
    "CDO.timstd(input=folder_20crv3_fields+\"air.2m.mon.mean_DJF_19012015_lowlow.nc\",output=folder_20crv3_fields_postprocessed+\"air.2m.mon.mean_DJF_19012015_lowlow_std.nc\")\n",
    "CDO.timmean(input=folder_20crv3_fields+\"air.2m.mon.mean_DJF_19012015_lowlow.nc\",output=folder_20crv3_fields_postprocessed+\"air.2m.mon.mean_DJF_19012015_lowlow_mean.nc\")\n",
    "CDO.sub(input=input=folder_20crv3_fields+\"air.2m.mon.mean_DJF_19012015_lowlow.nc\"+\" \" + folder_20crv3_fields_postprocessed+\"air.2m.mon.mean_DJF_19012015_lowlow_mean.nc\", output=folder_20crv3_fields_postprocessed+\"air.2m.mon.mean_DJF_19012015_lowlow_anoms.nc\")\n"
   ]
  },
  {
   "cell_type": "code",
   "execution_count": null,
   "id": "6ad663e5-95cc-4832-b08b-e03961a6cd31",
   "metadata": {},
   "outputs": [],
   "source": [
    "CDO.yearmean(input=\"-selmon,6,7,8 -selname,prmsl \" + folder_20crv3_fields+ \"prmsl.mon.mean.nc\", output=folder_20crv3_fields+\"prmsl.mon.mean_JJA.nc\")\n",
    "CDO.remapbil(mpige_dir_slp_hist+\"psl_Amon_MPI-ESM_historical_all_i1850p3_185001-200512_traintest_JJA.nc\",input=folder_20crv3_fields+\"prmsl.mon.mean_JJA.nc\",output=folder_20crv3_fields+\"prmsl.mon.mean_JJA_lowlow.nc\")\n",
    "CDO.selyear(\"1900/2015\",input=folder_20crv3_fields+\"prmsl.mon.mean_JJA_lowlow.nc\",output=folder_20crv3_fields+\"prmsl.mon.mean_JJA_19002015_lowlow.nc\")\n",
    "CDO.timstd(input=folder_20crv3_fields+\"prmsl.mon.mean_JJA_19002015_lowlow.nc\",output=folder_20crv3_fields_postprocessed+\"prmsl.mon.mean_JJA_19002015_lowlow_std.nc\")\n",
    "CDO.timmean(input=folder_20crv3_fields+\"prmsl.mon.mean_JJA_19002015_lowlow.nc\",output=folder_20crv3_fields_postprocessed+\"prmsl.mon.mean_JJA_19002015_lowlow_mean.nc\")\n",
    "CDO.sub(input=input=folder_20crv3_fields+\"prmsl.mon.mean_JJA_19002015_lowlow.nc\"+\" \" + folder_20crv3_fields_postprocessed+\"prmsl.mon.mean_JJA_19002015_lowlow_mean.nc\", output=folder_20crv3_fields+\"prmsl.mon.mean_JJA_19002015_lowlow_anoms.nc\")\n"
   ]
  },
  {
   "cell_type": "code",
   "execution_count": null,
   "id": "f7f03bda-2826-4a78-b3d5-5f8a8e4be40b",
   "metadata": {},
   "outputs": [],
   "source": [
    "CDO.yearmean(input=\"-selmon,6,7,8 -selname,air \" + folder_20crv3_fields+ \"air.2m.mon.mean.nc\", output=folder_20crv3_fields+\"air.2m.mon.mean_JJA.nc\")\n",
    "CDO.remapbil(mpige_dir_slp_hist+\"psl_Amon_MPI-ESM_historical_all_i1850p3_185001-200512_traintest_JJA.nc\",input=folder_20crv3_fields+\"air.2m.mon.mean_JJA.nc\",output=folder_20crv3_fields+\"air.2m.mon.mean_JJA_lowlow.nc\")\n",
    "CDO.selyear(\"1900/2015\",input=folder_20crv3_fields+\"air.2m.mon.mean_JJA_lowlow.nc\",output=folder_20crv3_fields+\"air.2m.mon.mean_JJA_19002015_lowlow.nc\")\n",
    "CDO.timstd(input=folder_20crv3_fields+\"air.2m.mon.mean_JJA_19002015_lowlow.nc\",output=folder_20crv3_fields_postprocessed+\"air.2m.mon.mean_JJA_19002015_lowlow_std.nc\")\n",
    "CDO.timmean(input=folder_20crv3_fields+\"air.2m.mon.mean_JJA_19002015_lowlow.nc\",output=folder_20crv3_fields_postprocessed+\"air.2m.mon.mean_JJA_19002015_lowlow_mean.nc\")\n",
    "CDO.sub(input=input=folder_20crv3_fields+\"air.2m.mon.mean_JJA_19002015_lowlow.nc\"+\" \" + folder_20crv3_fields_postprocessed+\"air.2m.mon.mean_JJA_19002015_lowlow_mean.nc\", output=folder_20crv3_fields+\"air.2m.mon.mean_JJA_19002015_lowlow_anoms.nc\")\n"
   ]
  },
  {
   "cell_type": "code",
   "execution_count": null,
   "id": "a9960908-aab5-4e7a-9119-6c357397b814",
   "metadata": {},
   "outputs": [],
   "source": [
    "CDO.yearmean(input=\"-selmon,6 -selname,air \" + folder_20crv3_fields+ \"air.2m.mon.mean.nc\", output=folder_20crv3_fields+\"air.2m.mon.mean_jun.nc\")\n",
    "CDO.remapbil(mpige_dir_slp_hist+\"psl_Amon_MPI-ESM_historical_all_i1850p3_185001-200512_traintest_jun.nc\",input=folder_20crv3_fields+\"air.2m.mon.mean_jun.nc\",output=folder_20crv3_fields+\"air.2m.mon.mean_jun_lowlow.nc\")\n",
    "CDO.selyear(\"1900/2015\",input=folder_20crv3_fields+\"air.2m.mon.mean_jun_lowlow.nc\",output=folder_20crv3_fields+\"air.2m.mon.mean_jun_19002015_lowlow.nc\")\n",
    "CDO.timstd(input=folder_20crv3_fields+\"air.2m.mon.mean_jun_19002015_lowlow.nc\",output=folder_20crv3_fields_postprocessed+\"air.2m.mon.mean_jun_19002015_lowlow_std.nc\")\n",
    "CDO.timmean(input=folder_20crv3_fields+\"air.2m.mon.mean_jun_19002015_lowlow.nc\",output=folder_20crv3_fields_postprocessed+\"air.2m.mon.mean_jun_19002015_lowlow_mean.nc\")\n",
    "CDO.sub(input=input=folder_20crv3_fields+\"air.2m.mon.mean_jun_19002015_lowlow.nc\"+\" \" + folder_20crv3_fields_postprocessed+\"air.2m.mon.mean_jun_19002015_lowlow_mean.nc\", output=folder_20crv3_fields+\"air.2m.mon.mean_jun_19002015_lowlow_anoms.nc\")\n"
   ]
  },
  {
   "cell_type": "code",
   "execution_count": null,
   "id": "d0cbe843-866d-42ae-b68c-37271e105462",
   "metadata": {},
   "outputs": [],
   "source": [
    "CDO.yearmean(input=\"-selmon,7 -selname,air \" + folder_20crv3_fields+ \"air.2m.mon.mean.nc\", output=folder_20crv3_fields+\"air.2m.mon.mean_jul.nc\")\n",
    "CDO.remapbil(mpige_dir_slp_hist+\"psl_Amon_MPI-ESM_historical_all_i1850p3_185001-200512_traintest_jul.nc\",input=folder_20crv3_fields+\"air.2m.mon.mean_jul.nc\",output=folder_20crv3_fields+\"air.2m.mon.mean_jul_lowlow.nc\")\n",
    "CDO.selyear(\"1900/2015\",input=folder_20crv3_fields+\"air.2m.mon.mean_jul_lowlow.nc\",output=folder_20crv3_fields+\"air.2m.mon.mean_jul_19002015_lowlow.nc\")\n",
    "CDO.timstd(input=folder_20crv3_fields+\"air.2m.mon.mean_jul_19002015_lowlow.nc\",output=folder_20crv3_fields_postprocessed+\"air.2m.mon.mean_jul_19002015_lowlow_std.nc\")\n",
    "CDO.timmean(input=folder_20crv3_fields+\"air.2m.mon.mean_jul_19002015_lowlow.nc\",output=folder_20crv3_fields_postprocessed+\"air.2m.mon.mean_jul_19002015_lowlow_mean.nc\")\n",
    "CDO.sub(input=input=folder_20crv3_fields+\"air.2m.mon.mean_jul_19002015_lowlow.nc\"+\" \" + folder_20crv3_fields_postprocessed+\"air.2m.mon.mean_jul_19002015_lowlow_mean.nc\", output=folder_20crv3_fields+\"air.2m.mon.mean_jul_19002015_lowlow_anoms.nc\")\n"
   ]
  },
  {
   "cell_type": "code",
   "execution_count": null,
   "id": "7b1e0ae5-b686-4f81-95d7-23bc07972cc8",
   "metadata": {},
   "outputs": [],
   "source": [
    "CDO.yearmean(input=\"-selmon,8 -selname,air \" + folder_20crv3_fields+ \"air.2m.mon.mean.nc\", output=folder_20crv3_fields+\"air.2m.mon.mean_aug.nc\")\n",
    "CDO.remapbil(mpige_dir_slp_hist+\"psl_Amon_MPI-ESM_historical_all_i1850p3_185001-200512_traintest_aug.nc\",input=folder_20crv3_fields+\"air.2m.mon.mean_aug.nc\",output=folder_20crv3_fields+\"air.2m.mon.mean_aug_lowlow.nc\")\n",
    "CDO.selyear(\"1900/2015\",input=folder_20crv3_fields+\"air.2m.mon.mean_aug_lowlow.nc\",output=folder_20crv3_fields+\"air.2m.mon.mean_aug_19002015_lowlow.nc\")\n",
    "CDO.timstd(input=folder_20crv3_fields+\"air.2m.mon.mean_aug_19002015_lowlow.nc\",output=folder_20crv3_fields_postprocessed+\"air.2m.mon.mean_aug_19002015_lowlow_std.nc\")\n",
    "CDO.timmean(input=folder_20crv3_fields+\"air.2m.mon.mean_aug_19002015_lowlow.nc\",output=folder_20crv3_fields_postprocessed+\"air.2m.mon.mean_aug_19002015_lowlow_mean.nc\")\n",
    "CDO.sub(input=input=folder_20crv3_fields+\"air.2m.mon.mean_aug_19002015_lowlow.nc\"+\" \" + folder_20crv3_fields_postprocessed+\"air.2m.mon.mean_aug_19002015_lowlow_mean.nc\", output=folder_20crv3_fields+\"air.2m.mon.mean_aug_19002015_lowlow_anoms.nc\")\n"
   ]
  },
  {
   "cell_type": "code",
   "execution_count": null,
   "id": "a3a73b59-830a-4c4c-b747-653eb3a36c51",
   "metadata": {},
   "outputs": [],
   "source": [
    "CDO.yearmean(input=\"-selmon,12 -selname,air \" + folder_20crv3_fields+ \"air.2m.mon.mean.nc\", output=folder_20crv3_fields+\"air.2m.mon.mean_dec.nc\")\n",
    "CDO.remapbil(mpige_dir_slp_hist+\"psl_Amon_MPI-ESM_historical_all_i1850p3_185001-200512_traintest_dec.nc\",input=folder_20crv3_fields+\"air.2m.mon.mean_dec.nc\",output=folder_20crv3_fields+\"air.2m.mon.mean_dec_lowlow.nc\")\n",
    "CDO.selyear(\"1900/2014\",input=folder_20crv3_fields+\"air.2m.mon.mean_dec_lowlow.nc\",output=folder_20crv3_fields+\"air.2m.mon.mean_dec_19002014_lowlow.nc\")\n",
    "CDO.timstd(input=folder_20crv3_fields+\"air.2m.mon.mean_dec_19002014_lowlow.nc\",output=folder_20crv3_fields_postprocessed+\"air.2m.mon.mean_dec_19002014_lowlow_std.nc\")\n",
    "CDO.timmean(input=folder_20crv3_fields+\"air.2m.mon.mean_dec_19002014_lowlow.nc\",output=folder_20crv3_fields_postprocessed+\"air.2m.mon.mean_dec_19002014_lowlow_mean.nc\")\n",
    "CDO.sub(input=input=folder_20crv3_fields+\"air.2m.mon.mean_dec_19002014_lowlow.nc\"+\" \" + folder_20crv3_fields_postprocessed+\"air.2m.mon.mean_dec_19002014_lowlow_mean.nc\", output=folder_20crv3_fields+\"air.2m.mon.mean_dec_19002014_lowlow_anoms.nc\")\n"
   ]
  },
  {
   "cell_type": "code",
   "execution_count": null,
   "id": "9e39a5c5-56b7-4686-abd4-1f954066e524",
   "metadata": {},
   "outputs": [],
   "source": [
    "CDO.yearmean(input=\"-selmon,1 -selname,air \" + folder_20crv3_fields+ \"air.2m.mon.mean.nc\", output=folder_20crv3_fields+\"air.2m.mon.mean_jan.nc\")\n",
    "CDO.remapbil(mpige_dir_slp_hist+\"psl_Amon_MPI-ESM_historical_all_i1850p3_185001-200512_traintest_jan.nc\",input=folder_20crv3_fields+\"air.2m.mon.mean_jan.nc\",output=folder_20crv3_fields+\"air.2m.mon.mean_jan_lowlow.nc\")\n",
    "CDO.selyear(\"1901/2015\",input=folder_20crv3_fields+\"air.2m.mon.mean_jan_lowlow.nc\",output=folder_20crv3_fields+\"air.2m.mon.mean_jan_19012015_lowlow.nc\")\n",
    "CDO.timstd(input=folder_20crv3_fields+\"air.2m.mon.mean_jan_19012015_lowlow.nc\",output=folder_20crv3_fields_postprocessed+\"air.2m.mon.mean_jan_19012015_lowlow_std.nc\")\n",
    "CDO.timmean(input=folder_20crv3_fields+\"air.2m.mon.mean_jan_19012015_lowlow.nc\",output=folder_20crv3_fields_postprocessed+\"air.2m.mon.mean_jan_19012015_lowlow_mean.nc\")\n",
    "CDO.sub(input=input=folder_20crv3_fields+\"air.2m.mon.mean_jan_19012015_lowlow.nc\"+\" \" + folder_20crv3_fields_postprocessed+\"air.2m.mon.mean_jan_19012015_lowlow_mean.nc\", output=folder_20crv3_fields+\"air.2m.mon.mean_jan_19012015_lowlow_anoms.nc\")\n"
   ]
  },
  {
   "cell_type": "code",
   "execution_count": null,
   "id": "66077019-b710-4915-9cbd-5cdb3b1af55a",
   "metadata": {},
   "outputs": [],
   "source": [
    "CDO.yearmean(input=\"-selmon,2 -selname,air \" + folder_20crv3_fields+ \"air.2m.mon.mean.nc\", output=folder_20crv3_fields+\"air.2m.mon.mean_feb.nc\")\n",
    "CDO.remapbil(mpige_dir_slp_hist+\"psl_Amon_MPI-ESM_historical_all_i1850p3_185001-200512_traintest_feb.nc\",input=folder_20crv3_fields+\"air.2m.mon.mean_feb.nc\",output=folder_20crv3_fields+\"air.2m.mon.mean_feb_lowlow.nc\")\n",
    "CDO.selyear(\"1901/2015\",input=folder_20crv3_fields+\"air.2m.mon.mean_feb_lowlow.nc\",output=folder_20crv3_fields+\"air.2m.mon.mean_feb_19012015_lowlow.nc\")\n",
    "CDO.timstd(input=folder_20crv3_fields+\"air.2m.mon.mean_feb_19012015_lowlow.nc\",output=folder_20crv3_fields_postprocessed+\"air.2m.mon.mean_feb_19012015_lowlow_std.nc\")\n",
    "CDO.timmean(input=folder_20crv3_fields+\"air.2m.mon.mean_feb_19012015_lowlow.nc\",output=folder_20crv3_fields_postprocessed+\"air.2m.mon.mean_feb_19012015_lowlow_mean.nc\")\n",
    "CDO.sub(input=input=folder_20crv3_fields+\"air.2m.mon.mean_feb_19012015_lowlow.nc\"+\" \" + folder_20crv3_fields_postprocessed+\"air.2m.mon.mean_feb_19012015_lowlow_mean.nc\", output=folder_20crv3_fields+\"air.2m.mon.mean_feb_19012015_lowlow_anoms.nc\")\n"
   ]
  },
  {
   "cell_type": "markdown",
   "id": "greenhouse-conference",
   "metadata": {},
   "source": [
    "## prepare era20c grids"
   ]
  },
  {
   "cell_type": "code",
   "execution_count": null,
   "id": "1cb30732-0a6e-42ab-9ded-b270bbc1f217",
   "metadata": {},
   "outputs": [],
   "source": [
    "\n",
    "CDO.timselmean(\"3\", input=\"-seltimestep,3/332 -selmon,1,2,12 -selname,msl \" + folder_era20c_fields+ \"era20c_msl.nc\", output=folder_era20c_fields+\"era20c_msl_DJF.nc\")\n",
    "CDO.remapbil(mpige_dir_slp_hist+\"psl_Amon_MPI-ESM_historical_all_i1850p3_185001-200512_traintest_DJF.nc\",input=folder_era20c_fields+\"era20c_msl_DJF.nc\",output=folder_era20c_fields+\"era20c_msl_DJF_lowlow.nc\")\n",
    "CDO.timmean(input=folder_era20c_fields+\"era20c_msl_DJF_lowlow.nc\",output=folder_era20c_fields_postprocessed+\"era20c_msl_DJF_lowlow_mean.nc\")\n",
    "CDO.sub(input=input=folder_era20c_fields+\"era20c_msl_DJF_lowlow.nc\"+\" \" + folder_era20c_fields_postprocessed+\"era20c_msl_DJF_lowlow_mean.nc\", output=folder_era20c_fields_postprocessed+\"era20c_msl_DJF_lowlow_anoms.nc\")\n"
   ]
  },
  {
   "cell_type": "code",
   "execution_count": null,
   "id": "d1bea839-9bb5-421e-9760-4370c3a8baff",
   "metadata": {},
   "outputs": [],
   "source": [
    "\n",
    "CDO.yearmean(input=\"-selmon,6,7,8 -selname,msl \" + folder_era20c_fields+ \"era20c_msl.nc\", output=folder_era20c_fields+\"era20c_msl_JJA.nc\")\n",
    "CDO.remapbil(mpige_dir_slp_hist+\"psl_Amon_MPI-ESM_historical_all_i1850p3_185001-200512_traintest_JJA.nc\",input=folder_era20c_fields+\"era20c_msl_JJA.nc\",output=folder_era20c_fields+\"era20c_msl_JJA_lowlow.nc\")\n",
    "CDO.timmean(input=folder_era20c_fields+\"era20c_msl_JJA_lowlow.nc\",output=folder_era20c_fields_postprocessed+\"era20c_msl_JJA_lowlow_mean.nc\")\n",
    "CDO.sub(input=input=folder_era20c_fields+\"era20c_msl_JJA_lowlow.nc\"+\" \" + folder_era20c_fields_postprocessed+\"era20c_msl_JJA_lowlow_mean.nc\", output=folder_era20c_fields_postprocessed+\"era20c_msl_JJA_lowlow_anoms.nc\")\n"
   ]
  },
  {
   "cell_type": "code",
   "execution_count": null,
   "id": "cfcb6544-47e1-4aef-8bbb-8958b54f7145",
   "metadata": {},
   "outputs": [],
   "source": [
    "\n",
    "CDO.timselmean(\"3\", input=\"-seltimestep,3/332 -selmon,1,2,12 -selname,t2m \" + folder_era20c_fields+ \"era20c_t2m.nc\", output=folder_era20c_fields+\"era20c_t2m_DJF.nc\")\n",
    "CDO.remapbil(mpige_dir_slp_hist+\"psl_Amon_MPI-ESM_historical_all_i1850p3_185001-200512_traintest_DJF.nc\",input=folder_era20c_fields+\"era20c_t2m_DJF.nc\",output=folder_era20c_fields+\"era20c_t2m_DJF_lowlow.nc\")\n",
    "CDO.timmean(input=folder_era20c_fields+\"era20c_t2m_DJF_lowlow.nc\",output=folder_era20c_fields_postprocessed+\"era20c_t2m_DJF_lowlow_mean.nc\")\n",
    "CDO.sub(input=input=folder_era20c_fields+\"era20c_t2m_DJF_lowlow.nc\"+\" \" + folder_era20c_fields_postprocessed+\"era20c_t2m_DJF_lowlow_mean.nc\", output=folder_era20c_fields_postprocessed+\"era20c_t2m_DJF_lowlow_anoms.nc\")\n"
   ]
  },
  {
   "cell_type": "code",
   "execution_count": null,
   "id": "26e70d29-231b-4988-be76-8fb8aa65fc00",
   "metadata": {},
   "outputs": [],
   "source": [
    "CDO.yearmean(input=\"-selmon,6,7,8 -selname,t2m \" + folder_era20c_fields+ \"era20c_t2m.nc\", output=folder_era20c_fields+\"era20c_t2m_JJA.nc\")\n",
    "CDO.remapbil(mpige_dir_slp_hist+\"psl_Amon_MPI-ESM_historical_all_i1850p3_185001-200512_traintest_JJA.nc\",input=folder_era20c_fields+\"era20c_t2m_JJA.nc\",output=folder_era20c_fields+\"era20c_t2m_JJA_lowlow.nc\")\n",
    "CDO.timmean(input=folder_era20c_fields+\"era20c_t2m_JJA_lowlow.nc\",output=folder_era20c_fields_postprocessed+\"era20c_t2m_JJA_lowlow_mean.nc\")\n",
    "CDO.sub(input=input=folder_era20c_fields+\"era20c_t2m_JJA_lowlow.nc\"+\" \" + folder_era20c_fields_postprocessed+\"era20c_t2m_JJA_lowlow_mean.nc\", output=folder_era20c_fields_postprocessed+\"era20c_t2m_JJA_lowlow_anoms.nc\")\n"
   ]
  },
  {
   "cell_type": "code",
   "execution_count": null,
   "id": "ef0134fb-ce30-409a-83c2-3b6c7921e21e",
   "metadata": {},
   "outputs": [],
   "source": [
    "CDO.yearmean(input=\"-selmon,6 -selname,t2m \" + folder_era20c_fields+ \"era20c_t2m.nc\", output=folder_era20c_fields+\"era20c_t2m_jun.nc\")\n",
    "CDO.remapbil(mpige_dir_slp_hist+\"psl_Amon_MPI-ESM_historical_all_i1850p3_185001-200512_traintest_jun.nc\",input=folder_era20c_fields+\"era20c_t2m_jun.nc\",output=folder_era20c_fields+\"era20c_t2m_jun_lowlow.nc\")\n",
    "CDO.timmean(input=folder_era20c_fields+\"era20c_t2m_jun_lowlow.nc\",output=folder_era20c_fields_postprocessed+\"era20c_t2m_jun_lowlow_mean.nc\")\n",
    "CDO.sub(input=input=folder_era20c_fields+\"era20c_t2m_jun_lowlow.nc\"+\" \" + folder_era20c_fields_postprocessed+\"era20c_t2m_jun_lowlow_mean.nc\", output=folder_era20c_fields_postprocessed+\"era20c_t2m_jun_lowlow_anoms.nc\")\n"
   ]
  },
  {
   "cell_type": "code",
   "execution_count": null,
   "id": "defa7992-4b7e-4375-be68-f95af5bd579e",
   "metadata": {},
   "outputs": [],
   "source": [
    "CDO.yearmean(input=\"-selmon,7 -selname,t2m \" + folder_era20c_fields+ \"era20c_t2m.nc\", output=folder_era20c_fields+\"era20c_t2m_jul.nc\")\n",
    "CDO.remapbil(mpige_dir_slp_hist+\"psl_Amon_MPI-ESM_historical_all_i1850p3_185001-200512_traintest_jul.nc\",input=folder_era20c_fields+\"era20c_t2m_jul.nc\",output=folder_era20c_fields+\"era20c_t2m_jul_lowlow.nc\")\n",
    "CDO.timmean(input=folder_era20c_fields+\"era20c_t2m_jul_lowlow.nc\",output=folder_era20c_fields_postprocessed+\"era20c_t2m_jul_lowlow_mean.nc\")\n",
    "CDO.sub(input=input=folder_era20c_fields+\"era20c_t2m_jul_lowlow.nc\"+\" \" + folder_era20c_fields_postprocessed+\"era20c_t2m_jul_lowlow_mean.nc\", output=folder_era20c_fields_postprocessed+\"era20c_t2m_jul_lowlow_anoms.nc\")\n"
   ]
  },
  {
   "cell_type": "code",
   "execution_count": null,
   "id": "8fbf1555-d7bb-4fc3-b065-c4d0fc3e1f14",
   "metadata": {},
   "outputs": [],
   "source": [
    "CDO.yearmean(input=\"-selmon,8 -selname,t2m \" + folder_era20c_fields+ \"era20c_t2m.nc\", output=folder_era20c_fields+\"era20c_t2m_aug.nc\")\n",
    "CDO.remapbil(mpige_dir_slp_hist+\"psl_Amon_MPI-ESM_historical_all_i1850p3_185001-200512_traintest_aug.nc\",input=folder_era20c_fields+\"era20c_t2m_aug.nc\",output=folder_era20c_fields+\"era20c_t2m_aug_lowlow.nc\")\n",
    "CDO.timmean(input=folder_era20c_fields+\"era20c_t2m_aug_lowlow.nc\",output=folder_era20c_fields_postprocessed+\"era20c_t2m_aug_lowlow_mean.nc\")\n",
    "CDO.sub(input=input=folder_era20c_fields+\"era20c_t2m_aug_lowlow.nc\"+\" \" + folder_era20c_fields_postprocessed+\"era20c_t2m_aug_lowlow_mean.nc\", output=folder_era20c_fields_postprocessed+\"era20c_t2m_aug_lowlow_anoms.nc\")\n"
   ]
  },
  {
   "cell_type": "code",
   "execution_count": null,
   "id": "ca995fc2-dfc9-4ca3-bbc7-1818b0c68385",
   "metadata": {},
   "outputs": [],
   "source": [
    "CDO.yearmean(input=\"-selmon,12 -selyear,1900/2009 -selname,t2m \" + folder_era20c_fields+ \"era20c_t2m.nc\", output=folder_era20c_fields+\"era20c_t2m_dec.nc\")\n",
    "CDO.remapbil(mpige_dir_slp_hist+\"psl_Amon_MPI-ESM_historical_all_i1850p3_185001-200512_traintest_dec.nc\",input=folder_era20c_fields+\"era20c_t2m_dec.nc\",output=folder_era20c_fields+\"era20c_t2m_dec_lowlow.nc\")\n",
    "CDO.timmean(input=folder_era20c_fields+\"era20c_t2m_dec_lowlow.nc\",output=folder_era20c_fields_postprocessed+\"era20c_t2m_dec_lowlow_mean.nc\")\n",
    "CDO.sub(input=input=folder_era20c_fields+\"era20c_t2m_dec_lowlow.nc\"+\" \" + folder_era20c_fields_postprocessed+\"era20c_t2m_dec_lowlow_mean.nc\", output=folder_era20c_fields_postprocessed+\"era20c_t2m_dec_lowlow_anoms.nc\")\n"
   ]
  },
  {
   "cell_type": "code",
   "execution_count": null,
   "id": "cff689e8-a036-4bfa-8e6b-4bf0863bec22",
   "metadata": {},
   "outputs": [],
   "source": [
    "CDO.yearmean(input=\"-selmon,1 -selyear,1901/2010 -selname,t2m \" + folder_era20c_fields+ \"era20c_t2m.nc\", output=folder_era20c_fields+\"era20c_t2m_jan.nc\")\n",
    "CDO.remapbil(mpige_dir_slp_hist+\"psl_Amon_MPI-ESM_historical_all_i1850p3_185001-200512_traintest_jan.nc\",input=folder_era20c_fields+\"era20c_t2m_jan.nc\",output=folder_era20c_fields+\"era20c_t2m_jan_lowlow.nc\")\n",
    "CDO.timmean(input=folder_era20c_fields+\"era20c_t2m_jan_lowlow.nc\",output=folder_era20c_fields_postprocessed+\"era20c_t2m_jan_lowlow_mean.nc\")\n",
    "CDO.sub(input=input=folder_era20c_fields+\"era20c_t2m_jan_lowlow.nc\"+\" \" + folder_era20c_fields_postprocessed+\"era20c_t2m_jan_lowlow_mean.nc\", output=folder_era20c_fields_postprocessed+\"era20c_t2m_jan_lowlow_anoms.nc\")\n"
   ]
  },
  {
   "cell_type": "code",
   "execution_count": null,
   "id": "eec2cfd0-12ff-48c1-968c-4887c175319e",
   "metadata": {},
   "outputs": [],
   "source": [
    "CDO.yearmean(input=\"-selmon,2 -selyear,1901/2010 -selname,t2m \" + folder_era20c_fields+ \"era20c_t2m.nc\", output=folder_era20c_fields+\"era20c_t2m_feb.nc\")\n",
    "CDO.remapbil(mpige_dir_slp_hist+\"psl_Amon_MPI-ESM_historical_all_i1850p3_185001-200512_traintest_feb.nc\",input=folder_era20c_fields+\"era20c_t2m_feb.nc\",output=folder_era20c_fields+\"era20c_t2m_feb_lowlow.nc\")\n",
    "CDO.timmean(input=folder_era20c_fields+\"era20c_t2m_feb_lowlow.nc\",output=folder_era20c_fields_postprocessed+\"era20c_t2m_feb_lowlow_mean.nc\")\n",
    "CDO.sub(input=input=folder_era20c_fields+\"era20c_t2m_feb_lowlow.nc\"+\" \" + folder_era20c_fields_postprocessed+\"era20c_t2m_feb_lowlow_mean.nc\", output=folder_era20c_fields_postprocessed+\"era20c_t2m_feb_lowlow_anoms.nc\")\n"
   ]
  },
  {
   "cell_type": "markdown",
   "id": "muslim-pursuit",
   "metadata": {},
   "source": [
    "## Unnormalize ML grids"
   ]
  },
  {
   "cell_type": "code",
   "execution_count": null,
   "id": "dbd80622-3507-49c8-bf47-c088aefd754c",
   "metadata": {},
   "outputs": [],
   "source": [
    "preface=[\"best_modelanomnorm_mpicodaearlyctlrcp26_may_sst_\",\"best_modelanomnorm_mpicodaearlyctlrcp26_nov_sst_\",\"best_modelanomnorm_mpicodaearlyctlrcp26_may_sst_\",\"best_modelanomnorm_mpicodaearlyctlrcp26_nov_sst_\"]"
   ]
  },
  {
   "cell_type": "code",
   "execution_count": null,
   "id": "69747fe6-339d-4a87-a39d-81ab48b3f524",
   "metadata": {},
   "outputs": [],
   "source": [
    "variables=[\"t2m_\",\"slp_\"]\n",
    "seasons=[\"jun_\",\"jul_\",\"aug_\",\"JJA_\",\"dec_\",\"jan_\",\"feb_\",\"DJF_\"]\n",
    "methods=[\"reg_\",\"CNN7_\",\"CNN8_\",\"CNN11kiri_\",\"CNN44_\",\"RNN1_\",\"unet_\",\"unet1_\",\"unet2_\",\"unet1_small_\",\"unet2_small_\",\"unet3_small_\",\"unet4_small_\"]\n",
    "members=[\"m01\",\"m02\",\"m03\",\"m04\",\"m05\"]"
   ]
  },
  {
   "cell_type": "code",
   "execution_count": null,
   "id": "ebab6e3c-c6d2-40fd-bdf1-b6970d3ce4cb",
   "metadata": {},
   "outputs": [],
   "source": [
    "variables_20cr=[\"air.2m._\",\"prmsl_\"]"
   ]
  },
  {
   "cell_type": "code",
   "execution_count": null,
   "id": "83a14418-4146-424b-b013-bd1f293c87ba",
   "metadata": {},
   "outputs": [],
   "source": [
    "month_dict = {\n",
    "  \"jun_\": \"19002015\",\n",
    "  \"jul_\": \"19002015\",\n",
    "  \"aug_\": \"19002015\",\n",
    "    \"JJA_\": \"19002015\",\n",
    "  \"dec_\": \"19002014\",\n",
    "  \"jan_\": \"19012015\",\n",
    "      \"feb_\": \"19012015\",\n",
    "  \"DJF_\": \"19012015\",}"
   ]
  },
  {
   "cell_type": "code",
   "execution_count": null,
   "id": "offshore-viking",
   "metadata": {},
   "outputs": [],
   "source": [
    "\n",
    "empty_list=[]\n",
    "for name in preface[0:2]:\n",
    "    seasons=[\"jun_\",\"jul_\",\"aug_\",\"JJA_\",\"dec_\",\"jan_\",\"feb_\",\"DJF_\"]\n",
    "    if \"may\" not in name: \n",
    "        seasons=seasons[4:8]\n",
    "    else:\n",
    "        seasons=seasons[0:4]\n",
    "    for variable in variables:\n",
    "        if \"slp\" in variable: \n",
    "            if \"may\" in name:\n",
    "                seasons=[\"JJA_\"]\n",
    "            if \"may\" not in name:\n",
    "                seasons=[\"DJF_\"]\n",
    "        for season in seasons:\n",
    "            for method in methods:\n",
    "                for member in members:\n",
    "                    ml_name_input=folder_ML_fields+name+variable+season+method+member+\".nc\"\n",
    "\n",
    "                    test=xr.open_dataset(ml_name_input)\n",
    "                    tcr_name_input=folder_20crv3_fields_postprocessed+variable+\"mon.mean_\"+season+month_dict[season]+\"_lowlow_std.nc\"\n",
    "                    \n",
    "\n",
    "                    print(tcr_name_input)\n",
    "                    print(ml_name_input)\n",
    "                    file_name_output1=folder_ML_fields_postprocessed+name+variable+season+method+member+\"_remap.nc\"\n",
    "                    file_name_output2=folder_ML_fields_postprocessed+name+variable+season+method+member+\"_anoms.nc\"\n",
    "                    CDO.remapbil(tcr_name_input, input=ml_name_input, output=file_name_output1)\n",
    "                    CDO.mul(input=tcr_name_input+\" \"+file_name_output1, output=file_name_output2)\n",
    "                    print(tcr_name_input)\n",
    "                    print(file_name_output2)"
   ]
  },
  {
   "cell_type": "markdown",
   "id": "banned-louis",
   "metadata": {},
   "source": [
    "## Formatting asf20c"
   ]
  },
  {
   "cell_type": "code",
   "execution_count": null,
   "id": "1fe71ca1-e158-45db-8613-cec3fd12f258",
   "metadata": {},
   "outputs": [],
   "source": []
  },
  {
   "cell_type": "code",
   "execution_count": null,
   "id": "relative-account",
   "metadata": {},
   "outputs": [],
   "source": [
    "preface=[asf20c_input_folder+\"slp/may/SLPmonthly_allyears_allseasons_\",asf20c_input_folder+\"t2m/may/T2monthly_allyears_allseasons_\",asf20c_input_folder+\"slp/nov/SLPmonthly_allyears_allseasons_\",asf20c_input_folder+\"t2m/nov/T2monthly_allyears_allseasons_\"]"
   ]
  },
  {
   "cell_type": "code",
   "execution_count": null,
   "id": "answering-korean",
   "metadata": {},
   "outputs": [],
   "source": [
    "seasons=[\"jun\",\"jul\",\"aug\",\"JJA\",\"dec\",\"jan\",\"feb\",\"DJF\"]"
   ]
  },
  {
   "cell_type": "code",
   "execution_count": null,
   "id": "prime-packet",
   "metadata": {},
   "outputs": [],
   "source": [
    "members=[\"M0\",\"M1\",\"M2\",\"M3\",\"M4\",\"M5\",\"M6\",\"M7\",\"M8\",\"M9\",\"M10\",\"M11\",\"M12\",\"M13\",\"M14\",\"M15\",\"M16\",\"M17\",\"M18\",\"M19\",\"M20\",\"M21\",\"M22\",\"M23\",\"M24\",\"M25\",\"M26\",\"M27\",\"M28\",\"M29\",\"M30\",\"M31\",\"M32\",\"M33\",\"M34\",\"M35\",\"M36\",\"M37\",\"M38\",\"M39\",\"M40\",\"M41\",\"M42\",\"M43\",\"M44\",\"M45\",\"M46\",\"M47\",\"M48\",\"M49\",\"M50\"]"
   ]
  },
  {
   "cell_type": "code",
   "execution_count": null,
   "id": "guilty-africa",
   "metadata": {},
   "outputs": [],
   "source": [
    "month_dict_asf_int = {\n",
    "  \"jun\": \"6 \",\n",
    "  \"jul\": \"7 \",\n",
    "  \"aug\": \"8 \",\n",
    "    \"JJA\": \"6,7,8 \",\n",
    "  \"dec\": \"12 \",\n",
    "  \"jan\": \"1 \",\n",
    "      \"feb\": \"2 \",\n",
    "  \"DJF\": \"1,2,12 \"}"
   ]
  },
  {
   "cell_type": "code",
   "execution_count": null,
   "id": "capital-grill",
   "metadata": {},
   "outputs": [],
   "source": [
    "month_dict = {\n",
    "  \"jun\": \"19002015\",\n",
    "  \"jul\": \"19002015\",\n",
    "  \"aug\": \"19002015\",\n",
    "    \"JJA\": \"19002015\",\n",
    "  \"dec\": \"19002014\",\n",
    "  \"jan\": \"19012015\",\n",
    "      \"feb\": \"19012015\",\n",
    "  \"DJF\": \"19012015\"}"
   ]
  },
  {
   "cell_type": "code",
   "execution_count": null,
   "id": "recognized-separation",
   "metadata": {},
   "outputs": [],
   "source": [
    "for name in preface:\n",
    "    if \"T2\" not in name: \n",
    "        seasons=[\"JJA\",\"DJF\"]\n",
    "        if \"may\" not in name: \n",
    "            seasons=[\"DJF\"]\n",
    "        else:\n",
    "            seasons=[\"JJA\"]\n",
    "        variable=\"slp\"\n",
    "    else:\n",
    "        variable=\"t2m\"\n",
    "        seasons=[\"jun\",\"jul\",\"aug\",\"JJA\",\"dec\",\"jan\",\"feb\",\"DJF\"]\n",
    "        if \"may\" not in name:\n",
    "            seasons=[\"dec\",\"jan\",\"feb\",\"DJF\"]\n",
    "        else:\n",
    "            seasons=[\"jun\",\"jul\",\"aug\",\"JJA\"]\n",
    "    for member in members:\n",
    "        for season in seasons:\n",
    "            file=name+member+\".nc\"\n",
    "            file_out1=name+member+\"_\"+season+\".nc\"\n",
    "            file_out2=name+member+\"_\"+season+\"_remap.nc\"\n",
    "            file_out3=name+member+\"_\"+season+\"_remap_anoms.nc\"\n",
    "            \n",
    "            tcr_name_input=folder_20crv3_fields+variable+\"_mon.mean_\"+season+\"_\"+month_dict[season]+\"_lowlow_mean.nc\"\n",
    "            \n",
    "            if ((season==\"DJF\") or (season==\"JJA\")):\n",
    "                CDO.timselmean(\"3\", input=\"-selmon,\"+month_dict_asf_int[season] + file, output=file_out1)\n",
    "                CDO.remapbil(tcr_name_input, input=file_out1, output=file_out2)\n",
    "                CDO.sub(input=file_out2+\" \"+tcr_name_input, output=file_out3)\n",
    "            else:\n",
    "                CDO.selmon(month_dict_asf_int[season], input=file, output=file_out1)\n",
    "                CDO.remapbil(tcr_name_input, input=file_out1, output=file_out2)\n",
    "                CDO.sub(input=file_out2+\" \"+tcr_name_input, output=file_out3)\n",
    "            #shutil.move(file_out1,folder_asf_fields)\n",
    "            os.remove(file_out1)\n",
    "            shutil.move(file_out2,folder_asf_fields)\n",
    "            shutil.move(file_out3,folder_asf_fields)"
   ]
  }
 ],
 "metadata": {
  "kernelspec": {
   "display_name": "imac311",
   "language": "python",
   "name": "imac311"
  },
  "language_info": {
   "codemirror_mode": {
    "name": "ipython",
    "version": 3
   },
   "file_extension": ".py",
   "mimetype": "text/x-python",
   "name": "python",
   "nbconvert_exporter": "python",
   "pygments_lexer": "ipython3",
   "version": "3.11.5"
  }
 },
 "nbformat": 4,
 "nbformat_minor": 5
}

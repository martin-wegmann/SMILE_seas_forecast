{
 "cells": [
  {
   "cell_type": "markdown",
   "id": "fd991dd0-5662-4882-9b22-ebed4c1bdfbc",
   "metadata": {},
   "source": [
    "# Author"
   ]
  },
  {
   "cell_type": "markdown",
   "id": "98f438a3-2bb0-4840-9abc-9025ca93515d",
   "metadata": {},
   "source": [
    "Martin Wegmann (martin.wegmann@unibe.ch)"
   ]
  },
  {
   "cell_type": "markdown",
   "id": "1bb3802a-ee16-4dbc-98a1-10a790529cc6",
   "metadata": {},
   "source": [
    "The goal of this notebook is to pre-process the data for the machine learning prediction task"
   ]
  },
  {
   "cell_type": "markdown",
   "id": "d7d33068-5a0c-4238-8bd5-e70fc77383ed",
   "metadata": {},
   "source": [
    "# Loading libraries"
   ]
  },
  {
   "cell_type": "code",
   "execution_count": null,
   "id": "f1537060-fe03-4cbd-b159-55a09ef98a80",
   "metadata": {},
   "outputs": [],
   "source": [
    "import xarray as xr\n",
    "import iris\n",
    "import glob\n",
    "import iris.plot as iplt\n",
    "import pandas as pd\n",
    "import cdo\n",
    "CDO = cdo.Cdo()\n",
    "import netCDF4\n",
    "import os\n",
    "import datetime\n",
    "import shutil  \n",
    "import cartopy.crs as ccrs\n",
    "import matplotlib.pyplot as plt\n",
    "import numpy as np\n",
    "#from mpl_toolkits.basemap import Basemap"
   ]
  },
  {
   "cell_type": "markdown",
   "id": "046460a6-9c42-4bd9-8e0c-f67d5f4bede7",
   "metadata": {},
   "source": [
    "# Land-Sea SUPERMASK"
   ]
  },
  {
   "cell_type": "markdown",
   "id": "b10e9440-40ff-4cab-8e3a-d56da6e8723c",
   "metadata": {},
   "source": [
    "The land-sea mask was created using the land-sea definition of multiple SST data sets regridded to a 4° resolution, such as 20CRv3, MPI-GE and ERA5. On top of that, we labelled grid boxes as \"land\" when the maximum over all time steps of the normalised SSTs in that data set is larger than 5 or less than -5 , assuming that this grid box is highly volatile and might cause some problems as input to a prediction. We then multiply all those land-sea masks of those different datasets to come up with just one land-sea mask. \n",
    "\n",
    "This was done seperatly for May and November SSTs."
   ]
  },
  {
   "cell_type": "markdown",
   "id": "73041b4f-5da7-47a5-8775-24da8cadc612",
   "metadata": {},
   "source": [
    "The netcdf files for May and November should be in the GIT-Hub folder"
   ]
  },
  {
   "cell_type": "markdown",
   "id": "e47708cd-bf9f-468e-b3a6-80feabc69806",
   "metadata": {},
   "source": [
    "# MPI-GE preprocessing"
   ]
  },
  {
   "cell_type": "markdown",
   "id": "be263826-bfe8-499f-a5a9-f300781953ea",
   "metadata": {},
   "source": [
    "## HIST T2M"
   ]
  },
  {
   "cell_type": "code",
   "execution_count": null,
   "id": "contemporary-litigation",
   "metadata": {},
   "outputs": [],
   "source": [
    "\n",
    "mpige_dir=\"/Volumes/SPARK/mpi_ge/\"\n",
    "mpige_dir_t2m_hist=\"/Volumes/SPARK/mpi_ge/hist/t2m/atmos/\"\n",
    "#data_name=os.path.join(data_dir,\"test.nc\")\n",
    "#os.chdir(path)"
   ]
  },
  {
   "cell_type": "code",
   "execution_count": null,
   "id": "opposed-defendant",
   "metadata": {},
   "outputs": [],
   "source": [
    "member_index=[f\"{i:03}\" for i in range(1,101)]"
   ]
  },
  {
   "cell_type": "code",
   "execution_count": null,
   "id": "noted-speaking",
   "metadata": {},
   "outputs": [],
   "source": [
    "# lets see what data we have\n",
    "arr = os.listdir(mpige_dir_t2m_hist)\n",
    "input_paths=[]\n",
    "for file in os.listdir(mpige_dir_t2m_hist):\n",
    "    if file.endswith(\".nc\"):\n",
    "        print(os.path.join(mpige_dir_t2m_hist, file))\n",
    "        mpige_t2m_file=os.path.join(mpige_dir_t2m_hist, file)\n",
    "        input_paths.append(mpige_t2m_file)"
   ]
  },
  {
   "cell_type": "code",
   "execution_count": null,
   "id": "impressive-organic",
   "metadata": {},
   "outputs": [],
   "source": [
    "jan_paths=[]\n",
    "\n",
    "member_index_length = len(member_index)\n",
    "\n",
    "for i in range(member_index_length):\n",
    "    output=os.path.join(mpige_dir_t2m_hist, \"tas_Amon_MPI-ESM_historical_r\" + str(member_index[i])+'i1850p3_185001-200512_jan.nc')\n",
    "    jan_paths.append(output)\n",
    "    "
   ]
  },
  {
   "cell_type": "code",
   "execution_count": null,
   "id": "previous-margin",
   "metadata": {},
   "outputs": [],
   "source": [
    "jun_paths=[]\n",
    "\n",
    "member_index_length = len(member_index)\n",
    "\n",
    "for i in range(member_index_length):\n",
    "    output=os.path.join(mpige_dir_t2m_hist, \"tas_Amon_MPI-ESM_historical_r\" + str(member_index[i])+'i1850p3_185001-200512_jun.nc')\n",
    "    jun_paths.append(output)"
   ]
  },
  {
   "cell_type": "code",
   "execution_count": null,
   "id": "minor-scanning",
   "metadata": {},
   "outputs": [],
   "source": [
    "jul_paths=[]\n",
    "\n",
    "member_index_length = len(member_index)\n",
    "\n",
    "for i in range(member_index_length):\n",
    "    output=os.path.join(mpige_dir_t2m_hist, \"tas_Amon_MPI-ESM_historical_r\" + str(member_index[i])+'i1850p3_185001-200512_jul.nc')\n",
    "    jul_paths.append(output)"
   ]
  },
  {
   "cell_type": "code",
   "execution_count": null,
   "id": "foreign-sodium",
   "metadata": {},
   "outputs": [],
   "source": [
    "aug_paths=[]\n",
    "\n",
    "member_index_length = len(member_index)\n",
    "\n",
    "for i in range(member_index_length):\n",
    "    output=os.path.join(mpige_dir_t2m_hist, \"tas_Amon_MPI-ESM_historical_r\" + str(member_index[i])+'i1850p3_185001-200512_aug.nc')\n",
    "    aug_paths.append(output)"
   ]
  },
  {
   "cell_type": "code",
   "execution_count": null,
   "id": "tracked-receipt",
   "metadata": {},
   "outputs": [],
   "source": [
    "feb_paths=[]\n",
    "\n",
    "member_index_length = len(member_index)\n",
    "\n",
    "for i in range(member_index_length):\n",
    "    output=os.path.join(mpige_dir_t2m_hist, \"tas_Amon_MPI-ESM_historical_r\" + str(member_index[i])+'i1850p3_185001-200512_feb.nc')\n",
    "    feb_paths.append(output)"
   ]
  },
  {
   "cell_type": "code",
   "execution_count": null,
   "id": "twelve-hollow",
   "metadata": {},
   "outputs": [],
   "source": [
    "dec_paths=[]\n",
    "\n",
    "member_index_length = len(member_index)\n",
    "\n",
    "for i in range(member_index_length):\n",
    "    output=os.path.join(mpige_dir_t2m_hist, \"tas_Amon_MPI-ESM_historical_r\" + str(member_index[i])+'i1850p3_185001-200512_dec.nc')\n",
    "    dec_paths.append(output)\n"
   ]
  },
  {
   "cell_type": "code",
   "execution_count": null,
   "id": "photographic-expansion",
   "metadata": {},
   "outputs": [],
   "source": [
    "# calculate dec means and cut them to the region we will use for the dec NAO calculation via EOFs\n",
    "# 1872/4 = 468, we wanna disregard the first J F and the last D \n",
    "\n",
    "for i in range(member_index_length):\n",
    "    CDO.selmon(\"12\", input=\" -selyear,1850/2004 \" +input_paths[i], output=dec_paths[i])\n",
    "\n",
    "CDO.cat(input=dec_paths[:member_index_length], output=mpige_dir_t2m_hist+\"tas_Amon_traintest_dec.nc\")\n",
    "\n",
    "CDO.remapnn(\"r96x48\",input=mpige_dir_t2m_hist+\"tas_Amon_traintest_dec.nc\",output=mpige_dir_t2m_hist+\"tas_Amon_MPI-ESM_historical_all_i1850p3_185001-200512_traintest_dec_lowlow.nc\")\n",
    "CDO.timstd(input=mpige_dir_t2m_hist+\"tas_Amon_MPI-ESM_historical_all_i1850p3_185001-200512_traintest_dec_lowlow.nc\",output=mpige_dir_t2m_hist+\"tas_Amon_MPI-ESM_historical_all_i1850p3_185001-200512_traintest_dec_lowlow_timstd.nc\")\n",
    "CDO.sub(input=mpige_dir_t2m_hist+\"tas_Amon_MPI-ESM_historical_all_i1850p3_185001-200512_traintest_dec_lowlow.nc\"+\" -timmean \" + mpige_dir_t2m_hist+\"tas_Amon_MPI-ESM_historical_all_i1850p3_185001-200512_traintest_dec_lowlow.nc\", output=mpige_dir_t2m_hist+\"tas_Amon_MPI-ESM_historical_all_i1850p3_185001-200512_traintest_dec_lowlow_anoms.nc\")\n",
    "CDO.div(input=mpige_dir_t2m_hist+\"tas_Amon_MPI-ESM_historical_all_i1850p3_185001-200512_traintest_dec_lowlow_anoms.nc\" + \" \" + mpige_dir_t2m_hist+\"tas_Amon_MPI-ESM_historical_all_i1850p3_185001-200512_traintest_dec_lowlow_timstd.nc\", output=mpige_dir_t2m_hist+\"tas_Amon_MPI-ESM_historical_all_i1850p3_185001-200512_traintest_dec_lowlow_anomnorm.nc\")\n"
   ]
  },
  {
   "cell_type": "code",
   "execution_count": null,
   "id": "sorted-organ",
   "metadata": {},
   "outputs": [],
   "source": [
    "# calculate jan means and cut them to the region we will use for the jan NAO calculation via EOFs\n",
    "# 1872/4 = 468, we wanna disregard the first J F and the last D \n",
    "\n",
    "for i in range(member_index_length):\n",
    "    CDO.selmon(\"1\", input=\" -selyear,1851/2005 \" +input_paths[i], output=jan_paths[i])\n",
    "\n",
    "CDO.cat(input=jan_paths[:member_index_length], output=mpige_dir_t2m_hist+\"tas_Amon_traintest_jan.nc\")\n",
    "\n",
    "CDO.remapnn(\"r96x48\",input=mpige_dir_t2m_hist+\"tas_Amon_traintest_jan.nc\",output=mpige_dir_t2m_hist+\"tas_Amon_MPI-ESM_historical_all_i1850p3_185001-200512_traintest_jan_lowlow.nc\")\n",
    "CDO.timstd(input=mpige_dir_t2m_hist+\"tas_Amon_MPI-ESM_historical_all_i1850p3_185001-200512_traintest_jan_lowlow.nc\",output=mpige_dir_t2m_hist+\"tas_Amon_MPI-ESM_historical_all_i1850p3_185001-200512_traintest_jan_lowlow_timstd.nc\")\n",
    "CDO.sub(input=mpige_dir_t2m_hist+\"tas_Amon_MPI-ESM_historical_all_i1850p3_185001-200512_traintest_jan_lowlow.nc\"+\" -timmean \" + mpige_dir_t2m_hist+\"tas_Amon_MPI-ESM_historical_all_i1850p3_185001-200512_traintest_jan_lowlow.nc\", output=mpige_dir_t2m_hist+\"tas_Amon_MPI-ESM_historical_all_i1850p3_185001-200512_traintest_jan_lowlow_anoms.nc\")\n",
    "CDO.div(input=mpige_dir_t2m_hist+\"tas_Amon_MPI-ESM_historical_all_i1850p3_185001-200512_traintest_jan_lowlow_anoms.nc\" + \" \" + mpige_dir_t2m_hist+\"tas_Amon_MPI-ESM_historical_all_i1850p3_185001-200512_traintest_jan_lowlow_timstd.nc\", output=mpige_dir_t2m_hist+\"tas_Amon_MPI-ESM_historical_all_i1850p3_185001-200512_traintest_jan_lowlow_anomnorm.nc\")\n",
    "\n"
   ]
  },
  {
   "cell_type": "code",
   "execution_count": null,
   "id": "forward-discovery",
   "metadata": {},
   "outputs": [],
   "source": [
    "# calculate feb means and cut them to the region we will use for the feb NAO calculation via EOFs\n",
    "# 1872/4 = 468, we wanna disregard the first J F and the last D \n",
    "\n",
    "for i in range(member_index_length):\n",
    "    CDO.selmon(\"2\", input=\" -selyear,1851/2005 \" +input_paths[i], output=feb_paths[i])\n",
    "\n",
    "CDO.cat(input=feb_paths[:member_index_length], output=mpige_dir_t2m_hist+\"tas_Amon_traintest_feb.nc\")\n",
    "\n",
    "CDO.remapnn(\"r96x48\",input=mpige_dir_t2m_hist+\"tas_Amon_traintest_feb.nc\",output=mpige_dir_t2m_hist+\"tas_Amon_MPI-ESM_historical_all_i1850p3_185001-200512_traintest_feb_lowlow.nc\")\n",
    "CDO.timstd(input=mpige_dir_t2m_hist+\"tas_Amon_MPI-ESM_historical_all_i1850p3_185001-200512_traintest_feb_lowlow.nc\",output=mpige_dir_t2m_hist+\"tas_Amon_MPI-ESM_historical_all_i1850p3_185001-200512_traintest_feb_lowlow_timstd.nc\")\n",
    "CDO.sub(input=mpige_dir_t2m_hist+\"tas_Amon_MPI-ESM_historical_all_i1850p3_185001-200512_traintest_feb_lowlow.nc\"+\" -timmean \" + mpige_dir_t2m_hist+\"tas_Amon_MPI-ESM_historical_all_i1850p3_185001-200512_traintest_feb_lowlow.nc\", output=mpige_dir_t2m_hist+\"tas_Amon_MPI-ESM_historical_all_i1850p3_185001-200512_traintest_feb_lowlow_anoms.nc\")\n",
    "CDO.div(input=mpige_dir_t2m_hist+\"tas_Amon_MPI-ESM_historical_all_i1850p3_185001-200512_traintest_feb_lowlow_anoms.nc\" + \" \" + mpige_dir_t2m_hist+\"tas_Amon_MPI-ESM_historical_all_i1850p3_185001-200512_traintest_feb_lowlow_timstd.nc\", output=mpige_dir_t2m_hist+\"tas_Amon_MPI-ESM_historical_all_i1850p3_185001-200512_traintest_feb_lowlow_anomnorm.nc\")\n",
    "\n"
   ]
  },
  {
   "cell_type": "code",
   "execution_count": null,
   "id": "outer-protein",
   "metadata": {},
   "outputs": [],
   "source": [
    "# calculate jun means and cut them to the region we will use for the jun NAO calculation via EOFs\n",
    "# 1872/4 = 468, we wanna disregard the first J F and the last D \n",
    "\n",
    "for i in range(member_index_length):\n",
    "    CDO.selmon(\"6\", input=\" -selyear,1850/2005 \" +input_paths[i], output=jun_paths[i])\n",
    "\n",
    "CDO.cat(input=jun_paths[:member_index_length], output=mpige_dir_t2m_hist+\"tas_Amon_traintest_jun.nc\")\n",
    "\n",
    "CDO.remapnn(\"r96x48\",input=mpige_dir_t2m_hist+\"tas_Amon_traintest_jun.nc\",output=mpige_dir_t2m_hist+\"tas_Amon_MPI-ESM_historical_all_i1850p3_185001-200512_traintest_jun_lowlow.nc\")\n",
    "CDO.timstd(input=mpige_dir_t2m_hist+\"tas_Amon_MPI-ESM_historical_all_i1850p3_185001-200512_traintest_jun_lowlow.nc\",output=mpige_dir_t2m_hist+\"tas_Amon_MPI-ESM_historical_all_i1850p3_185001-200512_traintest_jun_lowlow_timstd.nc\")\n",
    "CDO.sub(input=mpige_dir_t2m_hist+\"tas_Amon_MPI-ESM_historical_all_i1850p3_185001-200512_traintest_jun_lowlow.nc\"+\" -timmean \" + mpige_dir_t2m_hist+\"tas_Amon_MPI-ESM_historical_all_i1850p3_185001-200512_traintest_jun_lowlow.nc\", output=mpige_dir_t2m_hist+\"tas_Amon_MPI-ESM_historical_all_i1850p3_185001-200512_traintest_jun_lowlow_anoms.nc\")\n",
    "CDO.div(input=mpige_dir_t2m_hist+\"tas_Amon_MPI-ESM_historical_all_i1850p3_185001-200512_traintest_jun_lowlow_anoms.nc\" + \" \" + mpige_dir_t2m_hist+\"tas_Amon_MPI-ESM_historical_all_i1850p3_185001-200512_traintest_jun_lowlow_timstd.nc\", output=mpige_dir_t2m_hist+\"tas_Amon_MPI-ESM_historical_all_i1850p3_185001-200512_traintest_jun_lowlow_anomnorm.nc\")\n",
    "\n",
    "\n"
   ]
  },
  {
   "cell_type": "code",
   "execution_count": null,
   "id": "parental-blackberry",
   "metadata": {},
   "outputs": [],
   "source": [
    "# calculate jul means and cut them to the region we will use for the jul NAO calculation via EOFs\n",
    "# 1872/4 = 468, we wanna disregard the first J F and the last D \n",
    "\n",
    "for i in range(member_index_length):\n",
    "    CDO.selmon(\"7\", input=\" -selyear,1850/2005 \" +input_paths[i], output=jul_paths[i])\n",
    "\n",
    "CDO.cat(input=jul_paths[:member_index_length], output=mpige_dir_t2m_hist+\"tas_Amon_traintest_jul.nc\")\n",
    "\n",
    "CDO.remapnn(\"r96x48\",input=mpige_dir_t2m_hist+\"tas_Amon_traintest_jul.nc\",output=mpige_dir_t2m_hist+\"tas_Amon_MPI-ESM_historical_all_i1850p3_185001-200512_traintest_jul_lowlow.nc\")\n",
    "CDO.timstd(input=mpige_dir_t2m_hist+\"tas_Amon_MPI-ESM_historical_all_i1850p3_185001-200512_traintest_jul_lowlow.nc\",output=mpige_dir_t2m_hist+\"tas_Amon_MPI-ESM_historical_all_i1850p3_185001-200512_traintest_jul_lowlow_timstd.nc\")\n",
    "CDO.sub(input=mpige_dir_t2m_hist+\"tas_Amon_MPI-ESM_historical_all_i1850p3_185001-200512_traintest_jul_lowlow.nc\"+\" -timmean \" + mpige_dir_t2m_hist+\"tas_Amon_MPI-ESM_historical_all_i1850p3_185001-200512_traintest_jul_lowlow.nc\", output=mpige_dir_t2m_hist+\"tas_Amon_MPI-ESM_historical_all_i1850p3_185001-200512_traintest_jul_lowlow_anoms.nc\")\n",
    "CDO.div(input=mpige_dir_t2m_hist+\"tas_Amon_MPI-ESM_historical_all_i1850p3_185001-200512_traintest_jul_lowlow_anoms.nc\" + \" \" + mpige_dir_t2m_hist+\"tas_Amon_MPI-ESM_historical_all_i1850p3_185001-200512_traintest_jul_lowlow_timstd.nc\", output=mpige_dir_t2m_hist+\"tas_Amon_MPI-ESM_historical_all_i1850p3_185001-200512_traintest_jul_lowlow_anomnorm.nc\")\n"
   ]
  },
  {
   "cell_type": "code",
   "execution_count": null,
   "id": "adjustable-attendance",
   "metadata": {},
   "outputs": [],
   "source": [
    "# calculate aug means and cut them to the region we will use for the aug NAO calculation via EOFs\n",
    "# 1872/4 = 468, we wanna disregard the first J F and the last D \n",
    "\n",
    "for i in range(member_index_length):\n",
    "    CDO.selmon(\"8\", input=\" -selyear,1850/2005 \" +input_paths[i], output=aug_paths[i])\n",
    "\n",
    "CDO.cat(input=aug_paths[:member_index_length], output=mpige_dir_t2m_hist+\"tas_Amon_traintest_aug.nc\")\n",
    "\n",
    "CDO.remapnn(\"r96x48\",input=mpige_dir_t2m_hist+\"tas_Amon_traintest_aug.nc\",output=mpige_dir_t2m_hist+\"tas_Amon_MPI-ESM_historical_all_i1850p3_185001-200512_traintest_aug_lowlow.nc\")\n",
    "CDO.timstd(input=mpige_dir_t2m_hist+\"tas_Amon_MPI-ESM_historical_all_i1850p3_185001-200512_traintest_aug_lowlow.nc\",output=mpige_dir_t2m_hist+\"tas_Amon_MPI-ESM_historical_all_i1850p3_185001-200512_traintest_aug_lowlow_timstd.nc\")\n",
    "CDO.sub(input=mpige_dir_t2m_hist+\"tas_Amon_MPI-ESM_historical_all_i1850p3_185001-200512_traintest_aug_lowlow.nc\"+\" -timmean \" + mpige_dir_t2m_hist+\"tas_Amon_MPI-ESM_historical_all_i1850p3_185001-200512_traintest_aug_lowlow.nc\", output=mpige_dir_t2m_hist+\"tas_Amon_MPI-ESM_historical_all_i1850p3_185001-200512_traintest_aug_lowlow_anoms.nc\")\n",
    "CDO.div(input=mpige_dir_t2m_hist+\"tas_Amon_MPI-ESM_historical_all_i1850p3_185001-200512_traintest_aug_lowlow_anoms.nc\" + \" \" + mpige_dir_t2m_hist+\"tas_Amon_MPI-ESM_historical_all_i1850p3_185001-200512_traintest_aug_lowlow_timstd.nc\", output=mpige_dir_t2m_hist+\"tas_Amon_MPI-ESM_historical_all_i1850p3_185001-200512_traintest_aug_lowlow_anomnorm.nc\")\n"
   ]
  },
  {
   "cell_type": "code",
   "execution_count": null,
   "id": "insured-chassis",
   "metadata": {},
   "outputs": [],
   "source": [
    "JJA_paths=[]\n",
    "member_index_length = len(member_index)\n",
    "\n",
    "for i in range(member_index_length):\n",
    "    output=os.path.join(mpige_dir_t2m_hist, \"tas_Amon_MPI-ESM_historical_r\" + str(member_index[i])+'i1850p3_185001-200512_JJA.nc')\n",
    "    JJA_paths.append(output)for i in range(member_index_length):\n",
    "    CDO.timselmean(\"3\", input=\"-selmon,6,7,8 \" + input_paths[i], output=JJA_paths[i])\n",
    "        \n",
    "CDO.cat(input=JJA_paths[:member_index_length], output=mpige_dir_t2m_hist+\"tas_Amon_MPI-ESM_historical_all_i1850p3_185001-200512_traintest_JJA.nc\")\n",
    "CDO.remapnn(\"r96x48\",input=mpige_dir_t2m_hist+\"tas_Amon_MPI-ESM_historical_all_i1850p3_185001-200512_traintest_JJA.nc\",output=mpige_dir_t2m_hist+\"tas_Amon_MPI-ESM_historical_all_i1850p3_185001-200512_traintest_JJA_lowlow.nc\")\n",
    "CDO.timstd(input=mpige_dir_t2m_hist+\"tas_Amon_MPI-ESM_historical_all_i1850p3_185001-200512_traintest_JJA_lowlow.nc\",output=mpige_dir_t2m_hist+\"tas_Amon_MPI-ESM_historical_all_i1850p3_185001-200512_traintest_JJA_lowlow_timstd.nc\")\n",
    "CDO.sub(input=mpige_dir_t2m_hist+\"tas_Amon_MPI-ESM_historical_all_i1850p3_185001-200512_traintest_JJA_lowlow.nc\"+\" -timmean \" + mpige_dir_t2m_hist+\"tas_Amon_MPI-ESM_historical_all_i1850p3_185001-200512_traintest_JJA_lowlow.nc\", output=mpige_dir_t2m_hist+\"tas_Amon_MPI-ESM_historical_all_i1850p3_185001-200512_traintest_JJA_lowlow_anoms.nc\")\n",
    "CDO.div(input=mpige_dir_t2m_hist+\"tas_Amon_MPI-ESM_historical_all_i1850p3_185001-200512_traintest_JJA_lowlow_anoms.nc\" + \" \" + mpige_dir_t2m_hist+\"tas_Amon_MPI-ESM_historical_all_i1850p3_185001-200512_traintest_JJA_lowlow_timstd.nc\", output=mpige_dir_t2m_hist+\"tas_Amon_MPI-ESM_historical_all_i1850p3_185001-200512_traintest_JJA_lowlow_anomnorm.nc\")\n",
    "\n",
    "\n"
   ]
  },
  {
   "cell_type": "code",
   "execution_count": null,
   "id": "laughing-active",
   "metadata": {},
   "outputs": [],
   "source": [
    "DJF_paths=[]\n",
    "DJF_anom_paths=[]\n",
    "DJF_norm_paths=[]\n",
    "member_index_length = len(member_index)\n",
    "\n",
    "for i in range(member_index_length):\n",
    "    output=os.path.join(mpige_dir_t2m_hist, \"tas_Amon_MPI-ESM_historical_r\" + str(member_index[i])+'i1850p3_185001-200512_DJF.nc')\n",
    "    DJF_paths.append(output)\n",
    "\n",
    "for i in range(member_index_length):\n",
    "    CDO.timselmean(\"3\", input=\"-seltimestep,3/467 -selmon,1,2,12 \" + input_paths[i], output=DJF_paths[i])\n",
    "        \n",
    "CDO.cat(input=DJF_paths[:member_index_length], output=mpige_dir_t2m_hist+\"tas_Amon_MPI-ESM_historical_all_i1850p3_185001-200512_traintest_DJF.nc\")\n",
    "CDO.remapnn(\"r96x48\",input=mpige_dir_t2m_hist+\"tas_Amon_MPI-ESM_historical_all_i1850p3_185001-200512_traintest_DJF.nc\",output=mpige_dir_t2m_hist+\"tas_Amon_MPI-ESM_historical_all_i1850p3_185001-200512_traintest_DJF_lowlow.nc\")\n",
    "CDO.timstd(input=mpige_dir_t2m_hist+\"tas_Amon_MPI-ESM_historical_all_i1850p3_185001-200512_traintest_DJF_lowlow.nc\",output=mpige_dir_t2m_hist+\"tas_Amon_MPI-ESM_historical_all_i1850p3_185001-200512_traintest_DJF_lowlow_timstd.nc\")\n",
    "CDO.sub(input=mpige_dir_t2m_hist+\"tas_Amon_MPI-ESM_historical_all_i1850p3_185001-200512_traintest_DJF_lowlow.nc\"+\" -timmean \" + mpige_dir_t2m_hist+\"tas_Amon_MPI-ESM_historical_all_i1850p3_185001-200512_traintest_DJF_lowlow.nc\", output=mpige_dir_t2m_hist+\"tas_Amon_MPI-ESM_historical_all_i1850p3_185001-200512_traintest_DJF_lowlow_anoms.nc\")\n",
    "CDO.div(input=mpige_dir_t2m_hist+\"tas_Amon_MPI-ESM_historical_all_i1850p3_185001-200512_traintest_DJF_lowlow_anoms.nc\" + \" \" + mpige_dir_t2m_hist+\"tas_Amon_MPI-ESM_historical_all_i1850p3_185001-200512_traintest_DJF_lowlow_timstd.nc\", output=mpige_dir_t2m_hist+\"tas_Amon_MPI-ESM_historical_all_i1850p3_185001-200512_traintest_DJF_lowlow_anomnorm.nc\")\n",
    "\n",
    "\n"
   ]
  },
  {
   "cell_type": "code",
   "execution_count": null,
   "id": "c0c99b4b-1f56-4258-86da-ba12898ef922",
   "metadata": {},
   "outputs": [],
   "source": []
  },
  {
   "cell_type": "markdown",
   "id": "2aff8242-f4a0-43e1-88a1-cb8518b81177",
   "metadata": {},
   "source": [
    "## HIST SLP"
   ]
  },
  {
   "cell_type": "code",
   "execution_count": null,
   "id": "09890534-27fb-4417-8deb-08ae256f8f4c",
   "metadata": {},
   "outputs": [],
   "source": [
    "\n",
    "mpige_dir=\"/Volumes/SPARK/mpi_ge/\"\n",
    "mpige_dir_slp_hist=\"/Volumes/SPARK/mpi_ge/hist/slp/\"\n",
    "#data_name=os.path.join(data_dir,\"test.nc\")\n",
    "#os.chdir(path)"
   ]
  },
  {
   "cell_type": "code",
   "execution_count": null,
   "id": "dc4d5f16-6d18-497b-997c-ca03cb476d17",
   "metadata": {},
   "outputs": [],
   "source": [
    "member_index=[f\"{i:03}\" for i in range(1,101)]"
   ]
  },
  {
   "cell_type": "code",
   "execution_count": null,
   "id": "53cba67a-c855-4ce6-9973-faee78beec08",
   "metadata": {},
   "outputs": [],
   "source": [
    "# lets see what data we have\n",
    "arr = os.listdir(mpige_dir_slp_hist)\n",
    "input_paths=[]\n",
    "for file in os.listdir(mpige_dir_slp_hist):\n",
    "    if file.endswith(\".nc\"):\n",
    "        print(os.path.join(mpige_dir_slp_hist, file))\n",
    "        mpige_slp_file=os.path.join(mpige_dir_slp_hist, file)\n",
    "        input_paths.append(mpige_slp_file)"
   ]
  },
  {
   "cell_type": "code",
   "execution_count": null,
   "id": "ed045b30-71b8-4702-86b7-8d5e65e4dc93",
   "metadata": {},
   "outputs": [],
   "source": [
    "jan_paths=[]\n",
    "\n",
    "member_index_length = len(member_index)\n",
    "\n",
    "for i in range(member_index_length):\n",
    "    output=os.path.join(mpige_dir_slp_hist, \"psl_Amon_MPI-ESM_historical_r\" + str(member_index[i])+'i1850p3_185001-200512_jan.nc')\n",
    "    jan_paths.append(output)\n",
    "    "
   ]
  },
  {
   "cell_type": "code",
   "execution_count": null,
   "id": "81f4da43-cba5-45f0-a91c-19b324aab2b6",
   "metadata": {},
   "outputs": [],
   "source": [
    "jun_paths=[]\n",
    "\n",
    "member_index_length = len(member_index)\n",
    "\n",
    "for i in range(member_index_length):\n",
    "    output=os.path.join(mpige_dir_slp_hist, \"psl_Amon_MPI-ESM_historical_r\" + str(member_index[i])+'i1850p3_185001-200512_jun.nc')\n",
    "    jun_paths.append(output)"
   ]
  },
  {
   "cell_type": "code",
   "execution_count": null,
   "id": "37a05f92-fea4-443f-918f-cc4ab55ab9d3",
   "metadata": {},
   "outputs": [],
   "source": [
    "jul_paths=[]\n",
    "\n",
    "member_index_length = len(member_index)\n",
    "\n",
    "for i in range(member_index_length):\n",
    "    output=os.path.join(mpige_dir_slp_hist, \"psl_Amon_MPI-ESM_historical_r\" + str(member_index[i])+'i1850p3_185001-200512_jul.nc')\n",
    "    jul_paths.append(output)"
   ]
  },
  {
   "cell_type": "code",
   "execution_count": null,
   "id": "f98c7012-66b3-427b-ad8b-fee495b13b8c",
   "metadata": {},
   "outputs": [],
   "source": [
    "aug_paths=[]\n",
    "\n",
    "member_index_length = len(member_index)\n",
    "\n",
    "for i in range(member_index_length):\n",
    "    output=os.path.join(mpige_dir_slp_hist, \"psl_Amon_MPI-ESM_historical_r\" + str(member_index[i])+'i1850p3_185001-200512_aug.nc')\n",
    "    aug_paths.append(output)"
   ]
  },
  {
   "cell_type": "code",
   "execution_count": null,
   "id": "d683c9c5-869b-4078-b74e-caa64c298e81",
   "metadata": {},
   "outputs": [],
   "source": [
    "feb_paths=[]\n",
    "\n",
    "member_index_length = len(member_index)\n",
    "\n",
    "for i in range(member_index_length):\n",
    "    output=os.path.join(mpige_dir_slp_hist, \"psl_Amon_MPI-ESM_historical_r\" + str(member_index[i])+'i1850p3_185001-200512_feb.nc')\n",
    "    feb_paths.append(output)"
   ]
  },
  {
   "cell_type": "code",
   "execution_count": null,
   "id": "c8073937-a1dc-4632-a960-12c1370c7d38",
   "metadata": {},
   "outputs": [],
   "source": [
    "dec_paths=[]\n",
    "\n",
    "member_index_length = len(member_index)\n",
    "\n",
    "for i in range(member_index_length):\n",
    "    output=os.path.join(mpige_dir_slp_hist, \"psl_Amon_MPI-ESM_historical_r\" + str(member_index[i])+'i1850p3_185001-200512_dec.nc')\n",
    "    dec_paths.append(output)\n"
   ]
  },
  {
   "cell_type": "code",
   "execution_count": null,
   "id": "a2ab2026-4093-4f9f-8853-cb4f2ac9f450",
   "metadata": {},
   "outputs": [],
   "source": [
    "# calculate dec means and cut them to the region we will use for the dec NAO calculation via EOFs\n",
    "# 1872/4 = 468, we wanna disregard the first J F and the last D \n",
    "\n",
    "for i in range(member_index_length):\n",
    "    CDO.selmon(\"12\", input=\" -selyear,1850/2004 \" +input_paths[i], output=dec_paths[i])\n",
    "\n",
    "CDO.cat(input=dec_paths[:member_index_length], output=mpige_dir_slp_hist+\"psl_Amon_traintest_dec.nc\")\n",
    "\n",
    "CDO.remapnn(\"r96x48\",input=mpige_dir_slp_hist+\"psl_Amon_traintest_dec.nc\",output=mpige_dir_slp_hist+\"psl_Amon_MPI-ESM_historical_all_i1850p3_185001-200512_traintest_dec_lowlow.nc\")\n",
    "CDO.timstd(input=mpige_dir_slp_hist+\"psl_Amon_MPI-ESM_historical_all_i1850p3_185001-200512_traintest_dec_lowlow.nc\",output=mpige_dir_slp_hist+\"psl_Amon_MPI-ESM_historical_all_i1850p3_185001-200512_traintest_dec_lowlow_timstd.nc\")\n",
    "CDO.sub(input=mpige_dir_slp_hist+\"psl_Amon_MPI-ESM_historical_all_i1850p3_185001-200512_traintest_dec_lowlow.nc\"+\" -timmean \" + mpige_dir_slp_hist+\"psl_Amon_MPI-ESM_historical_all_i1850p3_185001-200512_traintest_dec_lowlow.nc\", output=mpige_dir_slp_hist+\"psl_Amon_MPI-ESM_historical_all_i1850p3_185001-200512_traintest_dec_lowlow_anoms.nc\")\n",
    "CDO.div(input=mpige_dir_slp_hist+\"psl_Amon_MPI-ESM_historical_all_i1850p3_185001-200512_traintest_dec_lowlow_anoms.nc\" + \" \" + mpige_dir_slp_hist+\"psl_Amon_MPI-ESM_historical_all_i1850p3_185001-200512_traintest_dec_lowlow_timstd.nc\", output=mpige_dir_slp_hist+\"psl_Amon_MPI-ESM_historical_all_i1850p3_185001-200512_traintest_dec_lowlow_anomnorm.nc\")\n"
   ]
  },
  {
   "cell_type": "code",
   "execution_count": null,
   "id": "e8f9fe13-2515-469c-b258-d39c22e3cd3e",
   "metadata": {},
   "outputs": [],
   "source": [
    "# calculate jan means and cut them to the region we will use for the jan NAO calculation via EOFs\n",
    "# 1872/4 = 468, we wanna disregard the first J F and the last D \n",
    "\n",
    "for i in range(member_index_length):\n",
    "    CDO.selmon(\"1\", input=\" -selyear,1851/2005 \" +input_paths[i], output=jan_paths[i])\n",
    "\n",
    "CDO.cat(input=jan_paths[:member_index_length], output=mpige_dir_slp_hist+\"psl_Amon_traintest_jan.nc\")\n",
    "\n",
    "CDO.remapnn(\"r96x48\",input=mpige_dir_slp_hist+\"psl_Amon_traintest_jan.nc\",output=mpige_dir_slp_hist+\"psl_Amon_MPI-ESM_historical_all_i1850p3_185001-200512_traintest_jan_lowlow.nc\")\n",
    "CDO.timstd(input=mpige_dir_slp_hist+\"psl_Amon_MPI-ESM_historical_all_i1850p3_185001-200512_traintest_jan_lowlow.nc\",output=mpige_dir_slp_hist+\"psl_Amon_MPI-ESM_historical_all_i1850p3_185001-200512_traintest_jan_lowlow_timstd.nc\")\n",
    "CDO.sub(input=mpige_dir_slp_hist+\"psl_Amon_MPI-ESM_historical_all_i1850p3_185001-200512_traintest_jan_lowlow.nc\"+\" -timmean \" + mpige_dir_slp_hist+\"psl_Amon_MPI-ESM_historical_all_i1850p3_185001-200512_traintest_jan_lowlow.nc\", outputmpige_dir_slp_hist+\"psl_Amon_MPI-ESM_historical_all_i1850p3_185001-200512_traintest_jan_lowlow_anoms.nc\")\n",
    "CDO.div(input=mpige_dir_slp_hist+\"psl_Amon_MPI-ESM_historical_all_i1850p3_185001-200512_traintest_jan_lowlow_anoms.nc\" + \" \" + mpige_dir_slp_hist+\"psl_Amon_MPI-ESM_historical_all_i1850p3_185001-200512_traintest_jan_lowlow_timstd.nc\", output=mpige_dir_slp_hist+\"psl_Amon_MPI-ESM_historical_all_i1850p3_185001-200512_traintest_jan_lowlow_anomnorm.nc\")\n",
    "\n"
   ]
  },
  {
   "cell_type": "code",
   "execution_count": null,
   "id": "7ab91368-42aa-4971-9ba0-9fac87652618",
   "metadata": {},
   "outputs": [],
   "source": [
    "# calculate feb means and cut them to the region we will use for the feb NAO calculation via EOFs\n",
    "# 1872/4 = 468, we wanna disregard the first J F and the last D \n",
    "\n",
    "for i in range(member_index_length):\n",
    "    CDO.selmon(\"2\", input=\" -selyear,1851/2005 \" +input_paths[i], output=feb_paths[i])\n",
    "\n",
    "CDO.cat(input=feb_paths[:member_index_length], output=mpige_dir_slp_hist+\"psl_Amon_traintest_feb.nc\")\n",
    "\n",
    "CDO.remapnn(\"r96x48\",input=mpige_dir_slp_hist+\"psl_Amon_traintest_feb.nc\",output=mpige_dir_slp_hist+\"psl_Amon_MPI-ESM_historical_all_i1850p3_185001-200512_traintest_feb_lowlow.nc\")\n",
    "CDO.timstd(input=mpige_dir_slp_hist+\"psl_Amon_MPI-ESM_historical_all_i1850p3_185001-200512_traintest_feb_lowlow.nc\",output=mpige_dir_slp_hist+\"psl_Amon_MPI-ESM_historical_all_i1850p3_185001-200512_traintest_feb_lowlow_timstd.nc\")\n",
    "CDO.sub(input=mpige_dir_slp_hist+\"psl_Amon_MPI-ESM_historical_all_i1850p3_185001-200512_traintest_feb_lowlow.nc\"+\" -timmean \" + mpige_dir_slp_hist+\"psl_Amon_MPI-ESM_historical_all_i1850p3_185001-200512_traintest_feb_lowlow.nc\", output=mpige_dir_slp_hist+\"psl_Amon_MPI-ESM_historical_all_i1850p3_185001-200512_traintest_feb_lowlow_anoms.nc\")\n",
    "CDO.div(input=mpige_dir_slp_hist+\"psl_Amon_MPI-ESM_historical_all_i1850p3_185001-200512_traintest_feb_lowlow_anoms.nc\" + \" \" + mpige_dir_slp_hist+\"psl_Amon_MPI-ESM_historical_all_i1850p3_185001-200512_traintest_feb_lowlow_timstd.nc\", output=mpige_dir_slp_hist+\"psl_Amon_MPI-ESM_historical_all_i1850p3_185001-200512_traintest_feb_lowlow_anomnorm.nc\")\n",
    "\n"
   ]
  },
  {
   "cell_type": "code",
   "execution_count": null,
   "id": "6bf38d02-30b1-455a-ad52-b19c9d6d3507",
   "metadata": {},
   "outputs": [],
   "source": [
    "# calculate jun means and cut them to the region we will use for the jun NAO calculation via EOFs\n",
    "# 1872/4 = 468, we wanna disregard the first J F and the last D \n",
    "\n",
    "for i in range(member_index_length):\n",
    "    CDO.selmon(\"6\", input=\" -selyear,1850/2005 \" +input_paths[i], output=jun_paths[i])\n",
    "\n",
    "CDO.cat(input=jun_paths[:member_index_length], output=mpige_dir_slp_hist+\"psl_Amon_traintest_jun.nc\")\n",
    "\n",
    "CDO.remapnn(\"r96x48\",input=mpige_dir_slp_hist+\"psl_Amon_traintest_jun.nc\",output=mpige_dir_slp_hist+\"psl_Amon_MPI-ESM_historical_all_i1850p3_185001-200512_traintest_jun_lowlow.nc\")\n",
    "CDO.timstd(input=mpige_dir_slp_hist+\"psl_Amon_MPI-ESM_historical_all_i1850p3_185001-200512_traintest_jun_lowlow.nc\",output=mpige_dir_slp_hist+\"psl_Amon_MPI-ESM_historical_all_i1850p3_185001-200512_traintest_jun_lowlow_timstd.nc\")\n",
    "CDO.sub(input=mpige_dir_slp_hist+\"psl_Amon_MPI-ESM_historical_all_i1850p3_185001-200512_traintest_jun_lowlow.nc\"+\" -timmean \" + mpige_dir_slp_hist+\"psl_Amon_MPI-ESM_historical_all_i1850p3_185001-200512_traintest_jun_lowlow.nc\", output=mpige_dir_slp_hist+\"psl_Amon_MPI-ESM_historical_all_i1850p3_185001-200512_traintest_jun_lowlow_anoms.nc\")\n",
    "CDO.div(input=mpige_dir_slp_hist+\"psl_Amon_MPI-ESM_historical_all_i1850p3_185001-200512_traintest_jun_lowlow_anoms.nc\" + \" \" + mpige_dir_slp_hist+\"psl_Amon_MPI-ESM_historical_all_i1850p3_185001-200512_traintest_jun_lowlow_timstd.nc\", output=mpige_dir_slp_hist+\"psl_Amon_MPI-ESM_historical_all_i1850p3_185001-200512_traintest_jun_lowlow_anomnorm.nc\")\n",
    "\n",
    "\n"
   ]
  },
  {
   "cell_type": "code",
   "execution_count": null,
   "id": "653321a9-a5c9-4708-8fbb-aaf42350a3cd",
   "metadata": {},
   "outputs": [],
   "source": [
    "# calculate jul means and cut them to the region we will use for the jul NAO calculation via EOFs\n",
    "# 1872/4 = 468, we wanna disregard the first J F and the last D \n",
    "\n",
    "for i in range(member_index_length):\n",
    "    CDO.selmon(\"7\", input=\" -selyear,1850/2005 \" +input_paths[i], output=jul_paths[i])\n",
    "\n",
    "CDO.cat(input=jul_paths[:member_index_length], output=mpige_dir_slp_hist+\"psl_Amon_traintest_jul.nc\")\n",
    "\n",
    "CDO.remapnn(\"r96x48\",input=mpige_dir_slp_hist+\"psl_Amon_traintest_jul.nc\",output=mpige_dir_slp_hist+\"psl_Amon_MPI-ESM_historical_all_i1850p3_185001-200512_traintest_jul_lowlow.nc\")\n",
    "CDO.timstd(input=mpige_dir_slp_hist+\"psl_Amon_MPI-ESM_historical_all_i1850p3_185001-200512_traintest_jul_lowlow.nc\",output=mpige_dir_slp_hist+\"psl_Amon_MPI-ESM_historical_all_i1850p3_185001-200512_traintest_jul_lowlow_timstd.nc\")\n",
    "CDO.sub(input=mpige_dir_slp_hist+\"psl_Amon_MPI-ESM_historical_all_i1850p3_185001-200512_traintest_jul_lowlow.nc\"+\" -timmean \" + mpige_dir_slp_hist+\"psl_Amon_MPI-ESM_historical_all_i1850p3_185001-200512_traintest_jul_lowlow.nc\", output=mpige_dir_slp_hist+\"psl_Amon_MPI-ESM_historical_all_i1850p3_185001-200512_traintest_jul_lowlow_anoms.nc\")\n",
    "CDO.div(input=mpige_dir_slp_hist+\"psl_Amon_MPI-ESM_historical_all_i1850p3_185001-200512_traintest_jul_lowlow_anoms.nc\" + \" \" + mpige_dir_slp_hist+\"psl_Amon_MPI-ESM_historical_all_i1850p3_185001-200512_traintest_jul_lowlow_timstd.nc\", output=mpige_dir_slp_hist+\"psl_Amon_MPI-ESM_historical_all_i1850p3_185001-200512_traintest_jul_lowlow_anomnorm.nc\")\n"
   ]
  },
  {
   "cell_type": "code",
   "execution_count": null,
   "id": "c315d7b2-9b4e-40a6-8e05-59562f8e4b0b",
   "metadata": {},
   "outputs": [],
   "source": [
    "# calculate aug means and cut them to the region we will use for the aug NAO calculation via EOFs\n",
    "# 1872/4 = 468, we wanna disregard the first J F and the last D \n",
    "\n",
    "for i in range(member_index_length):\n",
    "    CDO.selmon(\"8\", input=\" -selyear,1850/2005 \" +input_paths[i], output=aug_paths[i])\n",
    "\n",
    "CDO.cat(input=aug_paths[:member_index_length], output=mpige_dir_slp_hist+\"psl_Amon_traintest_aug.nc\")\n",
    "\n",
    "CDO.remapnn(\"r96x48\",input=mpige_dir_slp_hist+\"psl_Amon_traintest_aug.nc\",output=mpige_dir_slp_hist+\"psl_Amon_MPI-ESM_historical_all_i1850p3_185001-200512_traintest_aug_lowlow.nc\")\n",
    "CDO.timstd(input=mpige_dir_slp_hist+\"psl_Amon_MPI-ESM_historical_all_i1850p3_185001-200512_traintest_aug_lowlow.nc\",output=mpige_dir_slp_hist+\"psl_Amon_MPI-ESM_historical_all_i1850p3_185001-200512_traintest_aug_lowlow_timstd.nc\")\n",
    "CDO.sub(input=mpige_dir_slp_hist+\"psl_Amon_MPI-ESM_historical_all_i1850p3_185001-200512_traintest_aug_lowlow.nc\"+\" -timmean \" + mpige_dir_slp_hist+\"psl_Amon_MPI-ESM_historical_all_i1850p3_185001-200512_traintest_aug_lowlow.nc\", output=mpige_dir_slp_hist+\"psl_Amon_MPI-ESM_historical_all_i1850p3_185001-200512_traintest_aug_lowlow_anoms.nc\")\n",
    "CDO.div(input=mpige_dir_slp_hist+\"psl_Amon_MPI-ESM_historical_all_i1850p3_185001-200512_traintest_aug_lowlow_anoms.nc\" + \" \" + mpige_dir_slp_hist+\"psl_Amon_MPI-ESM_historical_all_i1850p3_185001-200512_traintest_aug_lowlow_timstd.nc\", output=mpige_dir_slp_hist+\"psl_Amon_MPI-ESM_historical_all_i1850p3_185001-200512_traintest_aug_lowlow_anomnorm.nc\")\n"
   ]
  },
  {
   "cell_type": "code",
   "execution_count": null,
   "id": "72022977-4c9a-402c-937d-9cde7c027761",
   "metadata": {},
   "outputs": [],
   "source": [
    "JJA_paths=[]\n",
    "member_index_length = len(member_index)\n",
    "\n",
    "for i in range(member_index_length):\n",
    "    output=os.path.join(mpige_dir_slp_hist, \"psl_Amon_MPI-ESM_historical_r\" + str(member_index[i])+'i1850p3_185001-200512_JJA.nc')\n",
    "    JJA_paths.append(output)for i in range(member_index_length):\n",
    "    CDO.timselmean(\"3\", input=\"-selmon,6,7,8 \" + input_paths[i], output=JJA_paths[i])\n",
    "        \n",
    "CDO.cat(input=JJA_paths[:member_index_length], output=mpige_dir_slp_hist+\"psl_Amon_MPI-ESM_historical_all_i1850p3_185001-200512_traintest_JJA.nc\")\n",
    "CDO.remapnn(\"r96x48\",input=mpige_dir_slp_hist+\"psl_Amon_MPI-ESM_historical_all_i1850p3_185001-200512_traintest_JJA.nc\",output=mpige_dir_slp_hist+\"psl_Amon_MPI-ESM_historical_all_i1850p3_185001-200512_traintest_JJA_lowlow.nc\")\n",
    "CDO.timstd(input=mpige_dir_slp_hist+\"psl_Amon_MPI-ESM_historical_all_i1850p3_185001-200512_traintest_JJA_lowlow.nc\",output=mpige_dir_slp_hist+\"psl_Amon_MPI-ESM_historical_all_i1850p3_185001-200512_traintest_JJA_lowlow_timstd.nc\")\n",
    "CDO.sub(input=mpige_dir_slp_hist+\"psl_Amon_MPI-ESM_historical_all_i1850p3_185001-200512_traintest_JJA_lowlow.nc\"+\" -timmean \" + mpige_dir_slp_hist+\"psl_Amon_MPI-ESM_historical_all_i1850p3_185001-200512_traintest_JJA_lowlow.nc\", output=mpige_dir_slp_hist+\"psl_Amon_MPI-ESM_historical_all_i1850p3_185001-200512_traintest_JJA_lowlow_anoms.nc\")\n",
    "CDO.div(input=mpige_dir_slp_hist+\"psl_Amon_MPI-ESM_historical_all_i1850p3_185001-200512_traintest_JJA_lowlow_anoms.nc\" + \" \" + mpige_dir_slp_hist+\"psl_Amon_MPI-ESM_historical_all_i1850p3_185001-200512_traintest_JJA_lowlow_timstd.nc\", output=mpige_dir_slp_hist+\"psl_Amon_MPI-ESM_historical_all_i1850p3_185001-200512_traintest_JJA_lowlow_anomnorm.nc\")\n",
    "\n",
    "\n"
   ]
  },
  {
   "cell_type": "code",
   "execution_count": null,
   "id": "c7e5d2e0-c39e-4e1a-b8a0-c95884fb289c",
   "metadata": {},
   "outputs": [],
   "source": [
    "DJF_paths=[]\n",
    "DJF_anom_paths=[]\n",
    "DJF_norm_paths=[]\n",
    "member_index_length = len(member_index)\n",
    "\n",
    "for i in range(member_index_length):\n",
    "    output=os.path.join(mpige_dir_slp_hist, \"psl_Amon_MPI-ESM_historical_r\" + str(member_index[i])+'i1850p3_185001-200512_DJF.nc')\n",
    "    DJF_paths.append(output)\n",
    "\n",
    "for i in range(member_index_length):\n",
    "    CDO.timselmean(\"3\", input=\"-seltimestep,3/467 -selmon,1,2,12 \" + input_paths[i], output=DJF_paths[i])\n",
    "        \n",
    "CDO.cat(input=DJF_paths[:member_index_length], output=mpige_dir_slp_hist+\"psl_Amon_MPI-ESM_historical_all_i1850p3_185001-200512_traintest_DJF.nc\")\n",
    "CDO.remapnn(\"r96x48\",input=mpige_dir_slp_hist+\"psl_Amon_MPI-ESM_historical_all_i1850p3_185001-200512_traintest_DJF.nc\",output=mpige_dir_slp_hist+\"psl_Amon_MPI-ESM_historical_all_i1850p3_185001-200512_traintest_DJF_lowlow.nc\")\n",
    "CDO.timstd(input=mpige_dir_slp_hist+\"psl_Amon_MPI-ESM_historical_all_i1850p3_185001-200512_traintest_DJF_lowlow.nc\",output=mpige_dir_slp_hist+\"psl_Amon_MPI-ESM_historical_all_i1850p3_185001-200512_traintest_DJF_lowlow_timstd.nc\")\n",
    "CDO.sub(input=mpige_dir_slp_hist+\"psl_Amon_MPI-ESM_historical_all_i1850p3_185001-200512_traintest_DJF_lowlow.nc\"+\" -timmean \" + mpige_dir_slp_hist+\"psl_Amon_MPI-ESM_historical_all_i1850p3_185001-200512_traintest_DJF_lowlow.nc\", output=mpige_dir_slp_hist+\"psl_Amon_MPI-ESM_historical_all_i1850p3_185001-200512_traintest_DJF_lowlow_anoms.nc\")\n",
    "CDO.div(input=mpige_dir_slp_hist+\"psl_Amon_MPI-ESM_historical_all_i1850p3_185001-200512_traintest_DJF_lowlow_anoms.nc\" + \" \" + mpige_dir_slp_hist+\"psl_Amon_MPI-ESM_historical_all_i1850p3_185001-200512_traintest_DJF_lowlow_timstd.nc\", output=mpige_dir_slp_hist+\"psl_Amon_MPI-ESM_historical_all_i1850p3_185001-200512_traintest_DJF_lowlow_anomnorm.nc\")\n",
    "\n",
    "\n"
   ]
  },
  {
   "cell_type": "code",
   "execution_count": null,
   "id": "38c6c257-b4a8-418b-a798-e8ee1e2d0892",
   "metadata": {},
   "outputs": [],
   "source": []
  },
  {
   "cell_type": "markdown",
   "id": "2361a55a-f5df-4a6a-b97a-5ccabf41398e",
   "metadata": {
    "jp-MarkdownHeadingCollapsed": true
   },
   "source": [
    "## RCP26 T2M "
   ]
  },
  {
   "cell_type": "code",
   "execution_count": null,
   "id": "american-emperor",
   "metadata": {},
   "outputs": [],
   "source": [
    "\n",
    "mpige_dir=\"/Volumes/SPARK/mpi_ge/\"\n",
    "mpige_dir_t2m_rcp=\"/Volumes/SPARK/mpi_ge/rcp26/t2m/\"\n",
    "#data_name=os.path.join(data_dir,\"test.nc\")\n",
    "#os.chdir(path)"
   ]
  },
  {
   "cell_type": "code",
   "execution_count": null,
   "id": "threatened-azerbaijan",
   "metadata": {},
   "outputs": [],
   "source": [
    "member_index=[f\"{i:03}\" for i in range(1,101)]"
   ]
  },
  {
   "cell_type": "code",
   "execution_count": null,
   "id": "furnished-blame",
   "metadata": {},
   "outputs": [],
   "source": [
    "# lets see what data we have\n",
    "arr = os.listdir(mpige_dir_t2m_rcp)\n",
    "input_paths=[]\n",
    "for file in os.listdir(mpige_dir_t2m_rcp):\n",
    "    if file.endswith(\".nc\"):\n",
    "        print(os.path.join(mpige_dir_t2m_rcp, file))\n",
    "        mpige_t2m_file=os.path.join(mpige_dir_t2m_rcp, file)\n",
    "        input_paths.append(mpige_t2m_file)"
   ]
  },
  {
   "cell_type": "code",
   "execution_count": null,
   "id": "federal-haven",
   "metadata": {},
   "outputs": [],
   "source": [
    "DJF_paths=[]\n",
    "\n",
    "member_index_length = len(member_index)\n",
    "\n",
    "for i in range(member_index_length):\n",
    "    output=os.path.join(mpige_dir_t2m_rcp, \"tas_Amon_MPI-ESM_rcp26_r\" + str(member_index[i])+'i2005p3_200601-209912_DJF.nc')\n",
    "    DJF_paths.append(output)\n",
    "    \n",
    "for i in range(member_index_length):\n",
    "    CDO.timselmean(\"3\", input=\"-seltimestep,3/281 -selmon,1,2,12 \" + input_paths[i], output=DJF_paths[i])\n",
    "        \n",
    "CDO.cat(input=DJF_paths[:member_index_length], output=mpige_dir_t2m_rcp+\"tas_Amon_MPI-ESM_rcp26_all_i2005p3_200601-209912_traintest_DJF.nc\")\n",
    "CDO.remapnn(\"r96x48\",input=mpige_dir_t2m_rcp+\"tas_Amon_MPI-ESM_rcp26_all_i2005p3_200601-209912_traintest_DJF.nc\",output=mpige_dir_t2m_rcp+\"tas_Amon_MPI-ESM_rcp26_all_i2005p3_200601-209912_traintest_DJF_lowlow.nc\")\n",
    "\n",
    "CDO.sub(input=mpige_dir_t2m_rcp+\"tas_Amon_MPI-ESM_rcp26_all_i2005p3_200601-209912_traintest_DJF_lowlow.nc\"+\" -timmean \" + mpige_dir_t2m_hist+\"tas_Amon_MPI-ESM_historical_all_i1850p3_185001-200512_traintest_DJF_lowlow.nc\", output=mpige_dir_t2m_rcp+\"tas_Amon_MPI-ESM_rcp26_all_i2005p3_200601-209912_traintest_DJF_lowlow_anoms.nc\")\n",
    "CDO.div(input=mpige_dir_t2m_rcp+\"tas_Amon_MPI-ESM_rcp26_all_i2005p3_200601-209912_traintest_DJF_lowlow_anoms.nc\" + \" \" + mpige_dir_t2m_hist+\"tas_Amon_MPI-ESM_historical_all_i1850p3_185001-200512_traintest_DJF_lowlow_timstd.nc\", output=mpige_dir_t2m_rcp+\"tas_Amon_MPI-ESM_rcp26_all_i2005p3_200601-209912_traintest_DJF_lowlow_anomnorm.nc\")\n"
   ]
  },
  {
   "cell_type": "code",
   "execution_count": null,
   "id": "subjective-obligation",
   "metadata": {},
   "outputs": [],
   "source": [
    "JJA_paths=[]\n",
    "member_index_length = len(member_index)\n",
    "\n",
    "for i in range(member_index_length):\n",
    "    output=os.path.join(mpige_dir_t2m_rcp, \"tas_Amon_MPI-ESM_rcp26_r\" + str(member_index[i])+'i2005p3_200601-209912_JJA.nc')\n",
    "    JJA_paths.append(output)\n",
    "    \n",
    "for i in range(member_index_length):\n",
    "    CDO.timselmean(\"3\", input=\"-selmon,6,7,8 \" + input_paths[i], output=JJA_paths[i])\n",
    "        \n",
    "CDO.cat(input=JJA_paths[:member_index_length], output=mpige_dir_t2m_rcp+\"tas_Amon_MPI-ESM_rcp26_all_i2005p3_200601-209912_traintest_JJA.nc\")\n",
    "CDO.remapnn(\"r96x48\",input=mpige_dir_t2m_rcp+\"tas_Amon_MPI-ESM_rcp26_all_i2005p3_200601-209912_traintest_JJA.nc\",output=mpige_dir_t2m_rcp+\"tas_Amon_MPI-ESM_rcp26_all_i2005p3_200601-209912_traintest_JJA_lowlow.nc\")\n",
    "\n",
    "CDO.sub(input=mpige_dir_t2m_rcp+\"tas_Amon_MPI-ESM_rcp26_all_i2005p3_200601-209912_traintest_JJA_lowlow.nc\"+\" -timmean \" + mpige_dir_t2m_hist+\"tas_Amon_MPI-ESM_historical_all_i1850p3_185001-200512_traintest_JJA_lowlow.nc\", output=mpige_dir_t2m_rcp+\"tas_Amon_MPI-ESM_rcp26_all_i2005p3_200601-209912_traintest_JJA_lowlow_anoms.nc\")\n",
    "CDO.div(input=mpige_dir_t2m_rcp+\"tas_Amon_MPI-ESM_rcp26_all_i2005p3_200601-209912_traintest_JJA_lowlow_anoms.nc\" + \" \" + mpige_dir_t2m_hist+\"tas_Amon_MPI-ESM_historical_all_i1850p3_185001-200512_traintest_JJA_lowlow_timstd.nc\", output=mpige_dir_t2m_rcp+\"tas_Amon_MPI-ESM_rcp26_all_i2005p3_200601-209912_traintest_JJA_lowlow_anomnorm.nc\")\n",
    "\n"
   ]
  },
  {
   "cell_type": "code",
   "execution_count": null,
   "id": "hired-success",
   "metadata": {},
   "outputs": [],
   "source": [
    "jun_paths=[]\n",
    "member_index_length = len(member_index)\n",
    "\n",
    "for i in range(member_index_length):\n",
    "    output=os.path.join(mpige_dir_t2m_rcp, \"tas_Amon_MPI-ESM_rcp26_r\" + str(member_index[i])+'i2005p3_200601-209912_jun.nc')\n",
    "    jun_paths.append(output)\n",
    "    \n",
    "for i in range(member_index_length):\n",
    "    CDO.selmon(\"6\", input=input_paths[i], output=jun_paths[i])\n",
    "        \n",
    "CDO.cat(input=jun_paths[:member_index_length], output=mpige_dir_t2m_rcp+\"tas_Amon_MPI-ESM_rcp26_all_i2005p3_200601-209912_traintest_jun.nc\")\n",
    "CDO.remapnn(\"r96x48\",input=mpige_dir_t2m_rcp+\"tas_Amon_MPI-ESM_rcp26_all_i2005p3_200601-209912_traintest_jun.nc\",output=mpige_dir_t2m_rcp+\"tas_Amon_MPI-ESM_rcp26_all_i2005p3_200601-209912_traintest_jun_lowlow.nc\")\n",
    "\n",
    "CDO.sub(input=mpige_dir_t2m_rcp+\"tas_Amon_MPI-ESM_rcp26_all_i2005p3_200601-209912_traintest_jun_lowlow.nc\"+\" -timmean \" + mpige_dir_t2m_hist+\"tas_Amon_MPI-ESM_historical_all_i1850p3_185001-200512_traintest_jun_lowlow.nc\", output=mpige_dir_t2m_rcp+\"tas_Amon_MPI-ESM_rcp26_all_i2005p3_200601-209912_traintest_jun_lowlow_anoms.nc\")\n",
    "CDO.div(input=mpige_dir_t2m_rcp+\"tas_Amon_MPI-ESM_rcp26_all_i2005p3_200601-209912_traintest_jun_lowlow_anoms.nc\" + \" \" + mpige_dir_t2m_hist+\"tas_Amon_MPI-ESM_historical_all_i1850p3_185001-200512_traintest_jun_lowlow_timstd.nc\", output=mpige_dir_t2m_rcp+\"tas_Amon_MPI-ESM_rcp26_all_i2005p3_200601-209912_traintest_jun_lowlow_anomnorm.nc\")\n",
    "\n",
    "\n"
   ]
  },
  {
   "cell_type": "code",
   "execution_count": null,
   "id": "ongoing-penguin",
   "metadata": {},
   "outputs": [],
   "source": [
    "jul_paths=[]\n",
    "\n",
    "member_index_length = len(member_index)\n",
    "\n",
    "for i in range(member_index_length):\n",
    "    output=os.path.join(mpige_dir_t2m_rcp, \"tas_Amon_MPI-ESM_rcp26_r\" + str(member_index[i])+'i2005p3_200601-209912_jul.nc')\n",
    "    jul_paths.append(output)\n",
    "    \n",
    "for i in range(member_index_length):\n",
    "    CDO.selmon(\"7\", input=input_paths[i], output=jul_paths[i])\n",
    "        \n",
    "CDO.cat(input=jul_paths[:member_index_length], output=mpige_dir_t2m_rcp+\"tas_Amon_MPI-ESM_rcp26_all_i2005p3_200601-209912_traintest_jul.nc\")\n",
    "CDO.remapnn(\"r96x48\",input=mpige_dir_t2m_rcp+\"tas_Amon_MPI-ESM_rcp26_all_i2005p3_200601-209912_traintest_jul.nc\",output=mpige_dir_t2m_rcp+\"tas_Amon_MPI-ESM_rcp26_all_i2005p3_200601-209912_traintest_jul_lowlow.nc\")\n",
    "\n",
    "CDO.sub(input=mpige_dir_t2m_rcp+\"tas_Amon_MPI-ESM_rcp26_all_i2005p3_200601-209912_traintest_jul_lowlow.nc\"+\" -timmean \" + mpige_dir_t2m_hist+\"tas_Amon_MPI-ESM_historical_all_i1850p3_185001-200512_traintest_jul_lowlow.nc\", output=mpige_dir_t2m_rcp+\"tas_Amon_MPI-ESM_rcp26_all_i2005p3_200601-209912_traintest_jul_lowlow_anoms.nc\")\n",
    "CDO.div(input=mpige_dir_t2m_rcp+\"tas_Amon_MPI-ESM_rcp26_all_i2005p3_200601-209912_traintest_jul_lowlow_anoms.nc\" + \" \" + mpige_dir_t2m_hist+\"tas_Amon_MPI-ESM_historical_all_i1850p3_185001-200512_traintest_jul_lowlow_timstd.nc\", output=mpige_dir_t2m_rcp+\"tas_Amon_MPI-ESM_rcp26_all_i2005p3_200601-209912_traintest_jul_lowlow_anomnorm.nc\")\n",
    "\n",
    "\n",
    "\n",
    "\n"
   ]
  },
  {
   "cell_type": "code",
   "execution_count": null,
   "id": "spare-frame",
   "metadata": {},
   "outputs": [],
   "source": [
    "aug_paths=[]\n",
    "\n",
    "member_index_length = len(member_index)\n",
    "\n",
    "for i in range(member_index_length):\n",
    "    output=os.path.join(mpige_dir_t2m_rcp, \"tas_Amon_MPI-ESM_rcp26_r\" + str(member_index[i])+'i2005p3_200601-209912_aug.nc')\n",
    "    aug_paths.append(output)\n",
    "    \n",
    "for i in range(member_index_length):\n",
    "    CDO.selmon(\"8\", input=input_paths[i], output=aug_paths[i])\n",
    "        \n",
    "CDO.cat(input=aug_paths[:member_index_length], output=mpige_dir_t2m_rcp+\"tas_Amon_MPI-ESM_rcp26_all_i2005p3_200601-209912_traintest_aug.nc\")\n",
    "CDO.remapnn(\"r96x48\",input=mpige_dir_t2m_rcp+\"tas_Amon_MPI-ESM_rcp26_all_i2005p3_200601-209912_traintest_aug.nc\",output=mpige_dir_t2m_rcp\"tas_Amon_MPI-ESM_rcp26_all_i2005p3_200601-209912_traintest_aug_lowlow.nc\")\n",
    "\n",
    "\n",
    "CDO.sub(input=mpige_dir_t2m_rcp+\"tas_Amon_MPI-ESM_rcp26_all_i2005p3_200601-209912_traintest_aug_lowlow.nc\"+\" -timmean \" + mpige_dir_t2m_hist+\"tas_Amon_MPI-ESM_historical_all_i1850p3_185001-200512_traintest_aug_lowlow.nc\", output=mpige_dir_t2m_rcp+\"tas_Amon_MPI-ESM_rcp26_all_i2005p3_200601-209912_traintest_aug_lowlow_anoms.nc\")\n",
    "CDO.div(input=mpige_dir_t2m_rcp+\"tas_Amon_MPI-ESM_rcp26_all_i2005p3_200601-209912_traintest_aug_lowlow_anoms.nc\" + \" \" + mpige_dir_t2m_hist+\"tas_Amon_MPI-ESM_historical_all_i1850p3_185001-200512_traintest_aug_lowlow_timstd.nc\", output=mpige_dir_t2m_rcp+\"tas_Amon_MPI-ESM_rcp26_all_i2005p3_200601-209912_traintest_aug_lowlow_anomnorm.nc\")\n",
    "\n",
    "\n",
    "\n",
    "\n"
   ]
  },
  {
   "cell_type": "code",
   "execution_count": null,
   "id": "sealed-liberal",
   "metadata": {},
   "outputs": [],
   "source": [
    "dec_paths=[]\n",
    "\n",
    "member_index_length = len(member_index)\n",
    "\n",
    "for i in range(member_index_length):\n",
    "    output=os.path.join(mpige_dir_t2m_rcp, \"tas_Amon_MPI-ESM_rcp26_r\" + str(member_index[i])+'i2005p3_200601-209912_dec.nc')\n",
    "    dec_paths.append(output)\n",
    "    "
   ]
  },
  {
   "cell_type": "code",
   "execution_count": null,
   "id": "excellent-roads",
   "metadata": {},
   "outputs": [],
   "source": [
    "jan_paths=[]\n",
    "\n",
    "member_index_length = len(member_index)\n",
    "\n",
    "for i in range(member_index_length):\n",
    "    output=os.path.join(mpige_dir_t2m_rcp, \"tas_Amon_MPI-ESM_rcp26_r\" + str(member_index[i])+'i2005p3_200601-209912_jan.nc')\n",
    "    jan_paths.append(output)\n",
    "    "
   ]
  },
  {
   "cell_type": "code",
   "execution_count": null,
   "id": "freelance-property",
   "metadata": {},
   "outputs": [],
   "source": [
    "feb_paths=[]\n",
    "\n",
    "member_index_length = len(member_index)\n",
    "\n",
    "for i in range(member_index_length):\n",
    "    output=os.path.join(mpige_dir_t2m_rcp, \"tas_Amon_MPI-ESM_rcp26_r\" + str(member_index[i])+'i2005p3_200601-209912_feb.nc')\n",
    "    feb_paths.append(output)\n",
    "    "
   ]
  },
  {
   "cell_type": "code",
   "execution_count": null,
   "id": "laughing-minneapolis",
   "metadata": {},
   "outputs": [],
   "source": [
    "# calculate dec means and cut them to the region we will use for the dec NAO calculation via EOFs\n",
    "# 1872/4 = 468, we wanna disregard the first J F and the last D \n",
    "\n",
    "for i in range(member_index_length):\n",
    "    CDO.selmon(\"12\", input=\" -selyear,2006/2098 \" +input_paths[i], output=dec_paths[i])\n",
    "\n",
    "CDO.cat(input=dec_paths[:member_index_length], output=mpige_dir_t2m_rcp+\"tas_Amon_MPI-ESM_rcp26_all_i2005p3_200601-209912_traintest_dec.nc\")\n",
    "CDO.remapnn(\"r96x48\",input=mpige_dir_t2m_rcp+\"tas_Amon_MPI-ESM_rcp26_all_i2005p3_200601-209912_traintest_dec.nc\",output=mpige_dir_t2m_rcp+\"tas_Amon_MPI-ESM_rcp26_all_i2005p3_200601-209912_traintest_dec_lowlow.nc\")\n",
    "\n",
    "\n",
    "CDO.sub(input=mpige_dir_t2m_rcp+\"tas_Amon_MPI-ESM_rcp26_all_i2005p3_200601-209912_traintest_dec_lowlow.nc\"+\" -timmean \" + mpige_dir_t2m_hist+\"tas_Amon_MPI-ESM_historical_all_i1850p3_185001-200512_traintest_dec_lowlow.nc\", output=mpige_dir_t2m_rcp+\"tas_Amon_MPI-ESM_rcp26_all_i2005p3_200601-209912_traintest_dec_lowlow_anoms.nc\")\n",
    "CDO.div(input=mpige_dir_t2m_rcp+\"tas_Amon_MPI-ESM_rcp26_all_i2005p3_200601-209912_traintest_dec_lowlow_anoms.nc\" + \" \" + mpige_dir_t2m_hist+\"tas_Amon_MPI-ESM_historical_all_i1850p3_185001-200512_traintest_dec_lowlow_timstd.nc\", output=mpige_dir_t2m_rcp+\"tas_Amon_MPI-ESM_rcp26_all_i2005p3_200601-209912_traintest_dec_lowlow_anomnorm.nc\")\n"
   ]
  },
  {
   "cell_type": "code",
   "execution_count": null,
   "id": "announced-decimal",
   "metadata": {},
   "outputs": [],
   "source": [
    "# calculate DJF means and cut them to the region we will use for the DJF NAO calculation via EOFs\n",
    "# 1872/4 = 468, we wanna disregard the first J F and the last D \n",
    "\n",
    "for i in range(member_index_length):\n",
    "    CDO.selmon(\"1\", input=\" -selyear,2007/2099 \" +input_paths[i], output=jan_paths[i])\n",
    "\n",
    "CDO.cat(input=jan_paths[:member_index_length], output=mpige_dir_t2m_rcp+\"tas_Amon_MPI-ESM_rcp26_all_i2005p3_200601-209912_traintest_jan.nc\")\n",
    "CDO.remapnn(\"r96x48\",input=mpige_dir_t2m_rcp+\"tas_Amon_MPI-ESM_rcp26_all_i2005p3_200601-209912_traintest_jan.nc\",output=mpige_dir_t2m_rcp+\"tas_Amon_MPI-ESM_rcp26_all_i2005p3_200601-209912_traintest_jan_lowlow.nc\")\n",
    "\n",
    "CDO.sub(input=mpige_dir_t2m_rcp+\"tas_Amon_MPI-ESM_rcp26_all_i2005p3_200601-209912_traintest_jan_lowlow.nc\"+\" -timmean \" + mpige_dir_t2m_hist+\"tas_Amon_MPI-ESM_historical_all_i1850p3_185001-200512_traintest_jan_lowlow.nc\", output=mpige_dir_t2m_rcp+\"tas_Amon_MPI-ESM_rcp26_all_i2005p3_200601-209912_traintest_jan_lowlow_anoms.nc\")\n",
    "CDO.div(input=mpige_dir_t2m_rcp+\"tas_Amon_MPI-ESM_rcp26_all_i2005p3_200601-209912_traintest_jan_lowlow_anoms.nc\" + \" \" + mpige_dir_t2m_hist+\"tas_Amon_MPI-ESM_historical_all_i1850p3_185001-200512_traintest_jan_lowlow_timstd.nc\", output=mpige_dir_t2m_rcp+\"tas_Amon_MPI-ESM_rcp26_all_i2005p3_200601-209912_traintest_jan_lowlow_anomnorm.nc\")\n",
    "\n"
   ]
  },
  {
   "cell_type": "code",
   "execution_count": null,
   "id": "studied-spyware",
   "metadata": {},
   "outputs": [],
   "source": [
    "# calculate DJF means and cut them to the region we will use for the DJF NAO calculation via EOFs\n",
    "# 1872/4 = 468, we wanna disregard the first J F and the last D \n",
    "\n",
    "for i in range(member_index_length):\n",
    "    CDO.selmon(\"2\", input=\" -selyear,2007/2099 \" +input_paths[i], output=feb_paths[i])\n",
    "\n",
    "CDO.cat(input=feb_paths[:member_index_length], output=mpige_dir_t2m_rcp+\"tas_Amon_MPI-ESM_rcp26_all_i2005p3_200601-209912_traintest_feb.nc\")\n",
    "CDO.remapnn(\"r96x48\",input=mpige_dir_t2m_rcp+\"tas_Amon_MPI-ESM_rcp26_all_i2005p3_200601-209912_traintest_feb.nc\",output=mpige_dir_t2m_rcp+\"tas_Amon_MPI-ESM_rcp26_all_i2005p3_200601-209912_traintest_feb_lowlow.nc\")\n",
    "\n",
    "CDO.sub(input=mpige_dir_t2m_rcp+\"tas_Amon_MPI-ESM_rcp26_all_i2005p3_200601-209912_traintest_feb_lowlow.nc\"+\" -timmean \" + mpige_dir_t2m_hist+\"tas_Amon_MPI-ESM_historical_all_i1850p3_185001-200512_traintest_feb_lowlow.nc\", output=mpige_dir_t2m_rcp+\"tas_Amon_MPI-ESM_rcp26_all_i2005p3_200601-209912_traintest_feb_lowlow_anoms.nc\")\n",
    "CDO.div(input=mpige_dir_t2m_rcp+\"tas_Amon_MPI-ESM_rcp26_all_i2005p3_200601-209912_traintest_feb_lowlow_anoms.nc\" + \" \" + mpige_dir_t2m_hist+\"tas_Amon_MPI-ESM_historical_all_i1850p3_185001-200512_traintest_feb_lowlow_timstd.nc\", output=mpige_dir_t2m_rcp+\"tas_Amon_MPI-ESM_rcp26_all_i2005p3_200601-209912_traintest_feb_lowlow_anomnorm.nc\")\n",
    "\n"
   ]
  },
  {
   "cell_type": "code",
   "execution_count": null,
   "id": "b97c2a9f-2fad-4232-bcfb-eebd2621abd4",
   "metadata": {},
   "outputs": [],
   "source": []
  },
  {
   "cell_type": "code",
   "execution_count": null,
   "id": "9751fa98-8e1e-4746-aeab-21db091c2036",
   "metadata": {},
   "outputs": [],
   "source": []
  },
  {
   "cell_type": "markdown",
   "id": "83f75b32-8165-4738-9799-36df4de79e42",
   "metadata": {
    "jp-MarkdownHeadingCollapsed": true
   },
   "source": [
    "## RCP26 SLP"
   ]
  },
  {
   "cell_type": "code",
   "execution_count": null,
   "id": "b5e24117-7c31-4ee0-9ef6-bb301958352c",
   "metadata": {},
   "outputs": [],
   "source": [
    "\n",
    "mpige_dir=\"/Volumes/SPARK/mpi_ge/\"\n",
    "mpige_dir_t2m_rcp=\"/Volumes/SPARK/mpi_ge/rcp26/slp/\"\n",
    "#data_name=os.path.join(data_dir,\"test.nc\")\n",
    "#os.chdir(path)"
   ]
  },
  {
   "cell_type": "code",
   "execution_count": null,
   "id": "9992be6f-77f9-457d-805e-5bf0636eefd1",
   "metadata": {},
   "outputs": [],
   "source": [
    "member_index=[f\"{i:03}\" for i in range(1,101)]"
   ]
  },
  {
   "cell_type": "code",
   "execution_count": null,
   "id": "73133d9b-eaae-4a15-88ce-b2aaf503deae",
   "metadata": {},
   "outputs": [],
   "source": [
    "# lets see what data we have\n",
    "arr = os.listdir(mpige_dir_slp_rcp)\n",
    "input_paths=[]\n",
    "for file in os.listdir(mpige_dir_slp_rcp):\n",
    "    if file.endswith(\".nc\"):\n",
    "        print(os.path.join(mpige_dir_slp_rcp, file))\n",
    "        mpige_slp_file=os.path.join(mpige_dir_slp_rcp, file)\n",
    "        input_paths.append(mpige_slp_file)"
   ]
  },
  {
   "cell_type": "code",
   "execution_count": null,
   "id": "cf3dc723-c0e9-4e7c-a2a6-18efab8dbaee",
   "metadata": {},
   "outputs": [],
   "source": [
    "DJF_paths=[]\n",
    "\n",
    "member_index_length = len(member_index)\n",
    "\n",
    "for i in range(member_index_length):\n",
    "    output=os.path.join(mpige_dir_slp_rcp, \"psl_Amon_MPI-ESM_rcp26_r\" + str(member_index[i])+'i2005p3_200601-209912_DJF.nc')\n",
    "    DJF_paths.append(output)\n",
    "    \n",
    "for i in range(member_index_length):\n",
    "    CDO.timselmean(\"3\", input=\"-seltimestep,3/281 -selmon,1,2,12 \" + input_paths[i], output=DJF_paths[i])\n",
    "        \n",
    "CDO.cat(input=DJF_paths[:member_index_length], output=mpige_dir_slp_rcp+\"psl_Amon_MPI-ESM_rcp26_all_i2005p3_200601-209912_traintest_DJF.nc\")\n",
    "CDO.remapnn(\"r96x48\",input=mpige_dir_slp_rcp+\"psl_Amon_MPI-ESM_rcp26_all_i2005p3_200601-209912_traintest_DJF.nc\",output=mpige_dir_slp_rcp+\"psl_Amon_MPI-ESM_rcp26_all_i2005p3_200601-209912_traintest_DJF_lowlow.nc\")\n",
    "\n",
    "CDO.sub(input=mpige_dir_slp_rcp+\"psl_Amon_MPI-ESM_rcp26_all_i2005p3_200601-209912_traintest_DJF_lowlow.nc\"+\" -timmean \" + mpige_dir_slp_hist+\"psl_Amon_MPI-ESM_historical_all_i1850p3_185001-200512_traintest_DJF_lowlow.nc\", output=mpige_dir_slp_rcp+\"psl_Amon_MPI-ESM_rcp26_all_i2005p3_200601-209912_traintest_DJF_lowlow_anoms.nc\")\n",
    "CDO.div(input=mpige_dir_slp_rcp+\"psl_Amon_MPI-ESM_rcp26_all_i2005p3_200601-209912_traintest_DJF_lowlow_anoms.nc\" + \" \" + mpige_dir_slp_hist+\"psl_Amon_MPI-ESM_historical_all_i1850p3_185001-200512_traintest_DJF_lowlow_timstd.nc\", output=mpige_dir_slp_rcp+\"psl_Amon_MPI-ESM_rcp26_all_i2005p3_200601-209912_traintest_DJF_lowlow_anomnorm.nc\")\n"
   ]
  },
  {
   "cell_type": "code",
   "execution_count": null,
   "id": "d5797964-9d6c-43cc-8d0c-86e6b781dfc7",
   "metadata": {},
   "outputs": [],
   "source": [
    "JJA_paths=[]\n",
    "member_index_length = len(member_index)\n",
    "\n",
    "for i in range(member_index_length):\n",
    "    output=os.path.join(mpige_dir_slp_rcp, \"psl_Amon_MPI-ESM_rcp26_r\" + str(member_index[i])+'i2005p3_200601-209912_JJA.nc')\n",
    "    JJA_paths.append(output)\n",
    "    \n",
    "for i in range(member_index_length):\n",
    "    CDO.timselmean(\"3\", input=\"-selmon,6,7,8 \" + input_paths[i], output=JJA_paths[i])\n",
    "        \n",
    "CDO.cat(input=JJA_paths[:member_index_length], output=mpige_dir_slp_rcp+\"psl_Amon_MPI-ESM_rcp26_all_i2005p3_200601-209912_traintest_JJA.nc\")\n",
    "CDO.remapnn(\"r96x48\",input=mpige_dir_slp_rcp+\"psl_Amon_MPI-ESM_rcp26_all_i2005p3_200601-209912_traintest_JJA.nc\",output=mpige_dir_slp_rcp+\"psl_Amon_MPI-ESM_rcp26_all_i2005p3_200601-209912_traintest_JJA_lowlow.nc\")\n",
    "\n",
    "CDO.sub(input=mpige_dir_slp_rcp+\"psl_Amon_MPI-ESM_rcp26_all_i2005p3_200601-209912_traintest_JJA_lowlow.nc\"+\" -timmean \" + mpige_dir_slp_hist+\"psl_Amon_MPI-ESM_historical_all_i1850p3_185001-200512_traintest_JJA_lowlow.nc\", output=mpige_dir_slp_rcp+\"psl_Amon_MPI-ESM_rcp26_all_i2005p3_200601-209912_traintest_JJA_lowlow_anoms.nc\")\n",
    "CDO.div(input=mpige_dir_slp_rcp+\"psl_Amon_MPI-ESM_rcp26_all_i2005p3_200601-209912_traintest_JJA_lowlow_anoms.nc\" + \" \" + mpige_dir_slp_hist+\"psl_Amon_MPI-ESM_historical_all_i1850p3_185001-200512_traintest_JJA_lowlow_timstd.nc\", output=mpige_dir_slp_rcp+\"psl_Amon_MPI-ESM_rcp26_all_i2005p3_200601-209912_traintest_JJA_lowlow_anomnorm.nc\")\n",
    "\n"
   ]
  },
  {
   "cell_type": "code",
   "execution_count": null,
   "id": "4cab88d3-1c3f-4d88-aea3-9b412a38a453",
   "metadata": {},
   "outputs": [],
   "source": [
    "jun_paths=[]\n",
    "member_index_length = len(member_index)\n",
    "\n",
    "for i in range(member_index_length):\n",
    "    output=os.path.join(mpige_dir_slp_rcp, \"psl_Amon_MPI-ESM_rcp26_r\" + str(member_index[i])+'i2005p3_200601-209912_jun.nc')\n",
    "    jun_paths.append(output)\n",
    "    \n",
    "for i in range(member_index_length):\n",
    "    CDO.selmon(\"6\", input=input_paths[i], output=jun_paths[i])\n",
    "        \n",
    "CDO.cat(input=jun_paths[:member_index_length], output=mpige_dir_slp_rcp+\"psl_Amon_MPI-ESM_rcp26_all_i2005p3_200601-209912_traintest_jun.nc\")\n",
    "CDO.remapnn(\"r96x48\",input=mpige_dir_slp_rcp+\"psl_Amon_MPI-ESM_rcp26_all_i2005p3_200601-209912_traintest_jun.nc\",output=mpige_dir_slp_rcp+\"psl_Amon_MPI-ESM_rcp26_all_i2005p3_200601-209912_traintest_jun_lowlow.nc\")\n",
    "\n",
    "CDO.sub(input=mpige_dir_slp_rcp+\"psl_Amon_MPI-ESM_rcp26_all_i2005p3_200601-209912_traintest_jun_lowlow.nc\"+\" -timmean \" + mpige_dir_slp_hist+\"psl_Amon_MPI-ESM_historical_all_i1850p3_185001-200512_traintest_jun_lowlow.nc\", output=mpige_dir_slp_rcp+\"psl_Amon_MPI-ESM_rcp26_all_i2005p3_200601-209912_traintest_jun_lowlow_anoms.nc\")\n",
    "CDO.div(input=mpige_dir_slp_rcp+\"psl_Amon_MPI-ESM_rcp26_all_i2005p3_200601-209912_traintest_jun_lowlow_anoms.nc\" + \" \" + mpige_dir_slp_hist+\"psl_Amon_MPI-ESM_historical_all_i1850p3_185001-200512_traintest_jun_lowlow_timstd.nc\", output=mpige_dir_slp_rcp+\"psl_Amon_MPI-ESM_rcp26_all_i2005p3_200601-209912_traintest_jun_lowlow_anomnorm.nc\")\n",
    "\n",
    "\n"
   ]
  },
  {
   "cell_type": "code",
   "execution_count": null,
   "id": "e26def7f-dc5f-4f74-9ca8-18bfa2550b6b",
   "metadata": {},
   "outputs": [],
   "source": [
    "jul_paths=[]\n",
    "\n",
    "member_index_length = len(member_index)\n",
    "\n",
    "for i in range(member_index_length):\n",
    "    output=os.path.join(mpige_dir_slp_rcp, \"psl_Amon_MPI-ESM_rcp26_r\" + str(member_index[i])+'i2005p3_200601-209912_jul.nc')\n",
    "    jul_paths.append(output)\n",
    "    \n",
    "for i in range(member_index_length):\n",
    "    CDO.selmon(\"7\", input=input_paths[i], output=jul_paths[i])\n",
    "        \n",
    "CDO.cat(input=jul_paths[:member_index_length], output=mpige_dir_slp_rcp+\"psl_Amon_MPI-ESM_rcp26_all_i2005p3_200601-209912_traintest_jul.nc\")\n",
    "CDO.remapnn(\"r96x48\",input=mpige_dir_slp_rcp+\"psl_Amon_MPI-ESM_rcp26_all_i2005p3_200601-209912_traintest_jul.nc\",output=mpige_dir_slp_rcp+\"psl_Amon_MPI-ESM_rcp26_all_i2005p3_200601-209912_traintest_jul_lowlow.nc\")\n",
    "\n",
    "CDO.sub(input=mpige_dir_slp_rcp+\"psl_Amon_MPI-ESM_rcp26_all_i2005p3_200601-209912_traintest_jul_lowlow.nc\"+\" -timmean \" + mpige_dir_slp_hist+\"psl_Amon_MPI-ESM_historical_all_i1850p3_185001-200512_traintest_jul_lowlow.nc\", output=mpige_dir_slp_rcp+\"psl_Amon_MPI-ESM_rcp26_all_i2005p3_200601-209912_traintest_jul_lowlow_anoms.nc\")\n",
    "CDO.div(input=mpige_dir_slp_rcp+\"psl_Amon_MPI-ESM_rcp26_all_i2005p3_200601-209912_traintest_jul_lowlow_anoms.nc\" + \" \" + mpige_dir_slp_hist+\"psl_Amon_MPI-ESM_historical_all_i1850p3_185001-200512_traintest_jul_lowlow_timstd.nc\", output=mpige_dir_slp_rcp+\"psl_Amon_MPI-ESM_rcp26_all_i2005p3_200601-209912_traintest_jul_lowlow_anomnorm.nc\")\n",
    "\n",
    "\n",
    "\n",
    "\n"
   ]
  },
  {
   "cell_type": "code",
   "execution_count": null,
   "id": "3fbb2c1d-8618-4746-95ad-f77a08f568e3",
   "metadata": {},
   "outputs": [],
   "source": [
    "aug_paths=[]\n",
    "\n",
    "member_index_length = len(member_index)\n",
    "\n",
    "for i in range(member_index_length):\n",
    "    output=os.path.join(mpige_dir_slp_rcp, \"psl_Amon_MPI-ESM_rcp26_r\" + str(member_index[i])+'i2005p3_200601-209912_aug.nc')\n",
    "    aug_paths.append(output)\n",
    "    \n",
    "for i in range(member_index_length):\n",
    "    CDO.selmon(\"8\", input=input_paths[i], output=aug_paths[i])\n",
    "        \n",
    "CDO.cat(input=aug_paths[:member_index_length], output=mpige_dir_slp_rcp+\"psl_Amon_MPI-ESM_rcp26_all_i2005p3_200601-209912_traintest_aug.nc\")\n",
    "CDO.remapnn(\"r96x48\",input=mpige_dir_slp_rcp+\"psl_Amon_MPI-ESM_rcp26_all_i2005p3_200601-209912_traintest_aug.nc\",output=mpige_dir_t2m_rcp\"tas_Amon_MPI-ESM_rcp26_all_i2005p3_200601-209912_traintest_aug_lowlow.nc\")\n",
    "\n",
    "\n",
    "CDO.sub(input=mpige_dir_slp_rcp+\"psl_Amon_MPI-ESM_rcp26_all_i2005p3_200601-209912_traintest_aug_lowlow.nc\"+\" -timmean \" + mpige_dir_slp_hist+\"psl_Amon_MPI-ESM_historical_all_i1850p3_185001-200512_traintest_aug_lowlow.nc\", output=mpige_dir_slp_rcp+\"psl_Amon_MPI-ESM_rcp26_all_i2005p3_200601-209912_traintest_aug_lowlow_anoms.nc\")\n",
    "CDO.div(input=mpige_dir_slp_rcp+\"psl_Amon_MPI-ESM_rcp26_all_i2005p3_200601-209912_traintest_aug_lowlow_anoms.nc\" + \" \" + mpige_dir_slp_hist+\"psl_Amon_MPI-ESM_historical_all_i1850p3_185001-200512_traintest_aug_lowlow_timstd.nc\", output=mpige_dir_slp_rcp+\"psl_Amon_MPI-ESM_rcp26_all_i2005p3_200601-209912_traintest_aug_lowlow_anomnorm.nc\")\n",
    "\n",
    "\n",
    "\n",
    "\n"
   ]
  },
  {
   "cell_type": "code",
   "execution_count": null,
   "id": "34ebd15d-3b4a-47ff-a8de-fac1d26bc965",
   "metadata": {},
   "outputs": [],
   "source": [
    "dec_paths=[]\n",
    "\n",
    "member_index_length = len(member_index)\n",
    "\n",
    "for i in range(member_index_length):\n",
    "    output=os.path.join(mpige_dir_slp_rcp, \"psl_Amon_MPI-ESM_rcp26_r\" + str(member_index[i])+'i2005p3_200601-209912_dec.nc')\n",
    "    dec_paths.append(output)\n",
    "    "
   ]
  },
  {
   "cell_type": "code",
   "execution_count": null,
   "id": "853cd9e9-1863-4020-ab17-f6fef419d8ae",
   "metadata": {},
   "outputs": [],
   "source": [
    "jan_paths=[]\n",
    "\n",
    "member_index_length = len(member_index)\n",
    "\n",
    "for i in range(member_index_length):\n",
    "    output=os.path.join(mpige_dir_slp_rcp, \"psl_Amon_MPI-ESM_rcp26_r\" + str(member_index[i])+'i2005p3_200601-209912_jan.nc')\n",
    "    jan_paths.append(output)\n",
    "    "
   ]
  },
  {
   "cell_type": "code",
   "execution_count": null,
   "id": "74893a3b-4d4b-44bc-a5b8-8dae9a062bbc",
   "metadata": {},
   "outputs": [],
   "source": [
    "feb_paths=[]\n",
    "\n",
    "member_index_length = len(member_index)\n",
    "\n",
    "for i in range(member_index_length):\n",
    "    output=os.path.join(mpige_dir_slp_rcp, \"psl_Amon_MPI-ESM_rcp26_r\" + str(member_index[i])+'i2005p3_200601-209912_feb.nc')\n",
    "    feb_paths.append(output)\n",
    "    "
   ]
  },
  {
   "cell_type": "code",
   "execution_count": null,
   "id": "c3996bae-e806-42b7-afbd-21cd251b6241",
   "metadata": {},
   "outputs": [],
   "source": [
    "# calculate dec means and cut them to the region we will use for the dec NAO calculation via EOFs\n",
    "# 1872/4 = 468, we wanna disregard the first J F and the last D \n",
    "\n",
    "for i in range(member_index_length):\n",
    "    CDO.selmon(\"12\", input=\" -selyear,2006/2098 \" +input_paths[i], output=dec_paths[i])\n",
    "\n",
    "CDO.cat(input=dec_paths[:member_index_length], output=mpige_dir_slp_rcp+\"psl_Amon_MPI-ESM_rcp26_all_i2005p3_200601-209912_traintest_dec.nc\")\n",
    "CDO.remapnn(\"r96x48\",input=mpige_dir_slp_rcp+\"psl_Amon_MPI-ESM_rcp26_all_i2005p3_200601-209912_traintest_dec.nc\",output=mpige_dir_slp_rcp+\"psl_Amon_MPI-ESM_rcp26_all_i2005p3_200601-209912_traintest_dec_lowlow.nc\")\n",
    "\n",
    "\n",
    "CDO.sub(input=mpige_dir_slp_rcp+\"psl_Amon_MPI-ESM_rcp26_all_i2005p3_200601-209912_traintest_dec_lowlow.nc\"+\" -timmean \" + mpige_dir_slp_hist+\"psl_Amon_MPI-ESM_historical_all_i1850p3_185001-200512_traintest_dec_lowlow.nc\", output=mpige_dir_slp_rcp+\"psl_Amon_MPI-ESM_rcp26_all_i2005p3_200601-209912_traintest_dec_lowlow_anoms.nc\")\n",
    "CDO.div(input=mpige_dir_slp_rcp+\"psl_Amon_MPI-ESM_rcp26_all_i2005p3_200601-209912_traintest_dec_lowlow_anoms.nc\" + \" \" + mpige_dir_slp_hist+\"psl_Amon_MPI-ESM_historical_all_i1850p3_185001-200512_traintest_dec_lowlow_timstd.nc\", output=mpige_dir_slp_rcp+\"psl_Amon_MPI-ESM_rcp26_all_i2005p3_200601-209912_traintest_dec_lowlow_anomnorm.nc\")\n"
   ]
  },
  {
   "cell_type": "code",
   "execution_count": null,
   "id": "c8932b0f-f364-4349-8aba-71c3875e0ff9",
   "metadata": {},
   "outputs": [],
   "source": [
    "# calculate DJF means and cut them to the region we will use for the DJF NAO calculation via EOFs\n",
    "# 1872/4 = 468, we wanna disregard the first J F and the last D \n",
    "\n",
    "for i in range(member_index_length):\n",
    "    CDO.selmon(\"1\", input=\" -selyear,2007/2099 \" +input_paths[i], output=jan_paths[i])\n",
    "\n",
    "CDO.cat(input=jan_paths[:member_index_length], output=mpige_dir_slp_rcp+\"psl_Amon_MPI-ESM_rcp26_all_i2005p3_200601-209912_traintest_jan.nc\")\n",
    "CDO.remapnn(\"r96x48\",input=mpige_dir_slp_rcp+\"psl_Amon_MPI-ESM_rcp26_all_i2005p3_200601-209912_traintest_jan.nc\",output=mpige_dir_slp_rcp+\"psl_Amon_MPI-ESM_rcp26_all_i2005p3_200601-209912_traintest_jan_lowlow.nc\")\n",
    "\n",
    "CDO.sub(input=mpige_dir_slp_rcp+\"psl_Amon_MPI-ESM_rcp26_all_i2005p3_200601-209912_traintest_jan_lowlow.nc\"+\" -timmean \" + mpige_dir_slp_hist+\"psl_Amon_MPI-ESM_historical_all_i1850p3_185001-200512_traintest_jan_lowlow.nc\", output=mpige_dir_slp_rcp+\"psl_Amon_MPI-ESM_rcp26_all_i2005p3_200601-209912_traintest_jan_lowlow_anoms.nc\")\n",
    "CDO.div(input=mpige_dir_slp_rcp+\"psl_Amon_MPI-ESM_rcp26_all_i2005p3_200601-209912_traintest_jan_lowlow_anoms.nc\" + \" \" + mpige_dir_slp_hist+\"psl_Amon_MPI-ESM_historical_all_i1850p3_185001-200512_traintest_jan_lowlow_timstd.nc\", output=mpige_dir_slp_rcp+\"psl_Amon_MPI-ESM_rcp26_all_i2005p3_200601-209912_traintest_jan_lowlow_anomnorm.nc\")\n",
    "\n"
   ]
  },
  {
   "cell_type": "code",
   "execution_count": null,
   "id": "de038544-90c9-436c-9b19-14b76e825d45",
   "metadata": {},
   "outputs": [],
   "source": [
    "# calculate DJF means and cut them to the region we will use for the DJF NAO calculation via EOFs\n",
    "# 1872/4 = 468, we wanna disregard the first J F and the last D \n",
    "\n",
    "for i in range(member_index_length):\n",
    "    CDO.selmon(\"2\", input=\" -selyear,2007/2099 \" +input_paths[i], output=feb_paths[i])\n",
    "\n",
    "CDO.cat(input=feb_paths[:member_index_length], output=mpige_dir_slp_rcp+\"psl_Amon_MPI-ESM_rcp26_all_i2005p3_200601-209912_traintest_feb.nc\")\n",
    "CDO.remapnn(\"r96x48\",input=mpige_dir_slp_rcp+\"psl_Amon_MPI-ESM_rcp26_all_i2005p3_200601-209912_traintest_feb.nc\",output=mpige_dir_slp_rcp+\"psl_Amon_MPI-ESM_rcp26_all_i2005p3_200601-209912_traintest_feb_lowlow.nc\")\n",
    "\n",
    "CDO.sub(input=mpige_dir_slp_rcp+\"psl_Amon_MPI-ESM_rcp26_all_i2005p3_200601-209912_traintest_feb_lowlow.nc\"+\" -timmean \" + mpige_dir_slp_hist+\"psl_Amon_MPI-ESM_historical_all_i1850p3_185001-200512_traintest_feb_lowlow.nc\", output=mpige_dir_slp_rcp+\"psl_Amon_MPI-ESM_rcp26_all_i2005p3_200601-209912_traintest_feb_lowlow_anoms.nc\")\n",
    "CDO.div(input=mpige_dir_slp_rcp+\"psl_Amon_MPI-ESM_rcp26_all_i2005p3_200601-209912_traintest_feb_lowlow_anoms.nc\" + \" \" + mpige_dir_slp_hist+\"psl_Amon_MPI-ESM_historical_all_i1850p3_185001-200512_traintest_feb_lowlow_timstd.nc\", output=mpige_dir_slp_rcp+\"psl_Amon_MPI-ESM_rcp26_all_i2005p3_200601-209912_traintest_feb_lowlow_anomnorm.nc\")\n",
    "\n"
   ]
  },
  {
   "cell_type": "code",
   "execution_count": null,
   "id": "2cef6ebd-99bb-4f40-b534-50e79cd3a2f6",
   "metadata": {},
   "outputs": [],
   "source": []
  },
  {
   "cell_type": "markdown",
   "id": "685db1d2-55a6-45a5-a39c-cbca9824701c",
   "metadata": {
    "jp-MarkdownHeadingCollapsed": true
   },
   "source": [
    "## CONTROL T2M "
   ]
  },
  {
   "cell_type": "code",
   "execution_count": null,
   "id": "85aaf590-2b79-471c-9424-c558a11c859d",
   "metadata": {},
   "outputs": [],
   "source": [
    "\n",
    "mpige_dir=\"/Volumes/SPARK/mpi_ge/\"\n",
    "mpige_dir_t2m_ctl=\"/Volumes/SPARK/mpi_ge/control/t2m/\"\n",
    "#data_name=os.path.join(data_dir,\"test.nc\")\n",
    "os.chdir(mpige_dir_t2m_ctl)"
   ]
  },
  {
   "cell_type": "code",
   "execution_count": null,
   "id": "f8a7a94c-2591-4e4b-8e47-637d9000048a",
   "metadata": {},
   "outputs": [],
   "source": [
    "!cdo mergetime tas_Amon* tas_Amon_mpige_control.nc\n"
   ]
  },
  {
   "cell_type": "code",
   "execution_count": null,
   "id": "f16afa8e-df3f-421d-a3d2-cc9904115a13",
   "metadata": {},
   "outputs": [],
   "source": [
    "!cdo selmon,12 -selyear,1850/3849 tas_Amon_mpige_control.nc tas_Amon_mpige_control_dec.nc\n",
    "!cdo selmon,1 -selyear,1851/3850 tas_Amon_mpige_control.nc tas_Amon_mpige_control_jan.nc\n",
    "!cdo selmon,2 -selyear,1851/3850 tas_Amon_mpige_control.nc tas_Amon_mpige_control_feb.nc\n",
    "!cdo -b 32 timselmean,3 -seltimestep,3/6002 -selmon,1,2,12 tas_Amon_mpige_control.nc tas_Amon_mpige_control_DJF.nc"
   ]
  },
  {
   "cell_type": "code",
   "execution_count": null,
   "id": "4043e578-b0e5-495b-8d40-8787f5dd8fc4",
   "metadata": {},
   "outputs": [],
   "source": [
    "!cdo -b 32 selmon,6 tas_Amon_mpige_control.nc t2m/tas_Amon_mpige_control_jun.nc\n",
    "!cdo -b 32 selmon,7 tas_Amon_mpige_control.nc t2m/tas_Amon_mpige_control_jul.nc\n",
    "!cdo -b 32 selmon,8 tas_Amon_mpige_control.nc t2m/tas_Amon_mpige_control_aug.nc\n",
    "!cdo -b 32 yearmean -selmon,6,7,8 tas_Amon_mpige_control.nc tas_Amon_mpige_control_JJA.nc"
   ]
  },
  {
   "cell_type": "code",
   "execution_count": null,
   "id": "105ae7ad-dbba-4b15-8eb2-8ecf20c8e938",
   "metadata": {},
   "outputs": [],
   "source": [
    "CDO.remapnn(\"r96x48\",input=mpige_dir_t2m_ctl+\"tas_Amon_mpige_control_dec.nc\",output=mpige_dir_t2m_ctl+\"tas_Amon_mpige_control_dec_lowlow.nc\")\n",
    "CDO.remapnn(\"r96x48\",input=mpige_dir_t2m_ctl+\"tas_Amon_mpige_control_jan.nc\",output=mpige_dir_t2m_ctl+\"tas_Amon_mpige_control_jan_lowlow.nc\")\n",
    "CDO.remapnn(\"r96x48\",input=mpige_dir_t2m_ctl+\"tas_Amon_mpige_control_feb.nc\",output=mpige_dir_t2m_ctl+\"tas_Amon_mpige_control_feb_lowlow.nc\")\n",
    "CDO.remapnn(\"r96x48\",input=mpige_dir_t2m_ctl+\"tas_Amon_mpige_control_DJF.nc\",output=mpige_dir_t2m_ctl+\"tas_Amon_mpige_control_DJF_lowlow.nc\")\n",
    "CDO.remapnn(\"r96x48\",input=mpige_dir_t2m_ctl+\"tas_Amon_mpige_control_jun.nc\",output=mpige_dir_t2m_ctl+\"tas_Amon_mpige_control_jun_lowlow.nc\")\n",
    "CDO.remapnn(\"r96x48\",input=mpige_dir_t2m_ctl+\"tas_Amon_mpige_control_jul.nc\",output=mpige_dir_t2m_ctl+\"tas_Amon_mpige_control_jul_lowlow.nc\")\n",
    "CDO.remapnn(\"r96x48\",input=mpige_dir_t2m_ctl+\"tas_Amon_mpige_control_aug.nc\",output=mpige_dir_t2m_ctl+\"tas_Amon_mpige_control_aug_lowlow.nc\")\n",
    "CDO.remapnn(\"r96x48\",input=mpige_dir_t2m_ctl+\"tas_Amon_mpige_control_JJA.nc\",output=mpige_dir_t2m_ctl+\"tas_Amon_mpige_control_JJA_lowlow.nc\")\n"
   ]
  },
  {
   "cell_type": "code",
   "execution_count": null,
   "id": "de493845-0b59-4b9f-aaca-a49d106c3f80",
   "metadata": {},
   "outputs": [],
   "source": [
    "CDO.sub(input=mpige_dir_t2m_ctl+\"tas_Amon_mpige_control_dec_lowlow.nc\"+\" -timmean \" + mpige_dir_t2m_hist+\"tas_Amon_MPI-ESM_historical_all_i1850p3_185001-200512_traintest_dec_lowlow.nc\", output=mpige_dir_t2m_ctl+\"tas_Amon_mpige_control_dec_lowlow_anoms.nc\")\n",
    "CDO.div(input=mpige_dir_t2m_ctl+\"tas_Amon_mpige_control_dec_lowlow_anoms.nc\" + \" \" + mpige_dir_t2m_hist+\"tas_Amon_MPI-ESM_historical_all_i1850p3_185001-200512_traintest_dec_lowlow_timstd.nc\", output=mpige_dir_t2m_ctl+\"tas_Amon_mpige_control_dec_lowlow_anomnorm.nc\")\n"
   ]
  },
  {
   "cell_type": "code",
   "execution_count": null,
   "id": "6585ea8c-9353-4cad-a726-aea76e3e3d3b",
   "metadata": {},
   "outputs": [],
   "source": [
    "CDO.sub(input=mpige_dir_t2m_ctl+\"tas_Amon_mpige_control_jan_lowlow.nc\"+\" -timmean \" + mpige_dir_t2m_hist+\"tas_Amon_MPI-ESM_historical_all_i1850p3_185001-200512_traintest_jan_lowlow.nc\", output=mpige_dir_t2m_ctl+\"tas_Amon_mpige_control_jan_lowlow_anoms.nc\")\n",
    "CDO.div(input=mpige_dir_t2m_ctl+\"tas_Amon_mpige_control_jan_lowlow_anoms.nc\" + \" \" + mpige_dir_t2m_hist+\"tas_Amon_MPI-ESM_historical_all_i1850p3_185001-200512_traintest_jan_lowlow_timstd.nc\", output=mpige_dir_t2m_ctl+\"tas_Amon_mpige_control_jan_lowlow_anomnorm.nc\")\n"
   ]
  },
  {
   "cell_type": "code",
   "execution_count": null,
   "id": "e180af82-f0d4-44bd-92d4-a91bffa2e674",
   "metadata": {},
   "outputs": [],
   "source": [
    "CDO.sub(input=mpige_dir_t2m_ctl+\"tas_Amon_mpige_control_feb_lowlow.nc\"+\" -timmean \" + mpige_dir_t2m_hist+\"tas_Amon_MPI-ESM_historical_all_i1850p3_185001-200512_traintest_feb_lowlow.nc\", output=mpige_dir_t2m_ctl+\"tas_Amon_mpige_control_feb_lowlow_anoms.nc\")\n",
    "CDO.div(input=mpige_dir_t2m_ctl+\"tas_Amon_mpige_control_feb_lowlow_anoms.nc\" + \" \" + mpige_dir_t2m_hist+\"tas_Amon_MPI-ESM_historical_all_i1850p3_185001-200512_traintest_feb_lowlow_timstd.nc\", output=mpige_dir_t2m_ctl+\"tas_Amon_mpige_control_feb_lowlow_anomnorm.nc\")\n"
   ]
  },
  {
   "cell_type": "code",
   "execution_count": null,
   "id": "7304bf5e-2500-436c-85d1-643dbbdf5f3a",
   "metadata": {},
   "outputs": [],
   "source": [
    "CDO.sub(input=mpige_dir_t2m_ctl+\"tas_Amon_mpige_control_DJF_lowlow.nc\"+\" -timmean \" + mpige_dir_t2m_hist+\"tas_Amon_MPI-ESM_historical_all_i1850p3_185001-200512_traintest_DJF_lowlow.nc\", output=mpige_dir_t2m_ctl+\"tas_Amon_mpige_control_DJF_lowlow_anoms.nc\")\n",
    "CDO.div(input=mpige_dir_t2m_ctl+\"tas_Amon_mpige_control_DJF_lowlow_anoms.nc\" + \" \" + mpige_dir_t2m_hist+\"tas_Amon_MPI-ESM_historical_all_i1850p3_185001-200512_traintest_DJF_lowlow_timstd.nc\", output=mpige_dir_t2m_ctl+\"tas_Amon_mpige_control_DJF_lowlow_anomnorm.nc\")\n"
   ]
  },
  {
   "cell_type": "code",
   "execution_count": null,
   "id": "7a209534-ad8b-4257-aefe-e0d7c0b65dc5",
   "metadata": {},
   "outputs": [],
   "source": [
    "CDO.sub(input=mpige_dir_t2m_ctl+\"tas_Amon_mpige_control_jun_lowlow.nc\"+\" -timmean \" + mpige_dir_t2m_hist+\"tas_Amon_MPI-ESM_historical_all_i1850p3_185001-200512_traintest_jun_lowlow.nc\", output=mpige_dir_t2m_ctl+\"tas_Amon_mpige_control_jun_lowlow_anoms.nc\")\n",
    "CDO.div(input=mpige_dir_t2m_ctl+\"tas_Amon_mpige_control_jun_lowlow_anoms.nc\" + \" \" + mpige_dir_t2m_hist+\"tas_Amon_MPI-ESM_historical_all_i1850p3_185001-200512_traintest_jun_lowlow_timstd.nc\", output=mpige_dir_t2m_ctl+\"tas_Amon_mpige_control_jun_lowlow_anomnorm.nc\")\n"
   ]
  },
  {
   "cell_type": "code",
   "execution_count": null,
   "id": "c1cdf958-0c7e-4895-b19f-6707e6f77200",
   "metadata": {},
   "outputs": [],
   "source": [
    "CDO.sub(input=mpige_dir_t2m_ctl+\"tas_Amon_mpige_control_jul_lowlow.nc\"+\" -timmean \" + mpige_dir_t2m_hist+\"tas_Amon_MPI-ESM_historical_all_i1850p3_185001-200512_traintest_jul_lowlow.nc\", output=mpige_dir_t2m_ctl+\"tas_Amon_mpige_control_jul_lowlow_anoms.nc\")\n",
    "CDO.div(input=mpige_dir_t2m_ctl+\"tas_Amon_mpige_control_jul_lowlow_anoms.nc\" + \" \" + mpige_dir_t2m_hist+\"tas_Amon_MPI-ESM_historical_all_i1850p3_185001-200512_traintest_jul_lowlow_timstd.nc\", output=mpige_dir_t2m_ctl+\"tas_Amon_mpige_control_jul_lowlow_anomnorm.nc\")\n"
   ]
  },
  {
   "cell_type": "code",
   "execution_count": null,
   "id": "b8d9727d-f63d-4961-a421-acaaa66257fd",
   "metadata": {},
   "outputs": [],
   "source": [
    "CDO.sub(input=mpige_dir_t2m_ctl+\"tas_Amon_mpige_control_aug_lowlow.nc\"+\" -timmean \" + mpige_dir_t2m_hist+\"tas_Amon_MPI-ESM_historical_all_i1850p3_185001-200512_traintest_aug_lowlow.nc\", output=mpige_dir_t2m_ctl+\"tas_Amon_mpige_control_aug_lowlow_anoms.nc\")\n",
    "CDO.div(input=mpige_dir_t2m_ctl+\"tas_Amon_mpige_control_aug_lowlow_anoms.nc\" + \" \" + mpige_dir_t2m_hist+\"tas_Amon_MPI-ESM_historical_all_i1850p3_185001-200512_traintest_aug_lowlow_timstd.nc\", output=mpige_dir_t2m_ctl+\"tas_Amon_mpige_control_aug_lowlow_anomnorm.nc\")\n"
   ]
  },
  {
   "cell_type": "code",
   "execution_count": null,
   "id": "849e247d-5fb9-44d8-9aa0-596c9efa0ce1",
   "metadata": {},
   "outputs": [],
   "source": [
    "CDO.sub(input=mpige_dir_t2m_ctl+\"tas_Amon_mpige_control_JJA_lowlow.nc\"+\" -timmean \" + mpige_dir_t2m_hist+\"tas_Amon_MPI-ESM_historical_all_i1850p3_185001-200512_traintest_JJA_lowlow.nc\", output=mpige_dir_t2m_ctl+\"tas_Amon_mpige_control_JJA_lowlow_anoms.nc\")\n",
    "CDO.div(input=mpige_dir_t2m_ctl+\"tas_Amon_mpige_control_JJA_lowlow_anoms.nc\" + \" \" + mpige_dir_t2m_hist+\"tas_Amon_MPI-ESM_historical_all_i1850p3_185001-200512_traintest_JJA_lowlow_timstd.nc\", output=mpige_dir_t2m_ctl+\"tas_Amon_mpige_control_JJA_lowlow_anomnorm.nc\")\n"
   ]
  },
  {
   "cell_type": "code",
   "execution_count": null,
   "id": "cd1851a3-de32-439f-acbe-1d0f28b43fc7",
   "metadata": {},
   "outputs": [],
   "source": []
  },
  {
   "cell_type": "markdown",
   "id": "65030afc-e874-42f1-b487-54374e80146f",
   "metadata": {
    "jp-MarkdownHeadingCollapsed": true
   },
   "source": [
    "## CONTROL SLP"
   ]
  },
  {
   "cell_type": "code",
   "execution_count": null,
   "id": "31600c53-77c8-4940-8bda-7b3e14832147",
   "metadata": {},
   "outputs": [],
   "source": [
    "\n",
    "mpige_dir=\"/Volumes/SPARK/mpi_ge/\"\n",
    "mpige_dir_t2m_ctl=\"/Volumes/SPARK/mpi_ge/control/slp/\"\n",
    "#data_name=os.path.join(data_dir,\"test.nc\")\n",
    "os.chdir(mpige_dir_t2m_ctl)"
   ]
  },
  {
   "cell_type": "code",
   "execution_count": null,
   "id": "e3e6c99c-03ea-42aa-9b63-1407a529d2f6",
   "metadata": {},
   "outputs": [],
   "source": [
    "!cdo mergetime psl_Amon* psl_Amon_mpige_control.nc\n"
   ]
  },
  {
   "cell_type": "code",
   "execution_count": null,
   "id": "49e896c2-d19d-46bb-8072-f17c6e4d4b7e",
   "metadata": {},
   "outputs": [],
   "source": [
    "!cdo selmon,12 -selyear,1850/3849 psl_Amon_mpige_control.nc psl_Amon_mpige_control_dec.nc\n",
    "!cdo selmon,1 -selyear,1851/3850 psl_Amon_mpige_control.nc psl_Amon_mpige_control_jan.nc\n",
    "!cdo selmon,2 -selyear,1851/3850 psl_Amon_mpige_control.nc psl_Amon_mpige_control_feb.nc\n",
    "!cdo -b 32 timselmean,3 -seltimestep,3/6002 -selmon,1,2,12 psl_Amon_mpige_control.nc psl_Amon_mpige_control_DJF.nc"
   ]
  },
  {
   "cell_type": "code",
   "execution_count": null,
   "id": "268fd027-c806-4664-a339-6f154dce3e34",
   "metadata": {},
   "outputs": [],
   "source": [
    "!cdo -b 32 selmon,6 psl_Amon_mpige_control.nc psl_Amon_mpige_control_jun.nc\n",
    "!cdo -b 32 selmon,7 psl_Amon_mpige_control.nc psl_Amon_mpige_control_jul.nc\n",
    "!cdo -b 32 selmon,8 psl_Amon_mpige_control.nc psl_Amon_mpige_control_aug.nc\n",
    "!cdo -b 32 yearmean -selmon,6,7,8 psl_Amon_mpige_control.nc psl_Amon_mpige_control_JJA.nc"
   ]
  },
  {
   "cell_type": "code",
   "execution_count": null,
   "id": "8d595dfe-0241-41e2-bb01-47ed320633bc",
   "metadata": {},
   "outputs": [],
   "source": [
    "CDO.remapnn(\"r96x48\",input=mpige_dir_slp_ctl+\"psl_Amon_mpige_control_dec.nc\",output=mpige_dir_slp_ctl+\"psl_Amon_mpige_control_dec_lowlow.nc\")\n",
    "CDO.remapnn(\"r96x48\",input=mpige_dir_slp_ctl+\"psl_Amon_mpige_control_jan.nc\",output=mpige_dir_slp_ctl+\"psl_Amon_mpige_control_jan_lowlow.nc\")\n",
    "CDO.remapnn(\"r96x48\",input=mpige_dir_slp_ctl+\"psl_Amon_mpige_control_feb.nc\",output=mpige_dir_slp_ctl+\"psl_Amon_mpige_control_feb_lowlow.nc\")\n",
    "CDO.remapnn(\"r96x48\",input=mpige_dir_slp_ctl+\"psl_Amon_mpige_control_DJF.nc\",output=mpige_dir_slp_ctl+\"psl_Amon_mpige_control_DJF_lowlow.nc\")\n",
    "CDO.remapnn(\"r96x48\",input=mpige_dir_slp_ctl+\"psl_Amon_mpige_control_jun.nc\",output=mpige_dir_slp_ctl+\"psl_Amon_mpige_control_jun_lowlow.nc\")\n",
    "CDO.remapnn(\"r96x48\",input=mpige_dir_slp_ctl+\"psl_Amon_mpige_control_jul.nc\",output=mpige_dir_slp_ctl+\"psl_Amon_mpige_control_jul_lowlow.nc\")\n",
    "CDO.remapnn(\"r96x48\",input=mpige_dir_slp_ctl+\"psl_Amon_mpige_control_aug.nc\",output=mpige_dir_slp_ctl+\"psl_Amon_mpige_control_aug_lowlow.nc\")\n",
    "CDO.remapnn(\"r96x48\",input=mpige_dir_slp_ctl+\"psl_Amon_mpige_control_JJA.nc\",output=mpige_dir_slp_ctl+\"psl_Amon_mpige_control_JJA_lowlow.nc\")\n"
   ]
  },
  {
   "cell_type": "code",
   "execution_count": null,
   "id": "e086ad0a-cf7a-477e-b293-4b06b02cea5a",
   "metadata": {},
   "outputs": [],
   "source": [
    "CDO.sub(input=mpige_dir_slp_ctl+\"psl_Amon_mpige_control_dec_lowlow.nc\"+\" -timmean \" + mpige_dir_slp_hist+\"psl_Amon_MPI-ESM_historical_all_i1850p3_185001-200512_traintest_dec_lowlow.nc\", output=mpige_dir_slp_ctl+\"psl_Amon_mpige_control_dec_lowlow_anoms.nc\")\n",
    "CDO.div(input=mpige_dir_slp_ctl+\"psl_Amon_mpige_control_dec_lowlow_anoms.nc\" + \" \" + mpige_dir_slp_hist+\"psl_Amon_MPI-ESM_historical_all_i1850p3_185001-200512_traintest_dec_lowlow_timstd.nc\", output=mpige_dir_slp_ctl+\"psl_Amon_mpige_control_dec_lowlow_anomnorm.nc\")\n"
   ]
  },
  {
   "cell_type": "code",
   "execution_count": null,
   "id": "c811de4d-63a4-43e7-a298-a74dce77b828",
   "metadata": {},
   "outputs": [],
   "source": [
    "CDO.sub(input=mpige_dir_slp_ctl+\"psl_Amon_mpige_control_jan_lowlow.nc\"+\" -timmean \" + mpige_dir_slp_hist+\"psl_Amon_MPI-ESM_historical_all_i1850p3_185001-200512_traintest_jan_lowlow.nc\", output=mpige_dir_slp_ctl+\"psl_Amon_mpige_control_jan_lowlow_anoms.nc\")\n",
    "CDO.div(input=mpige_dir_slp_ctl+\"psl_Amon_mpige_control_jan_lowlow_anoms.nc\" + \" \" + mpige_dir_slp_hist+\"psl_Amon_MPI-ESM_historical_all_i1850p3_185001-200512_traintest_jan_lowlow_timstd.nc\", output=mpige_dir_slp_ctl+\"psl_Amon_mpige_control_jan_lowlow_anomnorm.nc\")\n"
   ]
  },
  {
   "cell_type": "code",
   "execution_count": null,
   "id": "055e3172-9cbe-4862-9cca-30d128600313",
   "metadata": {},
   "outputs": [],
   "source": [
    "CDO.sub(input=mpige_dir_slp_ctl+\"psl_Amon_mpige_control_feb_lowlow.nc\"+\" -timmean \" + mpige_dir_slp_hist+\"psl_Amon_MPI-ESM_historical_all_i1850p3_185001-200512_traintest_feb_lowlow.nc\", output=mpige_dir_slp_ctl+\"psl_Amon_mpige_control_feb_lowlow_anoms.nc\")\n",
    "CDO.div(input=mpige_dir_slp_ctl+\"psl_Amon_mpige_control_feb_lowlow_anoms.nc\" + \" \" + mpige_dir_slp_hist+\"psl_Amon_MPI-ESM_historical_all_i1850p3_185001-200512_traintest_feb_lowlow_timstd.nc\", output=mpige_dir_slp_ctl+\"psl_Amon_mpige_control_feb_lowlow_anomnorm.nc\")\n"
   ]
  },
  {
   "cell_type": "code",
   "execution_count": null,
   "id": "82b8abdc-f136-415c-83dc-4aecab348511",
   "metadata": {},
   "outputs": [],
   "source": [
    "CDO.sub(input=mpige_dir_slp_ctl+\"psl_Amon_mpige_control_DJF_lowlow.nc\"+\" -timmean \" + mpige_dir_slp_hist+\"psl_Amon_MPI-ESM_historical_all_i1850p3_185001-200512_traintest_DJF_lowlow.nc\", output=mpige_dir_slp_ctl+\"psl_Amon_mpige_control_DJF_lowlow_anoms.nc\")\n",
    "CDO.div(input=mpige_dir_slp_ctl+\"psl_Amon_mpige_control_DJF_lowlow_anoms.nc\" + \" \" + mpige_dir_slp_hist+\"psl_Amon_MPI-ESM_historical_all_i1850p3_185001-200512_traintest_DJF_lowlow_timstd.nc\", output=mpige_dir_slp_ctl+\"psl_Amon_mpige_control_DJF_lowlow_anomnorm.nc\")\n"
   ]
  },
  {
   "cell_type": "code",
   "execution_count": null,
   "id": "cfc0c395-56e8-479c-9766-93e3124cb058",
   "metadata": {},
   "outputs": [],
   "source": [
    "CDO.sub(input=mpige_dir_slp_ctl+\"psl_Amon_mpige_control_jun_lowlow.nc\"+\" -timmean \" + mpige_dir_slp_hist+\"psl_Amon_MPI-ESM_historical_all_i1850p3_185001-200512_traintest_jun_lowlow.nc\", output=mpige_dir_slp_ctl+\"psl_Amon_mpige_control_jun_lowlow_anoms.nc\")\n",
    "CDO.div(input=mpige_dir_slp_ctl+\"psl_Amon_mpige_control_jun_lowlow_anoms.nc\" + \" \" + mpige_dir_slp_hist+\"psl_Amon_MPI-ESM_historical_all_i1850p3_185001-200512_traintest_jun_lowlow_timstd.nc\", output=mpige_dir_slp_ctl+\"psl_Amon_mpige_control_jun_lowlow_anomnorm.nc\")\n"
   ]
  },
  {
   "cell_type": "code",
   "execution_count": null,
   "id": "ace56c2b-55a7-4a3b-b321-b61c3e02ce17",
   "metadata": {},
   "outputs": [],
   "source": [
    "CDO.sub(input=mpige_dir_slp_ctl+\"psl_Amon_mpige_control_jul_lowlow.nc\"+\" -timmean \" + mpige_dir_slp_hist+\"psl_Amon_MPI-ESM_historical_all_i1850p3_185001-200512_traintest_jul_lowlow.nc\", output=mpige_dir_slp_ctl+\"psl_Amon_mpige_control_jul_lowlow_anoms.nc\")\n",
    "CDO.div(input=mpige_dir_slp_ctl+\"psl_Amon_mpige_control_jul_lowlow_anoms.nc\" + \" \" + mpige_dir_slp_hist+\"psl_Amon_MPI-ESM_historical_all_i1850p3_185001-200512_traintest_jul_lowlow_timstd.nc\", output=mpige_dir_slp_ctl+\"psl_Amon_mpige_control_jul_lowlow_anomnorm.nc\")\n"
   ]
  },
  {
   "cell_type": "code",
   "execution_count": null,
   "id": "366f3105-4170-4a99-9d22-6791bed4f4f1",
   "metadata": {},
   "outputs": [],
   "source": [
    "CDO.sub(input=mpige_dir_slp_ctl+\"psl_Amon_mpige_control_aug_lowlow.nc\"+\" -timmean \" + mpige_dir_slp_hist+\"psl_Amon_MPI-ESM_historical_all_i1850p3_185001-200512_traintest_aug_lowlow.nc\", output=mpige_dir_slp_ctl+\"psl_Amon_mpige_control_aug_lowlow_anoms.nc\")\n",
    "CDO.div(input=mpige_dir_slp_ctl+\"psl_Amon_mpige_control_aug_lowlow_anoms.nc\" + \" \" + mpige_dir_slp_hist+\"psl_Amon_MPI-ESM_historical_all_i1850p3_185001-200512_traintest_aug_lowlow_timstd.nc\", output=mpige_dir_slp_ctl+\"psl_Amon_mpige_control_aug_lowlow_anomnorm.nc\")\n"
   ]
  },
  {
   "cell_type": "code",
   "execution_count": null,
   "id": "4df03195-69a0-4d0d-a0be-a1f8af0dffd7",
   "metadata": {},
   "outputs": [],
   "source": [
    "CDO.sub(input=mpige_dir_slp_ctl+\"psl_Amon_mpige_control_JJA_lowlow.nc\"+\" -timmean \" + mpige_dir_slp_hist+\"psl_Amon_MPI-ESM_historical_all_i1850p3_185001-200512_traintest_JJA_lowlow.nc\", output=mpige_dir_slp_ctl+\"psl_Amon_mpige_control_JJA_lowlow_anoms.nc\")\n",
    "CDO.div(input=mpige_dir_slp_ctl+\"psl_Amon_mpige_control_JJA_lowlow_anoms.nc\" + \" \" + mpige_dir_slp_hist+\"psl_Amon_MPI-ESM_historical_all_i1850p3_185001-200512_traintest_JJA_lowlow_timstd.nc\", output=mpige_dir_slp_ctl+\"psl_Amon_mpige_control_JJA_lowlow_anomnorm.nc\")\n"
   ]
  },
  {
   "cell_type": "code",
   "execution_count": null,
   "id": "495bae7d-77b5-4ceb-8397-199002ee7ec4",
   "metadata": {},
   "outputs": [],
   "source": []
  },
  {
   "cell_type": "markdown",
   "id": "c11c4690-04ed-48d2-914d-c405db8194b0",
   "metadata": {},
   "source": [
    "## HIST THETAO"
   ]
  },
  {
   "cell_type": "code",
   "execution_count": null,
   "id": "offshore-nickel",
   "metadata": {},
   "outputs": [],
   "source": [
    "# First we have to modulate the available monthly MPI GE netcdf files\n",
    "# we want to DJF NAO time series for each member\n",
    "mpige_dir=\"/Volumes/SPARK/mpi_ge/\"\n",
    "mpige_dir_thetao_hist=\"/Volumes/SPARK/mpi_ge/hist/thetao/\"\n",
    "#data_name=os.path.join(data_dir,\"test.nc\")\n",
    "os.chdir(mpige_dir_thetao_hist)"
   ]
  },
  {
   "cell_type": "code",
   "execution_count": null,
   "id": "3f722bae-5f44-4934-84c3-f910c4765224",
   "metadata": {},
   "outputs": [],
   "source": [
    "!for s in $(seq -w 01 99);do\n",
    "!echo $s\n",
    "!cdo sellevel,6 thetao_Omon_MPI-ESM_historical_r0${s}i1850p3_185001-200512.nc thetao7_Omon_MPI-ESM_historical_r0${s}i1850p3_185001-200512.nc\n",
    "!rm thetao_Omon_MPI-ESM_historical_r0${s}i1850p3_185001-200512.nc\n",
    "!done\n",
    "#"
   ]
  },
  {
   "cell_type": "code",
   "execution_count": null,
   "id": "hearing-washer",
   "metadata": {},
   "outputs": [],
   "source": [
    "member_index=[f\"{i:03}\" for i in range(1,101)]"
   ]
  },
  {
   "cell_type": "code",
   "execution_count": null,
   "id": "surrounded-worry",
   "metadata": {},
   "outputs": [],
   "source": [
    "# lets see what data we have\n",
    "arr = os.listdir(mpige_dir_thetao)\n",
    "input_paths=[]\n",
    "for file in os.listdir(mpige_dir_thetao):\n",
    "    if file.startswith(\"thetao7\"):\n",
    "        print(os.path.join(mpige_dir_thetao, file))\n",
    "        mpige_thetao_file=os.path.join(mpige_dir_thetao, file)\n",
    "        input_paths.append(mpige_thetao_file)"
   ]
  },
  {
   "cell_type": "code",
   "execution_count": null,
   "id": "behavioral-appliance",
   "metadata": {},
   "outputs": [],
   "source": [
    "\n",
    "nov_paths=[]\n",
    "\n",
    "member_index_length = len(member_index)\n",
    "\n",
    "for i in range(member_index_length):\n",
    "    output=os.path.join(mpige_dir_thetao_hist, \"thetao7_OImon_MPI-ESM_historical_r\" + str(member_index[i])+'i1850p3_185001-200512_nov.nc')\n",
    "    nov_paths.append(output)\n",
    "\n",
    "    \n",
    "for i in range(member_index_length):\n",
    "    CDO.selmon(\"11\", input=\" -addc,273.15 -sellevel,6 -selyear,1850/2004 \" +input_paths[i], output=nov_paths[i])\n",
    "\n",
    "\n",
    "\n",
    "CDO.cat(input=nov_paths, output=mpige_dir_thetao_hist+\"thetao7_OImon_traintest_nov_low.nc\")\n",
    "\n",
    "CDO.remapbil(mpige_dir_slp_hist+\"psl_Amon_MPI-ESM_historical_all_i1850p3_185001-200512_traintest_DJF.nc\",input=mpige_dir_thetao_hist+\"thetao7_OImon_traintest_nov_low.nc\",output=mpige_dir_thetao_hist+\"thetao7_OImon_traintest_nov_low_atmogrid.nc\")\n",
    "\n",
    "CDO.remapbil(\"r96x48\",input=mpige_dir_thetao_hist+\"thetao7_OImon_traintest_nov_low_atmogrid.nc\",output=mpige_dir_thetao_hist+\"thetao7_OImon_traintest_nov_lowlow.nc\")\n",
    "CDO.setctomiss(0,input=\" -mul \"+mpige_dir+\"supermask_nov.nc\" +\" \"+mpige_dir_thetao_hist+\"thetao7_OImon_traintest_nov_lowlow.nc\",output=mpige_dir_thetao_hist+\"thetao7_OImon_traintest_nov_lowlow_supermasked.nc\"\n",
    "               \n",
    "CDO.timstd(input=mpige_dir_thetao_hist+\"thetao7_OImon_traintest_nov_lowlow_supermasked.nc\",output=mpige_dir_thetao_hist+\"thetao7_OImon_traintest_nov_lowlow_supermasked_timstd.nc\")\n",
    "CDO.sub(input=mpige_dir_thetao_hist+\"thetao7_OImon_traintest_nov_lowlow_supermasked.nc\"+\" -timmean \" + mpige_dir_thetao_hist+\"thetao7_OImon_traintest_nov_lowlow_supermasked.nc\", output=mpige_dir_thetao_hist+\"thetao7_OImon_traintest_nov_lowlow_supermasked_anoms.nc\")\n",
    "CDO.div(input=mpige_dir_thetao_hist+\"thetao7_OImon_traintest_nov_lowlow_supermasked_anoms.nc\" + \" \" + mpige_dir_thetao_hist+\"thetao7_OImon_traintest_nov_lowlow_supermasked_timstd.nc\", output=mpige_dir_thetao_hist+\"thetao7_OImon_traintest_nov_lowlow_supermasked_anomnorm.nc\")\n"
   ]
  },
  {
   "cell_type": "code",
   "execution_count": null,
   "id": "senior-russia",
   "metadata": {},
   "outputs": [],
   "source": [
    "may_paths=[]\n",
    "\n",
    "member_index_length = len(member_index)\n",
    "\n",
    "for i in range(member_index_length):\n",
    "    output=os.path.join(mpige_dir_thetao, \"thetao7_OImon_MPI-ESM_historical_r\" + str(member_index[i])+'i1850p3_185001-200512_may.nc')\n",
    "    may_paths.append(output)\n",
    "\n",
    "for i in range(member_index_length):\n",
    "    CDO.selmon(\"5\", input=\" -addc,273.15 -sellevel,6 -selyear,1850/2005 \" +input_paths[i], output=may_paths[i])\n",
    "\n",
    "CDO.cat(input=may_paths, output=mpige_dir_thetao_hist+\"thetao7_OImon_traintest_may_low.nc\")\n",
    "\n",
    "CDO.remapbil(mpige_dir_slp_hist+\"psl_Amon_MPI-ESM_historical_all_i1850p3_185001-200512_traintest_DJF.nc\",input=mpige_dir_thetao_hist+\"thetao7_OImon_traintest_may_low.nc\",output=mpige_dir_thetao_hist+\"thetao7_OImon_traintest_may_low_atmogrid.nc\")\n",
    "\n",
    "CDO.remapbil(\"r96x48\",input=mpige_dir_thetao_hist+\"thetao7_OImon_traintest_may_low_atmogrid.nc\",output=mpige_dir_thetao_hist+\"thetao7_OImon_traintest_may_lowlow.nc\")\n",
    "\n",
    "CDO.setctomiss(0,input=\" -mul \"+mpige_dir+\"supermask_may.nc\" +\" \"+mpige_dir_thetao_hist+\"thetao7_OImon_traintest_may_lowlow.nc\",output=mpige_dir_thetao_hist+\"thetao7_OImon_traintest_may_lowlow_supermasked.nc\"\n",
    "               \n",
    "CDO.timstd(input=mpige_dir_thetao_hist+\"thetao7_OImon_traintest_may_lowlow_supermasked.nc\",output=mpige_dir_thetao_hist+\"thetao7_OImon_traintest_may_lowlow_supermasked_timstd.nc\")\n",
    "CDO.sub(input=mpige_dir_thetao_hist+\"thetao7_OImon_traintest_may_lowlow_supermasked.nc\"+\" -timmean \" + mpige_dir_thetao_hist+\"thetao7_OImon_traintest_may_lowlow_supermasked.nc\", output=mpige_dir_thetao_hist+\"thetao7_OImon_traintest_may_lowlow_supermasked_anoms.nc\")\n",
    "CDO.div(input=mpige_dir_thetao_hist+\"thetao7_OImon_traintest_may_lowlow_supermasked_anoms.nc\" + \" \" + mpige_dir_thetao_hist+\"thetao7_OImon_traintest_may_lowlow_supermasked_timstd.nc\", output=mpige_dir_thetao_hist+\"thetao7_OImon_traintest_may_lowlow_supermasked_anomnorm.nc\")\n"
   ]
  },
  {
   "cell_type": "markdown",
   "id": "c8281e4e-7498-4eb0-a570-20670c085f85",
   "metadata": {},
   "source": [
    "## RCP25 THETAO"
   ]
  },
  {
   "cell_type": "code",
   "execution_count": null,
   "id": "facial-platinum",
   "metadata": {},
   "outputs": [],
   "source": [
    "# First we have to modulate the available monthly MPI GE netcdf files\n",
    "# we want to DJF NAO time series for each member\n",
    "mpige_dir=\"/Volumes/SPARK/mpi_ge/\"\n",
    "mpige_dir_thetao_rcp=\"/Volumes/SPARK/mpi_ge/rcp26/thetao/\"\n",
    "#data_name=os.path.join(data_dir,\"test.nc\")\n",
    "#os.chdir(mpige_dir_thetao_rcp)"
   ]
  },
  {
   "cell_type": "code",
   "execution_count": null,
   "id": "38f6b949-ab3e-45bc-80c9-fd29f98eabb5",
   "metadata": {},
   "outputs": [],
   "source": [
    "!for s in $(seq -w 01 99);do\n",
    "!echo $s\n",
    "!cdo sellevel,6 thetao_Omon_MPI-ESM_rcp26_r0${s}i2005p3_200601-209912.nc thetao7_Omon_MPI-ESM_rcp26_r0${s}i2005p3_200601-209912.nc\n",
    "!rm thetao_Omon_MPI-ESM_rcp26_r007i2005p3_200601-209912.nc\n",
    "!done\n",
    "#"
   ]
  },
  {
   "cell_type": "code",
   "execution_count": null,
   "id": "union-swaziland",
   "metadata": {},
   "outputs": [],
   "source": [
    "member_index=[f\"{i:03}\" for i in range(1,100)]"
   ]
  },
  {
   "cell_type": "code",
   "execution_count": null,
   "id": "civil-dealing",
   "metadata": {},
   "outputs": [],
   "source": [
    "# lets see what data we have\n",
    "arr = os.listdir(mpige_dir_thetao_rcp)\n",
    "input_paths=[]\n",
    "for file in os.listdir(mpige_dir_thetao_rcp):\n",
    "    if file.startswith(\"thetao7\"):\n",
    "        print(os.path.join(mpige_dir_thetao_rcp, file))\n",
    "        mpige_thetao_file=os.path.join(mpige_dir_thetao_rcp, file)\n",
    "        input_paths.append(mpige_thetao_file)"
   ]
  },
  {
   "cell_type": "code",
   "execution_count": null,
   "id": "d47760ee-5975-4658-bf77-f13b238df34c",
   "metadata": {},
   "outputs": [],
   "source": [
    "\n",
    "nov_paths=[]\n",
    "\n",
    "member_index_length = len(member_index)\n",
    "\n",
    "for i in range(member_index_length):\n",
    "    output=os.path.join(mpige_dir_thetao_rcp, \"thetao7_OImon_MPI-ESM_rcp26_r\" + str(member_index[i])+'i2005p3_200601-209912_nov.nc')\n",
    "    nov_paths.append(output)\n",
    "\n",
    "\n",
    "    \n",
    "for i in range(member_index_length):\n",
    "    CDO.selmon(\"11\", input=\" -addc,273.15 -sellevel,6 -selyear,2006/2098 \" +input_paths[i], output=nov_paths[i])\n",
    "\n",
    "\n",
    "\n",
    "CDO.cat(input=nov_paths, output=mpige_dir_thetao_rcp+\"thetao7_OImon_traintest_nov_low.nc\")\n",
    "\n",
    "CDO.remapbil(mpige_dir_slp_hist+\"psl_Amon_MPI-ESM_historical_all_i1850p3_185001-200512_traintest_DJF.nc\",input=mpige_dir_thetao_rcp+\"thetao7_OImon_traintest_nov_low.nc\",output=mpige_dir_thetao_rcp+\"thetao7_OImon_traintest_nov_low_atmogrid.nc\")\n",
    "\n",
    "CDO.remapbil(\"r96x48\",input=mpige_dir_thetao_rcp+\"thetao7_OImon_traintest_nov_low_atmogrid.nc\",output=mpige_dir_thetao_rcp+\"thetao7_OImon_traintest_nov_lowlow.nc\")\n",
    "CDO.setctomiss(0,input=\" -mul \"+mpige_dir+\"supermask_nov.nc\" +\" \"+mpige_dir_thetao_rcp+\"thetao7_OImon_traintest_nov_lowlow.nc\",output=mpige_dir_thetao_rcp+\"thetao7_OImon_traintest_nov_lowlow_supermasked.nc\")\n",
    "               \n",
    "CDO.sub(input=mpige_dir_thetao_rcp+\"thetao7_OImon_traintest_nov_lowlow_supermasked.nc\"+\" -timmean \" + mpige_dir_thetao_hist+\"thetao7_OImon_traintest_nov_lowlow_supermasked.nc\", output=mpige_dir_thetao_rcp+\"thetao7_OImon_traintest_nov_lowlow_supermasked_anoms.nc\")\n",
    "CDO.div(input=mpige_dir_thetao_rcp+\"thetao7_OImon_traintest_nov_lowlow_supermasked_anoms.nc\" + \" \" + mpige_dir_thetao_hist+\"thetao7_OImon_traintest_nov_lowlow_supermasked_timstd.nc\", output=mpige_dir_thetao_rcp+\"thetao7_OImon_traintest_nov_lowlow_supermasked_rcp26_anomnorm.nc\")\n"
   ]
  },
  {
   "cell_type": "code",
   "execution_count": null,
   "id": "lucky-species",
   "metadata": {},
   "outputs": [],
   "source": [
    "\n",
    "may_paths=[]\n",
    "\n",
    "member_index_length = len(member_index)\n",
    "\n",
    "for i in range(member_index_length):\n",
    "    output=os.path.join(mpige_dir_thetao_rcp, \"thetao7_OImon_MPI-ESM_rcp26_r\" + str(member_index[i])+'i2005p3_200601-209912_may.nc')\n",
    "    may_paths.append(output)\n",
    "\n",
    "\n",
    "    \n",
    "for i in range(member_index_length):\n",
    "    CDO.selmon(\"5\", input=\" -addc,273.15 -sellevel,6 -selyear,2006/2098 \" +input_paths[i], output=may_paths[i])\n",
    "\n",
    "\n",
    "\n",
    "CDO.cat(input=may_paths, output=mpige_dir_thetao_rcp+\"thetao7_OImon_traintest_may_low.nc\")\n",
    "\n",
    "CDO.remapbil(mpige_dir_slp_hist+\"psl_Amon_MPI-ESM_historical_all_i1850p3_185001-200512_traintest_DJF.nc\",input=mpige_dir_thetao_rcp+\"thetao7_OImon_traintest_may_low.nc\",output=mpige_dir_thetao_rcp+\"thetao7_OImon_traintest_may_low_atmogrid.nc\")\n",
    "\n",
    "CDO.remapbil(\"r96x48\",input=mpige_dir_thetao_rcp+\"thetao7_OImon_traintest_may_low_atmogrid.nc\",output=mpige_dir_thetao_rcp+\"thetao7_OImon_traintest_may_lowlow.nc\")\n",
    "CDO.setctomiss(0,input=\" -mul \"+mpige_dir+\"supermask_may.nc\" +\" \"+mpige_dir_thetao_rcp+\"thetao7_OImon_traintest_may_lowlow.nc\",output=mpige_dir_thetao_rcp+\"thetao7_OImon_traintest_may_lowlow_supermasked.nc\")\n",
    "               \n",
    "CDO.sub(input=mpige_dir_thetao_rcp+\"thetao7_OImon_traintest_may_lowlow_supermasked.nc\"+\" -timmean \" + mpige_dir_thetao_hist+\"thetao7_OImon_traintest_may_lowlow_supermasked.nc\", output=mpige_dir_thetao_rcp+\"thetao7_OImon_traintest_may_lowlow_supermasked_anoms.nc\")\n",
    "CDO.div(input=mpige_dir_thetao_rcp+\"thetao7_OImon_traintest_may_lowlow_supermasked_anoms.nc\" + \" \" + mpige_dir_thetao_hist+\"thetao7_OImon_traintest_may_lowlow_supermasked_timstd.nc\", output=mpige_dir_thetao_rcp+\"thetao7_OImon_traintest_may_lowlow_supermasked_rcp26_anomnorm.nc\")\n"
   ]
  },
  {
   "cell_type": "markdown",
   "id": "3b647d60-33a5-4d42-abb1-c9474eaf6681",
   "metadata": {},
   "source": [
    "## CONTROL THETAO"
   ]
  },
  {
   "cell_type": "code",
   "execution_count": null,
   "id": "joined-perth",
   "metadata": {},
   "outputs": [],
   "source": [
    "# First we have to modulate the available monthly MPI GE netcdf files\n",
    "# we want to DJF NAO time series for each member\n",
    "mpige_dir=\"/Volumes/SPARK/mpi_ge/\"\n",
    "mpige_dir_thetao_ctl=\"/Volumes/SPARK/mpi_ge/control/thetao/\"\n",
    "#data_name=os.path.join(data_dir,\"test.nc\")\n",
    "os.chdir(mpige_dir_thetao_ctl)"
   ]
  },
  {
   "cell_type": "code",
   "execution_count": null,
   "id": "ultimate-remedy",
   "metadata": {},
   "outputs": [],
   "source": [
    "!cdo mergetime thetao_Omon_MPI-ESM_piControl* thetao_Omon_mpige_control.nc\n"
   ]
  },
  {
   "cell_type": "code",
   "execution_count": null,
   "id": "0204540e-c438-466d-8b6c-29fd9220baa9",
   "metadata": {},
   "outputs": [],
   "source": [
    "!cdo selmon,5 -sellevel,6 -addc,273.15 thetao_Omon_mpige_control.nc thetao_Omon_mpige_control_may.nc\n",
    "!cdo selmon,11 -sellevel,6 -addc,273.15 -selyear,1850/3849 thetao_Omon_mpige_control.nc thetao_Omon_mpige_control_nov.nc"
   ]
  },
  {
   "cell_type": "code",
   "execution_count": null,
   "id": "347d2077-5071-4c4e-9d71-7c3635d8c2f3",
   "metadata": {},
   "outputs": [],
   "source": [
    "CDO.remapbil(mpige_dir_slp_hist+\"psl_Amon_MPI-ESM_historical_all_i1850p3_185001-200512_traintest_DJF.nc\",input=mpige_dir_thetao_ctl+\"thetao_Omon_mpige_control_nov.nc\",output=mpige_dir_thetao_ctl+\"thetao_Omon_mpige_control_nov_atmogrid.nc\")\n",
    "\n",
    "CDO.remapbil(\"r96x48\",input=mpige_dir_thetao_ctl+\"thetao_Omon_mpige_control_nov_atmogrid.nc\",output=mpige_dir_thetao_ctl+\"thetao_Omon_mpige_control_nov_lowlow.nc\")\n",
    "CDO.setctomiss(0,input=\" -mul \"+mpige_dir+\"supermask_nov.nc\" +\" \"+mpige_dir_thetao_ctl+\"thetao_Omon_mpige_control_nov_lowlow.nc\",output=mpige_dir_thetao_ctl+\"thetao_Omon_mpige_control_nov_lowlow_supermasked.nc\")\n",
    "               \n",
    "CDO.sub(input=mpige_dir_thetao_ctl+\"thetao_Omon_mpige_control_nov_lowlow_supermasked.nc\"+\" -timmean \" + mpige_dir_thetao_hist+\"thetao7_OImon_traintest_nov_lowlow_supermasked.nc\", output=mpige_dir_thetao_ctl+\"thetao_Omon_mpige_control_nov_lowlow_supermasked_anoms.nc\")\n",
    "CDO.div(input=mpige_dir_thetao_ctl+\"thetao_Omon_mpige_control_nov_lowlow_supermasked_anoms.nc\" + \" \" + mpige_dir_thetao_hist+\"thetao7_OImon_traintest_nov_lowlow_supermasked_timstd.nc\", output=mpige_dir_thetao_ctl+\"thetao_control_nov_lowlow_supermasked_anomnorm.nc\")\n"
   ]
  },
  {
   "cell_type": "code",
   "execution_count": null,
   "id": "e4c08573-f081-4dfd-aa78-f2509f6ef04b",
   "metadata": {},
   "outputs": [],
   "source": [
    "CDO.remapbil(mpige_dir_slp_hist+\"psl_Amon_MPI-ESM_historical_all_i1850p3_185001-200512_traintest_DJF.nc\",input=mpige_dir_thetao_ctl+\"thetao_Omon_mpige_control_may.nc\",output=mpige_dir_thetao_ctl+\"thetao_Omon_mpige_control_may_atmogrid.nc\")\n",
    "\n",
    "CDO.remapbil(\"r96x48\",input=mpige_dir_thetao_ctl+\"thetao_Omon_mpige_control_may_atmogrid.nc\",output=mpige_dir_thetao_ctl+\"thetao_Omon_mpige_control_may_lowlow.nc\")\n",
    "CDO.setctomiss(0,input=\" -mul \"+mpige_dir+\"supermask_may.nc\" +\" \"+mpige_dir_thetao_ctl+\"thetao_Omon_mpige_control_may_lowlow.nc\",output=mpige_dir_thetao_ctl+\"thetao_Omon_mpige_control_may_lowlow_supermasked.nc\")\n",
    "               \n",
    "CDO.sub(input=mpige_dir_thetao_ctl+\"thetao_Omon_mpige_control_may_lowlow_supermasked.nc\"+\" -timmean \" + mpige_dir_thetao_hist+\"thetao7_OImon_traintest_may_lowlow_supermasked.nc\", output=mpige_dir_thetao_ctl+\"thetao_Omon_mpige_control_may_lowlow_supermasked_anoms.nc\")\n",
    "CDO.div(input=mpige_dir_thetao_ctl+\"thetao_Omon_mpige_control_may_lowlow_supermasked_anoms.nc\" + \" \" + mpige_dir_thetao_hist+\"thetao7_OImon_traintest_may_lowlow_supermasked_timstd.nc\", output=mpige_dir_thetao_ctl+\"thetao_control_may_lowlow_supermasked_anomnorm.nc\")\n"
   ]
  },
  {
   "cell_type": "markdown",
   "id": "e7b4f02a-2422-4b4f-a8db-e41724096999",
   "metadata": {},
   "source": [
    "# 20CRv3 preprocessing"
   ]
  },
  {
   "cell_type": "markdown",
   "id": "fb430706-3c06-4c06-9a6a-96d6227b0402",
   "metadata": {},
   "source": [
    "## 20CR T2M"
   ]
  },
  {
   "cell_type": "code",
   "execution_count": null,
   "id": "82c20c3f-2ebc-43c0-8a98-639abadea712",
   "metadata": {},
   "outputs": [],
   "source": [
    "# First we have to modulate the available monthly MPI GE netcdf files\n",
    "# we want to DJF NAO time series for each member\n",
    "tcr3_dir=\"/Volumes/SPARK/20crv3/\""
   ]
  },
  {
   "cell_type": "code",
   "execution_count": null,
   "id": "528da5a0-72ab-4170-ba8a-d2d224d6ccb5",
   "metadata": {},
   "outputs": [],
   "source": [
    "os.chdir(tcr3_dir)"
   ]
  },
  {
   "cell_type": "code",
   "execution_count": null,
   "id": "6f81fa9a-1957-4bd6-86a5-41914867517f",
   "metadata": {},
   "outputs": [],
   "source": [
    "!cdo -L -b 32 timselmean,3 -seltimestep,3/539 -selmon,1,2,12 -selname,air air.2m.mon.mean.nc air.2m.mon.mean_DJF.nc\n",
    "!cdo -b 32 remapbil,r96x48 air.2m.mon.mean_DJF.nc air.2m.mon.mean_DJF_lowlow.nc\n",
    "!cdo selyear,1851/1900 air.2m.mon.mean_DJF_lowlow.nc air.2m.mon.mean_DJF_18511900_lowlow.nc\n"
   ]
  },
  {
   "cell_type": "code",
   "execution_count": null,
   "id": "e226601d-a101-4ca1-a9f1-3d2650c7ab17",
   "metadata": {},
   "outputs": [],
   "source": [
    "CDO.sub(input=tcr3_dir+\"air.2m.mon.mean_DJF_18511900_lowlow.nc\"+\" -timmean \" + mpige_dir_t2m_hist+\"tas_Amon_MPI-ESM_historical_all_i1850p3_185001-200512_traintest_DJF_lowlow.nc\", output=tcr3_dir+\"air.2m.mon.mean_DJF_18511900_lowlow_anoms.nc\")\n",
    "CDO.div(input=tcr3_dir+\"air.2m.mon.mean_DJF_18511900_lowlow_anoms.nc\" + \" \" + mpige_dir_t2m_hist+\"tas_Amon_MPI-ESM_historical_all_i1850p3_185001-200512_traintest_DJF_lowlow_timstd.nc\", output=tcr3_dir+\"air.2m.mon.mean_DJF_18511900_lowlow_anomnorm.nc\")\n"
   ]
  },
  {
   "cell_type": "code",
   "execution_count": null,
   "id": "4bcd9ba0-db28-4f0a-8ec7-e3de768a7271",
   "metadata": {},
   "outputs": [],
   "source": [
    "!cdo -L -b 32 selmon,12 -selyear,1850/1899 -selname,air air.2m.mon.mean.nc air.2m.mon.mean_18501899_dec.nc\n",
    "!cdo -b 32 remapbil,r96x48 air.2m.mon.mean_18501899_dec.nc air.2m.mon.mean_18501899_dec_lowlow.nc\n"
   ]
  },
  {
   "cell_type": "code",
   "execution_count": null,
   "id": "38ce84cd-d5c2-471f-9f61-359708ecfbc2",
   "metadata": {},
   "outputs": [],
   "source": [
    "CDO.sub(input=tcr3_dir+\"air.2m.mon.mean_18501899_dec_lowlow.nc\"+\" -timmean \" + mpige_dir_t2m_hist+\"tas_Amon_MPI-ESM_historical_all_i1850p3_185001-200512_traintest_dec_lowlow.nc\", output=tcr3_dir+\"air.2m.mon.mean_dec_18501899_lowlow_anoms.nc\")\n",
    "CDO.div(input=tcr3_dir+\"air.2m.mon.mean_dec_18501899_lowlow_anoms.nc\" + \" \" + mpige_dir_t2m_hist+\"tas_Amon_MPI-ESM_historical_all_i1850p3_185001-200512_traintest_dec_lowlow_timstd.nc\", output=tcr3_dir+\"air.2m.mon.mean_18501899_dec_lowlow_anomnorm.nc\")\n"
   ]
  },
  {
   "cell_type": "code",
   "execution_count": null,
   "id": "fc6b3ffc-dd3f-4d1e-8b89-2e527c5489bd",
   "metadata": {},
   "outputs": [],
   "source": [
    "!cdo -L -b 32 selmon,1 -selyear,1851/1900 -selname,air air.2m.mon.mean.nc air.2m.mon.mean_18511900_jan.nc\n",
    "!cdo -b 32 remapbil,r96x48 air.2m.mon.mean_18511900_jan.nc air.2m.mon.mean_18511900_jan_lowlow.nc\n"
   ]
  },
  {
   "cell_type": "code",
   "execution_count": null,
   "id": "c0ee13b8-3150-43d8-986c-4304be5c63f3",
   "metadata": {},
   "outputs": [],
   "source": [
    "CDO.sub(input=tcr3_dir+\"air.2m.mon.mean_18511900_jan_lowlow.nc\"+\" -timmean \" + mpige_dir_t2m_hist+\"tas_Amon_MPI-ESM_historical_all_i1850p3_185001-200512_traintest_jan_lowlow.nc\", output=tcr3_dir+\"air.2m.mon.mean_jan_18511900_lowlow_anoms.nc\")\n",
    "CDO.div(input=tcr3_dir+\"air.2m.mon.mean_jan_18511900_lowlow_anoms.nc\" + \" \" + mpige_dir_t2m_hist+\"tas_Amon_MPI-ESM_historical_all_i1850p3_185001-200512_traintest_jan_lowlow_timstd.nc\", output=tcr3_dir+\"air.2m.mon.mean_18511900_jan_lowlow_anomnorm.nc\")\n"
   ]
  },
  {
   "cell_type": "code",
   "execution_count": null,
   "id": "f5764fda-d8c9-41b8-8efe-769aa9f7046d",
   "metadata": {},
   "outputs": [],
   "source": [
    "!cdo -L -b 32 selmon,2 -selyear,1851/1900 -selname,air air.2m.mon.mean.nc air.2m.mon.mean_18511900_feb.nc\n",
    "!cdo -b 32 remapbil,r96x48 air.2m.mon.mean_18511900_feb.nc air.2m.mon.mean_18511900_feb_lowlow.nc\n"
   ]
  },
  {
   "cell_type": "code",
   "execution_count": null,
   "id": "911e5112-c307-404e-ad7b-ad3ba1661ca3",
   "metadata": {},
   "outputs": [],
   "source": [
    "CDO.sub(input=tcr3_dir+\"air.2m.mon.mean_18511900_feb_lowlow.nc\"+\" -timmean \" + mpige_dir_t2m_hist+\"tas_Amon_MPI-ESM_historical_all_i1850p3_185001-200512_traintest_feb_lowlow.nc\", output=tcr3_dir+\"air.2m.mon.mean_feb_18511900_lowlow_anoms.nc\")\n",
    "CDO.div(input=tcr3_dir+\"air.2m.mon.mean_feb_18511900_lowlow_anoms.nc\" + \" \" + mpige_dir_t2m_hist+\"tas_Amon_MPI-ESM_historical_all_i1850p3_185001-200512_traintest_feb_lowlow_timstd.nc\", output=tcr3_dir+\"air.2m.mon.mean_18511900_feb_lowlow_anomnorm.nc\")\n"
   ]
  },
  {
   "cell_type": "code",
   "execution_count": null,
   "id": "cf8a023f-a4e9-49d1-8bf3-dd3bba106ced",
   "metadata": {},
   "outputs": [],
   "source": [
    "!cdo -L -b 32 yearmean -selmon,6,7,8  -selyear,1850/1899 -selname,air air.2m.mon.mean.nc air.2m.mon.mean_18501899_JJA.nc\n",
    "!cdo -b 32 remapbil,r96x48 air.2m.mon.mean_18501899_JJA.nc air.2m.mon.mean_18501899_JJA_lowlow.nc\n"
   ]
  },
  {
   "cell_type": "code",
   "execution_count": null,
   "id": "cb717f82-f35d-49ca-a631-4656cb709216",
   "metadata": {},
   "outputs": [],
   "source": [
    "CDO.sub(input=tcr3_dir+\"air.2m.mon.mean_18501899_JJA_lowlow.nc\"+\" -timmean \" + mpige_dir_t2m_hist+\"tas_Amon_MPI-ESM_historical_all_i1850p3_185001-200512_traintest_JJA_lowlow.nc\", output=tcr3_dir+\"air.2m.mon.mean_18501899_JJA_lowlow_anoms.nc\")\n",
    "CDO.div(input=tcr3_dir+\"air.2m.mon.mean_18501899_JJA_lowlow_anoms.nc\" + \" \" + mpige_dir_t2m_hist+\"tas_Amon_MPI-ESM_historical_all_i1850p3_185001-200512_traintest_JJA_lowlow_timstd.nc\", output=tcr3_dir+\"air.2m.mon.mean_18501899_JJA_lowlow_anomnorm.nc\")\n"
   ]
  },
  {
   "cell_type": "code",
   "execution_count": null,
   "id": "7bf351c8-3a10-4559-80a7-c3800d6e45b9",
   "metadata": {},
   "outputs": [],
   "source": [
    "!cdo -L -b 32 selmon,6 -selyear,1850/1899 -selname,air air.2m.mon.mean.nc air.2m.mon.mean_18501899_jun.nc\n",
    "!cdo -b 32 remapbil,r96x48 air.2m.mon.mean_18501899_jun.nc air.2m.mon.mean_18501899_jun_lowlow.nc"
   ]
  },
  {
   "cell_type": "code",
   "execution_count": null,
   "id": "2af22583-c349-4e4d-97d7-f9bbe7cef422",
   "metadata": {},
   "outputs": [],
   "source": [
    "CDO.sub(input=tcr3_dir+\"air.2m.mon.mean_18501899_jun_lowlow.nc\"+\" -timmean \" + mpige_dir_t2m_hist+\"tas_Amon_MPI-ESM_historical_all_i1850p3_185001-200512_traintest_jun_lowlow.nc\", output=tcr3_dir+\"air.2m.mon.mean_18501899_jun_lowlow_anoms.nc\")\n",
    "CDO.div(input=tcr3_dir+\"air.2m.mon.mean_18501899_jun_lowlow_anoms.nc\" + \" \" + mpige_dir_t2m_hist+\"tas_Amon_MPI-ESM_historical_all_i1850p3_185001-200512_traintest_jun_lowlow_timstd.nc\", output=tcr3_dir+\"air.2m.mon.mean_18501899_jun_lowlow_anomnorm.nc\")\n"
   ]
  },
  {
   "cell_type": "code",
   "execution_count": null,
   "id": "48097a71-e383-41ca-ac97-b9e58813dbfe",
   "metadata": {},
   "outputs": [],
   "source": [
    "!cdo -L -b 32 selmon,7 -selyear,1850/1899 -selname,air air.2m.mon.mean.nc air.2m.mon.mean_18501899_jul.nc\n",
    "!cdo -b 32 remapbil,r96x48 air.2m.mon.mean_18501899_jul.nc air.2m.mon.mean_18501899_jul_lowlow.nc"
   ]
  },
  {
   "cell_type": "code",
   "execution_count": null,
   "id": "e9678e7d-53e7-442f-9f1a-c0581a497fd0",
   "metadata": {},
   "outputs": [],
   "source": [
    "CDO.sub(input=tcr3_dir+\"air.2m.mon.mean_18501899_jul_lowlow.nc\"+\" -timmean \" + mpige_dir_t2m_hist+\"tas_Amon_MPI-ESM_historical_all_i1850p3_185001-200512_traintest_jul_lowlow.nc\", output=tcr3_dir+\"air.2m.mon.mean_18501899_jul_lowlow_anoms.nc\")\n",
    "CDO.div(input=tcr3_dir+\"air.2m.mon.mean_18501899_jul_lowlow_anoms.nc\" + \" \" + mpige_dir_t2m_hist+\"tas_Amon_MPI-ESM_historical_all_i1850p3_185001-200512_traintest_jul_lowlow_timstd.nc\", output=tcr3_dir+\"air.2m.mon.mean_18501899_jul_lowlow_anomnorm.nc\")\n"
   ]
  },
  {
   "cell_type": "code",
   "execution_count": null,
   "id": "18f8b9ab-1593-4cb9-a1a9-85301758d93a",
   "metadata": {},
   "outputs": [],
   "source": [
    "!cdo -L -b 32 selmon,8 -selyear,1850/1899 -selname,air air.2m.mon.mean.nc air.2m.mon.mean_18501899_aug.nc\n",
    "!cdo -b 32 remapbil,r96x48 air.2m.mon.mean_18501899_aug.nc air.2m.mon.mean_18501899_aug_lowlow.nc"
   ]
  },
  {
   "cell_type": "code",
   "execution_count": null,
   "id": "bede2898-a6bb-4fb6-86df-4aa5744f8a0d",
   "metadata": {},
   "outputs": [],
   "source": [
    "CDO.sub(input=tcr3_dir+\"air.2m.mon.mean_18501899_aug_lowlow.nc\"+\" -timmean \" + mpige_dir_t2m_hist+\"tas_Amon_MPI-ESM_historical_all_i1850p3_185001-200512_traintest_aug_lowlow.nc\", output=tcr3_dir+\"air.2m.mon.mean_18501899_aug_lowlow_anoms.nc\")\n",
    "CDO.div(input=tcr3_dir+\"air.2m.mon.mean_18501899_aug_lowlow_anoms.nc\" + \" \" + mpige_dir_t2m_hist+\"tas_Amon_MPI-ESM_historical_all_i1850p3_185001-200512_traintest_aug_lowlow_timstd.nc\", output=tcr3_dir+\"air.2m.mon.mean_18501899_aug_lowlow_anomnorm.nc\")\n"
   ]
  },
  {
   "cell_type": "code",
   "execution_count": null,
   "id": "63500232-9093-445e-97e7-3a7a6bdb640f",
   "metadata": {},
   "outputs": [],
   "source": [
    "## 20th century for evaluation"
   ]
  },
  {
   "cell_type": "code",
   "execution_count": null,
   "id": "9f7b35bb-90cb-409b-836e-0585776bb742",
   "metadata": {},
   "outputs": [],
   "source": [
    "!cdo selyear,1901/2015 air.2m.mon.mean_DJF_lowlow.nc air.2m.mon.mean_DJF_19012015_lowlow.nc\n",
    "!cdo -L -b 32 div -sub air.2m.mon.mean_DJF_19012015_lowlow.nc -timmean air.2m.mon.mean_DJF_19012015_lowlow.nc -timstd air.2m.mon.mean_DJF_19012015_lowlow.nc air.2m.mon.mean_DJF_19012015_lowlow_anomnorm.nc"
   ]
  },
  {
   "cell_type": "code",
   "execution_count": null,
   "id": "7604fa7a-2537-4870-8c2c-d8c255ba5af0",
   "metadata": {},
   "outputs": [],
   "source": [
    "!cdo -L -b 32 selmon,12 -selyear,1900/2014 -selname,air air.2m.mon.mean.nc air.2m.mon.mean_19002014_dec.nc\n",
    "!cdo -b 32 remapbil,r96x48 air.2m.mon.mean_19002014_dec.nc air.2m.mon.mean_19002014_dec_lowlow.nc\n",
    "!cdo -L -b 32 div -sub air.2m.mon.mean_19002014_dec_lowlow.nc -timmean air.2m.mon.mean_19002014_dec_lowlow.nc -timstd air.2m.mon.mean_19002014_dec_lowlow.nc air.2m.mon.mean_19002014_dec_lowlow_anomnorm.nc"
   ]
  },
  {
   "cell_type": "code",
   "execution_count": null,
   "id": "0607dac8-208d-4947-83fe-58bee17a247e",
   "metadata": {},
   "outputs": [],
   "source": [
    "!cdo -L -b 32 selmon,1 -selyear,1901/2015 -selname,air air.2m.mon.mean.nc air.2m.mon.mean_19012015_jan.nc\n",
    "!cdo -b 32 remapbil,r96x48 air.2m.mon.mean_19012015_jan.nc air.2m.mon.mean_19012015_jan_lowlow.nc\n",
    "!cdo -L -b 32 div -sub air.2m.mon.mean_19012015_jan_lowlow.nc -timmean air.2m.mon.mean_19012015_jan_lowlow.nc -timstd air.2m.mon.mean_19012015_jan_lowlow.nc air.2m.mon.mean_19012015_jan_lowlow_anomnorm.nc"
   ]
  },
  {
   "cell_type": "code",
   "execution_count": null,
   "id": "cb0a0c3b-1729-446b-834e-7f8e6442c820",
   "metadata": {},
   "outputs": [],
   "source": [
    "!cdo -L -b 32 selmon,2 -selyear,1901/2015 -selname,air air.2m.mon.mean.nc air.2m.mon.mean_19012015_feb.nc\n",
    "!cdo -b 32 remapbil,r96x48 air.2m.mon.mean_19012015_feb.nc air.2m.mon.mean_19012015_feb_lowlow.nc\n",
    "!cdo -L -b 32 div -sub air.2m.mon.mean_19012015_feb_lowlow.nc -timmean air.2m.mon.mean_19012015_feb_lowlow.nc -timstd air.2m.mon.mean_19012015_feb_lowlow.nc air.2m.mon.mean_19012015_feb_lowlow_anomnorm.nc"
   ]
  },
  {
   "cell_type": "code",
   "execution_count": null,
   "id": "47b36001-5639-467b-a968-36f1374249ed",
   "metadata": {},
   "outputs": [],
   "source": [
    "!cdo -L -b 32 yearmean -selmon,6,7,8  -selyear,1900/2015 -selname,air air.2m.mon.mean.nc air.2m.mon.mean_19002015_JJA.nc\n",
    "!cdo -b 32 remapbil,r96x48 air.2m.mon.mean_19002015_JJA.nc air.2m.mon.mean_19002015_JJA_lowlow.nc\n",
    "!cdo -L -b 32 div -sub air.2m.mon.mean_19002015_JJA_lowlow.nc -timmean air.2m.mon.mean_19002015_JJA_lowlow.nc -timstd air.2m.mon.mean_19002015_JJA_lowlow.nc air.2m.mon.mean_19002015_JJA_lowlow_anomnorm.nc"
   ]
  },
  {
   "cell_type": "code",
   "execution_count": null,
   "id": "516c53f8-5f0d-4c07-8cb0-38718367499b",
   "metadata": {},
   "outputs": [],
   "source": [
    "!cdo -L -b 32 selmon,6  -selyear,1900/2015 -selname,air air.2m.mon.mean.nc air.2m.mon.mean_19002015_jun.nc\n",
    "!cdo -b 32 remapbil,r96x48 air.2m.mon.mean_19002015_jun.nc air.2m.mon.mean_19002015_jun_lowlow.nc\n",
    "!cdo -L -b 32 div -sub air.2m.mon.mean_19002015_jun_lowlow.nc -timmean air.2m.mon.mean_19002015_jun_lowlow.nc -timstd air.2m.mon.mean_19002015_jun_lowlow.nc air.2m.mon.mean_19002015_jun_lowlow_anomnorm.nc"
   ]
  },
  {
   "cell_type": "code",
   "execution_count": null,
   "id": "3c8cc547-fcd8-4a45-bf33-82c0795e8202",
   "metadata": {},
   "outputs": [],
   "source": [
    "!cdo -L -b 32 selmon,7  -selyear,1900/2015 -selname,air air.2m.mon.mean.nc air.2m.mon.mean_19002015_jul.nc\n",
    "!cdo -b 32 remapbil,r96x48 air.2m.mon.mean_19002015_jul.nc air.2m.mon.mean_19002015_jul_lowlow.nc\n",
    "!cdo -L -b 32 div -sub air.2m.mon.mean_19002015_jul_lowlow.nc -timmean air.2m.mon.mean_19002015_jul_lowlow.nc -timstd air.2m.mon.mean_19002015_jul_lowlow.nc air.2m.mon.mean_19002015_jul_lowlow_anomnorm.nc"
   ]
  },
  {
   "cell_type": "code",
   "execution_count": null,
   "id": "6a546d21-f2d0-40bb-903f-b8de50646b68",
   "metadata": {},
   "outputs": [],
   "source": [
    "!cdo -L -b 32 selmon,8 -selyear,1900/2015 -selname,air air.2m.mon.mean.nc air.2m.mon.mean_19002015_aug.nc\n",
    "!cdo -b 32 remapbil,r96x48 air.2m.mon.mean_19002015_aug.nc air.2m.mon.mean_19002015_aug_lowlow.nc\n",
    "!cdo -L -b 32 div -sub air.2m.mon.mean_19002015_aug_lowlow.nc -timmean air.2m.mon.mean_19002015_aug_lowlow.nc -timstd air.2m.mon.mean_19002015_aug_lowlow.nc air.2m.mon.mean_19002015_aug_lowlow_anomnorm.nc"
   ]
  },
  {
   "cell_type": "markdown",
   "id": "e846ec77-aafc-4e90-8cef-7c85fd533c37",
   "metadata": {},
   "source": [
    "## 20CR SLP"
   ]
  },
  {
   "cell_type": "code",
   "execution_count": null,
   "id": "c0ec193c-9525-4339-ae31-a3ca11aeccbe",
   "metadata": {},
   "outputs": [],
   "source": [
    "!cdo -L -b 32 timselmean,3 -seltimestep,3/539 -selmon,1,2,12 -selname,prmsl prmsl.mon.mean.nc prmsl.mon.mean_DJF.nc\n",
    "!cdo -b 32 remapbil,r96x48 prmsl.mon.mean_DJF.nc prmsl.mon.mean_DJF_lowlow.nc\n",
    "!cdo selyear,1851/1900 prmsl.mon.mean_DJF_lowlow.nc prmsl.mon.mean_DJF_18511900_lowlow.nc\n"
   ]
  },
  {
   "cell_type": "code",
   "execution_count": null,
   "id": "856e7019-0ec2-485f-a82b-a1641290ccdb",
   "metadata": {},
   "outputs": [],
   "source": [
    "CDO.sub(input=tcr3_dir+\"prmsl.mon.mean_DJF_18511900_lowlow.nc\"+\" -timmean \" + mpige_dir_slp_hist+\"psl_Amon_MPI-ESM_historical_all_i1850p3_185001-200512_traintest_DJF_lowlow.nc\", output=tcr3_dir+\"prmsl.mon.mean_DJF_18511900_lowlow_anoms.nc\")\n",
    "CDO.div(input=tcr3_dir+\"prmsl.mon.mean_DJF_18511900_lowlow_anoms.nc\" + \" \" + mpige_dir_slp_hist+\"psl_Amon_MPI-ESM_historical_all_i1850p3_185001-200512_traintest_DJF_lowlow_timstd.nc\", output=tcr3_dir+\"prmsl.mon.mean_DJF_18511900_lowlow_anomnorm.nc\")\n"
   ]
  },
  {
   "cell_type": "code",
   "execution_count": null,
   "id": "c22c6f7c-f5ec-4b3c-a53f-29173406da62",
   "metadata": {},
   "outputs": [],
   "source": [
    "!cdo -L -b 32 yearmean -selmon,6,7,8  -selyear,1850/1899 -selname,prmsl prmsl.mon.mean.nc prmsl.mon.mean_18501899_JJA.nc\n",
    "!cdo -b 32 remapbil,r96x48 prmsl.mon.mean_18501899_JJA.nc prmsl.mon.mean_18501899_JJA_lowlow.nc\n"
   ]
  },
  {
   "cell_type": "code",
   "execution_count": null,
   "id": "54493161-b6b7-4c30-a737-61b14082230f",
   "metadata": {},
   "outputs": [],
   "source": [
    "CDO.sub(input=tcr3_dir+\"prmsl.mon.mean_18501899_JJA_lowlow.nc\"+\" -timmean \" + mpige_dir_slp_hist+\"psl_Amon_MPI-ESM_historical_all_i1850p3_185001-200512_traintest_JJA_lowlow.nc\", output=tcr3_dir+\"prmsl.mon.mean_18501899_JJA_lowlow_anoms.nc\")\n",
    "CDO.div(input=tcr3_dir+\"prmsl.mon.mean_18501899_JJA_lowlow_anoms.nc\" + \" \" + mpige_dir_slp_hist+\"psl_Amon_MPI-ESM_historical_all_i1850p3_185001-200512_traintest_JJA_lowlow_timstd.nc\", output=tcr3_dir+\"prmsl.mon.mean_18501899_JJA_lowlow_anomnorm.nc\")\n"
   ]
  },
  {
   "cell_type": "code",
   "execution_count": null,
   "id": "e23e2f6c-ef64-465a-b949-7928db079f3d",
   "metadata": {},
   "outputs": [],
   "source": [
    "## 20th century for evaluation"
   ]
  },
  {
   "cell_type": "code",
   "execution_count": null,
   "id": "43bcf674-3b9c-48b6-8191-1e33eda2e4a3",
   "metadata": {},
   "outputs": [],
   "source": [
    "!cdo selyear,1901/2015 prmsl.mon.mean_DJF_lowlow.nc prmsl.mon.mean_DJF_19012015_lowlow.nc\n",
    "!cdo -L -b 32 div -sub prmsl.mon.mean_DJF_19012015_lowlow.nc -timmean prmsl.mon.mean_DJF_19012015_lowlow.nc -timstd prmsl.mon.mean_DJF_19012015_lowlow.nc prmsl.mon.mean_DJF_19012015_lowlow_anomnorm.nc"
   ]
  },
  {
   "cell_type": "code",
   "execution_count": null,
   "id": "b779a250-0f53-428c-859c-7bac6d2abc7e",
   "metadata": {},
   "outputs": [],
   "source": [
    "!cdo -L -b 32 yearmean -selmon,6,7,8  -selyear,1900/2015 -selname,prmsl prmsl.mon.mean.nc prmsl.mon.mean_19002015_JJA.nc\n",
    "!cdo -b 32 remapbil,r96x48 prmsl.mon.mean_19002015_JJA.nc prmsl.mon.mean_19002015_JJA_lowlow.nc\n",
    "!cdo -L -b 32 div -sub prmsl.mon.mean_19002015_JJA_lowlow.nc -timmean prmsl.mon.mean_19002015_JJA_lowlow.nc -timstd prmsl.mon.mean_19002015_JJA_lowlow.nc prmsl.mon.mean_19002015_JJA_lowlow_anomnorm.nc"
   ]
  },
  {
   "cell_type": "markdown",
   "id": "65919dac-112e-477c-92b2-ad2fa252382c",
   "metadata": {},
   "source": [
    "## CODA SST"
   ]
  },
  {
   "cell_type": "code",
   "execution_count": null,
   "id": "dc37be35-94f0-462a-a9b2-7c4ad9d26777",
   "metadata": {},
   "outputs": [],
   "source": [
    "!cdo -L -b 32 selmon,5 -addc,273.15 -selyear,1850/2015 -selname,sst sst.mon.mean.nc sst.mon.mean_1850_may.nc\n",
    "!cdo remapbil,r96x48c sst.mon.mean_1850_may.nc sst.mon.mean_1850_may_lowlow.nc\n",
    "!cdo selyear,1850/1899 sst.mon.mean_1850_may_lowlow.nc sst.mon.mean_18501899_may_lowlow.nc\n",
    "!cdo -L -b 32 setctomiss,0 -mul supermask_may.nc sst.mon.mean_18501899_may_lowlow.nc sst.mon.mean_18501899_may_lowlow_supermasked.nc"
   ]
  },
  {
   "cell_type": "code",
   "execution_count": null,
   "id": "bb266467-e801-4c20-b38d-81d363d1099a",
   "metadata": {},
   "outputs": [],
   "source": [
    "CDO.sub(input=tcr3_dir+\"sst.mon.mean_18501899_may_lowlow_supermasked.nc\"+\" -timmean \" + mpige_dir_thetao_hist+\"thetao7_OImon_traintest_nov_lowlow_supermasked.nc\", output=tcr3_dir+\"sst.mon.mean_18501899_may_lowlow_supermasked_anoms.nc\")\n",
    "CDO.div(input=tcr3_dir+\"sst.mon.mean_18501899_may_lowlow_supermasked_anoms.nc\" + \" \" + mpige_dir_thetao_hist+\"thetao7_OImon_traintest_nov_lowlow_supermasked_timstd.nc\", output=tcr3_dir+\"sst.mon.mean_18501899_may_lowlow_supermasked_anomnorm.nc\")\n"
   ]
  },
  {
   "cell_type": "code",
   "execution_count": null,
   "id": "c6ece0ca-5b07-480c-8a2b-635860b5c912",
   "metadata": {},
   "outputs": [],
   "source": [
    "!cdo -L -b 32 selmon,11 -addc,273.15 -selyear,1850/2015 -selname,sst sst.mon.mean.nc sst.mon.mean_1850_nov.nc\n",
    "!cdo remapbil,r96x48c sst.mon.mean_1850_nov.nc sst.mon.mean_1850_nov_lowlow.nc\n",
    "!cdo selyear,1850/1899 sst.mon.mean_1850_may_lowlow.nc sst.mon.mean_18501899_nov_lowlow.nc\n",
    "!cdo -L -b 32 setctomiss,0 -mul supermask_nov.nc sst.mon.mean_18501899_nov_lowlow.nc sst.mon.mean_18501899_nov_lowlow_supermasked.nc"
   ]
  },
  {
   "cell_type": "code",
   "execution_count": null,
   "id": "96bea9a0-5a06-4c08-8d08-c7e8b20e3b90",
   "metadata": {},
   "outputs": [],
   "source": [
    "CDO.sub(input=tcr3_dir+\"sst.mon.mean_18501899_nov_lowlow_supermasked.nc\"+\" -timmean \" + mpige_dir_thetao_hist+\"thetao7_OImon_traintest_nov_lowlow_supermasked.nc\", output=tcr3_dir+\"sst.mon.mean_18501899_nov_lowlow_supermasked_anoms.nc\")\n",
    "CDO.div(input=tcr3_dir+\"sst.mon.mean_18501899_nov_lowlow_supermasked_anoms.nc\" + \" \" + mpige_dir_thetao_hist+\"thetao7_OImon_traintest_nov_lowlow_supermasked_timstd.nc\", output=tcr3_dir+\"sst.mon.mean_18501899_nov_lowlow_supermasked_anomnorm.nc\")\n"
   ]
  },
  {
   "cell_type": "code",
   "execution_count": null,
   "id": "0b2b647f-d3dc-405d-98d4-d6a7bd09576b",
   "metadata": {},
   "outputs": [],
   "source": [
    "## 20th century for evaluation"
   ]
  },
  {
   "cell_type": "code",
   "execution_count": null,
   "id": "521fd5d4-8203-4e8b-9f6c-c30e258dd7ae",
   "metadata": {},
   "outputs": [],
   "source": [
    "!cdo selyear,1900/2015 sst.mon.mean_1850_may_lowlow.nc sst.mon.mean_19002015_may_lowlow.nc\n",
    "!cdo -L -b 32 setctomiss,0 -mul supermask_may.nc sst.mon.mean_19002015_may_lowlow.nc sst.mon.mean_19002015_may_lowlow_supermasked.nc\n",
    "!cdo -L -b 32 div -sub sst.mon.mean_19002015_may_lowlow_supermasked.nc -timmean sst.mon.mean_19002015_may_lowlow_supermasked.nc -timstd sst.mon.mean_19002015_may_lowlow_supermasked.nc sst.mon.mean_19002015_may_lowlow_supermasked_anomnorm.nc"
   ]
  },
  {
   "cell_type": "code",
   "execution_count": null,
   "id": "c6746bc2-fa5a-4aa5-90c5-14315cde3a45",
   "metadata": {},
   "outputs": [],
   "source": [
    "\n",
    "!cdo selyear,1900/2014 sst.mon.mean_1850_may_lowlow.nc sst.mon.mean_19002014_nov_lowlow.nc\n",
    "!cdo -L -b 32 setctomiss,0 -mul supermask_nov.nc sst.mon.mean_19002014_nov_lowlow.nc sst.mon.mean_19002014_nov_lowlow_supermasked.nc\n",
    "!cdo -L -b 32 div -sub sst.mon.mean_19002014_nov_lowlow_supermasked.nc -timmean sst.mon.mean_19002014_nov_lowlow_supermasked.nc -timstd sst.mon.mean_19002014_nov_lowlow_supermasked.nc sst.mon.mean_19002014_nov_lowlow_supermasked_anomnorm.nc"
   ]
  },
  {
   "cell_type": "markdown",
   "id": "c4851036-a60f-47cc-be21-30f9c2dc49bd",
   "metadata": {},
   "source": []
  },
  {
   "cell_type": "markdown",
   "id": "febfc4ab-f929-41dd-9ac8-24353e465296",
   "metadata": {},
   "source": []
  },
  {
   "cell_type": "code",
   "execution_count": null,
   "id": "b4f5bfda-b579-415a-8708-749e3abdca3a",
   "metadata": {},
   "outputs": [],
   "source": []
  }
 ],
 "metadata": {
  "kernelspec": {
   "display_name": "imac311",
   "language": "python",
   "name": "imac311"
  },
  "language_info": {
   "codemirror_mode": {
    "name": "ipython",
    "version": 3
   },
   "file_extension": ".py",
   "mimetype": "text/x-python",
   "name": "python",
   "nbconvert_exporter": "python",
   "pygments_lexer": "ipython3",
   "version": "3.11.5"
  }
 },
 "nbformat": 4,
 "nbformat_minor": 5
}
